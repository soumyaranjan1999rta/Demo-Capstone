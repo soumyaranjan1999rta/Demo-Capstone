{
  "nbformat": 4,
  "nbformat_minor": 0,
  "metadata": {
    "colab": {
      "name": "Sample ML Telecom Churn Prediction Demo Project.ipynb",
      "private_outputs": true,
      "provenance": [],
      "collapsed_sections": [
        "ILM16xV1PD8m",
        "bqVZBxrvPD8n",
        "yQaldy8SH6Dl",
        "mDgbUHAGgjLW",
        "HhfV-JJviCcP",
        "Y3lxredqlCYt",
        "3RnN4peoiCZX",
        "x71ZqKXriCWQ",
        "7hBIi_osiCS2",
        "JlHwYmJAmNHm",
        "35m5QtbWiB9F",
        "PoPl-ycgm1ru",
        "H0kj-8xxnORC",
        "nA9Y7ga8ng1Z",
        "PBTbrJXOngz2",
        "u3PMJOP6ngxN",
        "dauF4eBmngu3",
        "bKJF3rekwFvQ",
        "MSa1f5Uengrz",
        "GF8Ens_Soomf",
        "0wOQAZs5pc--",
        "K5QZ13OEpz2H",
        "lQ7QKXXCp7Bj",
        "448CDAPjqfQr",
        "xJivPyE8q_2k",
        "azX1PEddq_20",
        "iyKleWeyq_20",
        "8-UX51ofq_21",
        "Of3PJYNbrGff",
        "w8bcvZxarGfg",
        "HZ6txCBBrGfh",
        "jbkhcZqdrGfh",
        "riLp7y9brHca",
        "Uw0GT_uHrHcb",
        "qTEiGUKorHcc",
        "1Qw8mtL3rHcd",
        "xnMZvg2orIPt",
        "mwHQVoIQrIPu",
        "Kwy5hImkrIPu",
        "0sjxqkK0rIPv",
        "y7avNpR9HL5z",
        "Z5yPuW4iHL50",
        "3vIdo55JHL50",
        "IlhlbgNBHL51",
        "oQ-pHCWMHO92",
        "DEMFeE18HO92",
        "MR3eS7xTHO93",
        "JmI1Y4YbHO93",
        "XGShqbS2HSAY",
        "B4XxyvTzHSAZ",
        "Mal1wQlpHSAZ",
        "BgP_e3WlHSAZ",
        "I3aNiIh9fKqZ",
        "hTF1e9PwfKqa",
        "1xrBLU6IfKqa",
        "yiLHMWFSfKqb",
        "NC_X3p0fY2L0",
        "UV0SzAkaZNRQ",
        "YPEH6qLeZNRQ",
        "q29F0dvdveiT",
        "EXh0U9oCveiU",
        "22aHeOlLveiV",
        "g-ATYxFrGrvw",
        "Yfr_Vlr8HBkt",
        "8yEUt7NnHlrM",
        "tEA2Xm5dHt1r",
        "I79__PHVH19G",
        "Ou-I18pAyIpj",
        "fF3858GYyt-u",
        "jLrtcv83OEmf",
        "5djnGilGOEmg",
        "DADo_qtwOEmg",
        "0VL2QIwzOEmh",
        "69qjvWOxOEmh",
        "FqZJ_xAgOH3o",
        "pE65w-N1OH3p",
        "OISwWHvhOH3p",
        "rheC10M4OH3q",
        "-CtoKDX7OH3q",
        "yLjJCtPM0KBk",
        "xiyOF9F70UgQ",
        "7wuGOrhz0itI",
        "id1riN9m0vUs",
        "578E2V7j08f6",
        "89xtkJwZ18nB",
        "67NQN5KX2AMe",
        "Iwf50b-R2tYG",
        "GMQiZwjn3iu7",
        "WVIkgGqN3qsr",
        "XkPnILGE3zoT",
        "Hlsf0x5436Go",
        "mT9DMSJo4nBL",
        "c49ITxTc407N",
        "OeJFEK0N496M",
        "9ExmJH0g5HBk",
        "cJNqERVU536h",
        "k5UmGsbsOxih",
        "T0VqWOYE6DLQ",
        "qBMux9mC6MCf",
        "-oLEiFgy-5Pf",
        "C74aWNz2AliB",
        "2DejudWSA-a0",
        "pEMng2IbBLp7",
        "rAdphbQ9Bhjc",
        "TNVZ9zx19K6k",
        "nqoHp30x9hH9",
        "rMDnDkt2B6du",
        "yiiVWRdJDDil",
        "1UUpS68QDMuG",
        "kexQrXU-DjzY",
        "T5CmagL3EC8N",
        "BhH2vgX9EjGr",
        "qjKvONjwE8ra",
        "P1XJ9OREExlT",
        "VFOzZv6IFROw",
        "TIqpNgepFxVj",
        "VfCC591jGiD4",
        "peAK6Cc_HQeo",
        "khncImPpHcol",
        "wTe8K5rdYGV1",
        "yyzM232tatvC",
        "OMC09DFCbrEm",
        "dJ2tPlVmpsJ0",
        "JWYfwnehpsJ1",
        "-jK_YjpMpsJ2",
        "HAih1iBOpsJ2",
        "zVGeBEFhpsJ2",
        "Fze-IPXLpx6K",
        "7AN1z2sKpx6M",
        "9PIHJqyupx6M",
        "_-qAgymDpx6N",
        "Z-hykwinpx6N",
        "h_CCil-SKHpo",
        "cBFFvTBNJzUa",
        "HvGl1hHyA_VK",
        "gCX9965dhzqZ",
        "gIfDvo9L0UH2"
      ],
      "authorship_tag": "ABX9TyO1dLWCcf+cWVpy7oG1kR8s",
      "include_colab_link": true
    },
    "kernelspec": {
      "name": "python3",
      "display_name": "Python 3"
    },
    "language_info": {
      "name": "python"
    }
  },
  "cells": [
    {
      "cell_type": "markdown",
      "metadata": {
        "id": "view-in-github",
        "colab_type": "text"
      },
      "source": [
        "<a href=\"https://colab.research.google.com/github/soumyaranjan1999rta/Demo-Capstone/blob/main/Sample_ML_Telecom_Churn_Prediction_Demo_Project.ipynb\" target=\"_parent\"><img src=\"https://colab.research.google.com/assets/colab-badge.svg\" alt=\"Open In Colab\"/></a>"
      ]
    },
    {
      "cell_type": "markdown",
      "source": [
        "# **Project Name**    -  **Telecom Churn Prediction**\n",
        "\n"
      ],
      "metadata": {
        "id": "ILM16xV1PD8m"
      }
    },
    {
      "cell_type": "markdown",
      "source": [
        "##### **Project Type**    - Classification\n",
        "##### **Contribution**    - Individual\n"
      ],
      "metadata": {
        "id": "bqVZBxrvPD8n"
      }
    },
    {
      "cell_type": "markdown",
      "source": [
        "# **Problem Statement**\n"
      ],
      "metadata": {
        "id": "yQaldy8SH6Dl"
      }
    },
    {
      "cell_type": "markdown",
      "source": [
        "**BUSINESS PROBLEM OVERVIEW**\n",
        "\n",
        "\n",
        "Customer churn prediction is extremely important for any business as it recognizes the clients who are likely to stop using their services.\n",
        "\n",
        "In the telecom industry, customers are able to choose from multiple service providers and actively switch from one operator to another. In this highly competitive market, the telecommunications industry experiences an average of 15-25% annual churn rate. Given the fact that it costs 5-10 times more to acquire a new customer than to retain an existing one, customer retention has now become even more important than customer acquisition.\n",
        "\n",
        "For many incumbent operators, retaining high profitable customers is the number one business goal. To reduce customer churn, telecom companies need to predict which customers are at high risk of churn. In this project, you will analyse customer-level data of a leading telecom firm, do exploratory data analysis to identify the main indicators  why customers are leaving the company."
      ],
      "metadata": {
        "id": "jivUA-ONOwse"
      }
    },
    {
      "cell_type": "markdown",
      "source": [
        "# **General Guidelines** : -  "
      ],
      "metadata": {
        "id": "mDgbUHAGgjLW"
      }
    },
    {
      "cell_type": "markdown",
      "source": [
        "1.   Well-structured, formatted, and commented code is required. \n",
        "2.   Exception Handling, Production Grade Code & Deployment Ready Code will be a plus. Those students will be awarded some additional credits. \n",
        "     \n",
        "     The additional credits will have advantages over other students during Star Student selection.\n",
        "       \n",
        "             [ Note: - Deployment Ready Code is defined as, the whole .ipynb notebook should be executable in one go\n",
        "                       without a single error logged. ]\n",
        "\n",
        "3.   Each and every logic should have proper comments.\n",
        "4. You may add as many number of charts you want. Make Sure for each and every chart the following format should be answered.\n",
        "        \n",
        "\n",
        "```\n",
        "# Chart visualization code\n",
        "```\n",
        "            \n",
        "\n",
        "*   Why did you pick the specific chart?\n",
        "*   What is/are the insight(s) found from the chart?\n",
        "* Will the gained insights help creating a positive business impact? \n",
        "Are there any insights that lead to negative growth? Justify with specific reason.\n",
        "\n",
        "5. You have to create at least 15 logical & meaningful charts having important insights.\n",
        "\n",
        "\n",
        "[ Hints : - Do the Vizualization in  a structured way while following \"UBM\" Rule. \n",
        "\n",
        "U - Univariate Analysis,\n",
        "\n",
        "B - Bivariate Analysis (Numerical - Categorical, Numerical - Numerical, Categorical - Categorical)\n",
        "\n",
        "M - Multivariate Analysis\n",
        " ]\n",
        "\n",
        "\n",
        "\n",
        "\n",
        "\n",
        "6. You may add more ml algorithms for model creation. Make sure for each and every algorithm, the following format should be answered.\n",
        "\n",
        "\n",
        "*   Explain the ML Model used and it's performance using Evaluation metric Score Chart.\n",
        "\n",
        "\n",
        "*   Cross- Validation & Hyperparameter Tuning\n",
        "\n",
        "*   Have you seen any improvement? Note down the improvement with updates Evaluation metric Score Chart.\n",
        "\n",
        "*   Explain each evaluation metric's indication towards business and the business impact pf the ML model used.\n",
        "\n",
        "\n",
        "\n",
        "\n",
        "\n",
        "\n",
        "\n",
        "\n",
        "\n",
        "\n",
        "\n",
        "\n",
        "\n",
        "\n",
        "\n",
        "\n",
        "\n",
        "\n"
      ],
      "metadata": {
        "id": "ZrxVaUj-hHfC"
      }
    },
    {
      "cell_type": "markdown",
      "source": [
        "# ***Let's Begin !***"
      ],
      "metadata": {
        "id": "O_i_v8NEhb9l"
      }
    },
    {
      "cell_type": "markdown",
      "source": [
        "## ***1. Know Your Data***"
      ],
      "metadata": {
        "id": "HhfV-JJviCcP"
      }
    },
    {
      "cell_type": "markdown",
      "source": [
        "### Import Libraries"
      ],
      "metadata": {
        "id": "Y3lxredqlCYt"
      }
    },
    {
      "cell_type": "code",
      "source": [
        "# Import Libraries\n",
        "import numpy as np\n",
        "import pandas as pd\n",
        "from numpy import math\n",
        "from numpy import loadtxt\n",
        "import seaborn as sns\n",
        "import matplotlib.pyplot as plt\n",
        "%matplotlib inline\n",
        "from matplotlib import rcParams\n",
        "\n",
        "import numpy as np\n",
        "import seaborn as sns\n",
        "from scipy.stats import *\n",
        "import math\n",
        "\n",
        "from statsmodels.stats.outliers_influence import variance_inflation_factor\n",
        "from sklearn.preprocessing import StandardScaler\n",
        "from sklearn.model_selection import train_test_split\n",
        "from imblearn.over_sampling import SMOTE\n",
        "from sklearn.linear_model import LogisticRegression\n",
        "from sklearn.ensemble import RandomForestClassifier\n",
        "from sklearn.metrics import accuracy_score, confusion_matrix\n",
        "from sklearn import metrics\n",
        "from sklearn.metrics import roc_curve\n",
        "from sklearn.model_selection import GridSearchCV\n",
        "from sklearn.model_selection import RepeatedStratifiedKFold\n",
        "from xgboost import XGBClassifier\n",
        "from xgboost import XGBRFClassifier\n",
        "from sklearn.tree import export_graphviz\n",
        "\n",
        "\n",
        "\n",
        "import warnings\n",
        "warnings.filterwarnings('ignore')"
      ],
      "metadata": {
        "id": "M8Vqi-pPk-HR"
      },
      "execution_count": null,
      "outputs": []
    },
    {
      "cell_type": "code",
      "source": [
        "pip install shap==0.40.0"
      ],
      "metadata": {
        "id": "bYupnALByckm"
      },
      "execution_count": null,
      "outputs": []
    },
    {
      "cell_type": "code",
      "source": [
        "import shap \n",
        "import graphviz\n",
        "sns.set_style('darkgrid') "
      ],
      "metadata": {
        "id": "eCDp_IRGye8r"
      },
      "execution_count": null,
      "outputs": []
    },
    {
      "cell_type": "markdown",
      "source": [
        "### Dataset Loading"
      ],
      "metadata": {
        "id": "3RnN4peoiCZX"
      }
    },
    {
      "cell_type": "code",
      "source": [
        "# Load Dataset\n",
        "from google.colab import drive\n",
        "drive.mount('/content/drive')"
      ],
      "metadata": {
        "id": "4CkvbW_SlZ_R"
      },
      "execution_count": null,
      "outputs": []
    },
    {
      "cell_type": "code",
      "source": [
        "# Importing the dataset\n",
        "dataset = pd.read_csv('/content/drive/MyDrive/Capstone Project Templates/Demo Projects/Telecom Churn.csv')"
      ],
      "metadata": {
        "id": "CEhiayUv1809"
      },
      "execution_count": null,
      "outputs": []
    },
    {
      "cell_type": "markdown",
      "source": [
        "### Dataset First View"
      ],
      "metadata": {
        "id": "x71ZqKXriCWQ"
      }
    },
    {
      "cell_type": "code",
      "source": [
        "# Dataset First \n",
        "dataset.head()"
      ],
      "metadata": {
        "id": "LWNFOSvLl09H"
      },
      "execution_count": null,
      "outputs": []
    },
    {
      "cell_type": "markdown",
      "source": [
        "### Dataset Rows & Columns count"
      ],
      "metadata": {
        "id": "7hBIi_osiCS2"
      }
    },
    {
      "cell_type": "code",
      "source": [
        "# Dataset Rows & Columns \n",
        "dataset.shape"
      ],
      "metadata": {
        "id": "Kllu7SJgmLij"
      },
      "execution_count": null,
      "outputs": []
    },
    {
      "cell_type": "markdown",
      "source": [
        "### Dataset Information"
      ],
      "metadata": {
        "id": "JlHwYmJAmNHm"
      }
    },
    {
      "cell_type": "code",
      "source": [
        "# Dataset Info\n",
        "dataset.info()"
      ],
      "metadata": {
        "id": "e9hRXRi6meOf"
      },
      "execution_count": null,
      "outputs": []
    },
    {
      "cell_type": "markdown",
      "source": [
        "#### Duplicate Values"
      ],
      "metadata": {
        "id": "35m5QtbWiB9F"
      }
    },
    {
      "cell_type": "code",
      "source": [
        "# Dataset Duplicate Value Count\n",
        "len(dataset[dataset.duplicated()])"
      ],
      "metadata": {
        "id": "1sLdpKYkmox0"
      },
      "execution_count": null,
      "outputs": []
    },
    {
      "cell_type": "markdown",
      "source": [
        "#### Missing Values/Null Values"
      ],
      "metadata": {
        "id": "PoPl-ycgm1ru"
      }
    },
    {
      "cell_type": "code",
      "source": [
        "# Missing Values/Null Values Count\n",
        "print(dataset.isnull().sum())"
      ],
      "metadata": {
        "id": "GgHWkxvamxVg"
      },
      "execution_count": null,
      "outputs": []
    },
    {
      "cell_type": "code",
      "source": [
        "# Visualizing the missing values\n",
        "# Checking Null Value by plotting Heatmap\n",
        "sns.heatmap(dataset.isnull(), cbar=False)"
      ],
      "metadata": {
        "id": "3q5wnI3om9sJ"
      },
      "execution_count": null,
      "outputs": []
    },
    {
      "cell_type": "markdown",
      "source": [
        "### What did you know about your dataset?"
      ],
      "metadata": {
        "id": "H0kj-8xxnORC"
      }
    },
    {
      "cell_type": "markdown",
      "source": [
        "The dataset given is a dataset from Telecommunication industry, and we have to analysis the churn of customers and the insights behind it.\n",
        "\n",
        "Churn prediction is analytical studies on the possibility of a customer abandoning a product or service. The goal is to understand and take steps to change it before the costumer gives up the product or service.\n",
        "\n",
        "The above dataset has 3333 rows and 20 columns. There are no mising values and duplicate values in the dataset. "
      ],
      "metadata": {
        "id": "gfoNAAC-nUe_"
      }
    },
    {
      "cell_type": "markdown",
      "source": [
        "## ***2. Understanding Your Variables***"
      ],
      "metadata": {
        "id": "nA9Y7ga8ng1Z"
      }
    },
    {
      "cell_type": "code",
      "source": [
        "# Dataset Columns\n",
        "dataset.columns"
      ],
      "metadata": {
        "id": "n87BaXA_42-R"
      },
      "execution_count": null,
      "outputs": []
    },
    {
      "cell_type": "code",
      "source": [
        "# Dataset Describe\n",
        "dataset.describe(include='all')"
      ],
      "metadata": {
        "id": "DnOaZdaE5Q5t"
      },
      "execution_count": null,
      "outputs": []
    },
    {
      "cell_type": "markdown",
      "source": [
        "### Variables Description "
      ],
      "metadata": {
        "id": "PBTbrJXOngz2"
      }
    },
    {
      "cell_type": "markdown",
      "source": [
        "* **State                :**categorica for the 50 states\n",
        "\n",
        "* **Account Length       :**how long account has been active\n",
        "\n",
        "* **Area Code            :**Code Number of Area having some States included in each area code\n",
        "\n",
        "* **lntl Plan            :**Internat ional plan activated ( yes, no )\n",
        "\n",
        "* **VMail Plan           :**  ice Mail plan activated ( yes ,no )\n",
        "\n",
        "* **VMail Message        :**No.of voice mail messages\n",
        "\n",
        "* **Day Mins             :**Total day minutes used\n",
        "\n",
        "* **Day calls**         :Total day calls made\n",
        "\n",
        "* **Day Charge**         :Total day charge\n",
        "\n",
        "* **Eve Mins**          :Total evening minutes\n",
        "\n",
        "* **Eve Calls**          :Total evening calls\n",
        "\n",
        "* **Eve Charge**         :Total evening charge\n",
        "\n",
        "* **Night Mins**         :Total night minutes\n",
        "\n",
        "* **Night Calls**        :Total night calls\n",
        "\n",
        "* **Night Charge**      :Total night charge\n",
        "\n",
        "* **Intl Mins**         :Total International minutes used\n",
        "\n",
        "* **Intl Calls**         :Total International calls made\n",
        "\n",
        "* **Intl Charge**        :Total International charge\n",
        "\n",
        "* **CustServ calls**    :Number of customer service caUs made\n",
        "\n",
        "* **Churn**             :Customer churn (Target Variable True=1, False=0)"
      ],
      "metadata": {
        "id": "aJV4KIxSnxay"
      }
    },
    {
      "cell_type": "markdown",
      "source": [
        "### Check Unique Values for each variable."
      ],
      "metadata": {
        "id": "u3PMJOP6ngxN"
      }
    },
    {
      "cell_type": "code",
      "source": [
        "# Check Unique Values for each variable.\n",
        "for i in dataset.columns.tolist():\n",
        "  print(\"No. of unique values in \",i,\"is\",dataset[i].nunique(),\".\")"
      ],
      "metadata": {
        "id": "zms12Yq5n-jE"
      },
      "execution_count": null,
      "outputs": []
    },
    {
      "cell_type": "markdown",
      "source": [
        "## 3. ***Data Wrangling***"
      ],
      "metadata": {
        "id": "dauF4eBmngu3"
      }
    },
    {
      "cell_type": "markdown",
      "source": [
        "### Data Wrangling Code"
      ],
      "metadata": {
        "id": "bKJF3rekwFvQ"
      }
    },
    {
      "cell_type": "code",
      "source": [
        "# Write your code to make your dataset analysis ready.\n",
        "# Create a copy of the current dataset and assigning to df\n",
        "df=dataset.copy()\n",
        "# Checking Shape of True Value\n",
        "print(\"No. of customers Churning : -\",len(df[df['Churn']==True]))\n",
        "# Assigning churn customers data to variable df_churn\n",
        "df_churn=df[(df['Churn']==True)]"
      ],
      "metadata": {
        "id": "wk-9a2fpoLcV"
      },
      "execution_count": null,
      "outputs": []
    },
    {
      "cell_type": "code",
      "source": [
        "# Churn data groupby Area Code Wise\n",
        "pd.DataFrame(df.groupby('Area code')['Churn'].value_counts().reset_index(name=\"Count\"))"
      ],
      "metadata": {
        "id": "PaPWuHPHbnEw"
      },
      "execution_count": null,
      "outputs": []
    },
    {
      "cell_type": "code",
      "source": [
        "# Function to get all area code mean & median while passing area code and dataframe.\n",
        "def get_mean_median(df,areacode):\n",
        "  '''\n",
        "  This function returns the mean and median of the whole dataset for a particular area code.\n",
        "\n",
        "  '''\n",
        "  try:\n",
        "    return pd.concat([df[(df['Churn']==True)&(df['Area code']==areacode)].describe().iloc[1],\n",
        "            df[(df['Churn']==True)&(df['Area code']==areacode)].describe().iloc[5]],\n",
        "            axis=1).rename(columns={\"50%\":\"median\"}).fillna(\"-\")\n",
        "  except:\n",
        "    print(\"Invalid Area Code\")"
      ],
      "metadata": {
        "id": "NrK899PLgN2o"
      },
      "execution_count": null,
      "outputs": []
    },
    {
      "cell_type": "code",
      "source": [
        "# Getting Mean Median for area code 408\n",
        "get_mean_median(df=df,areacode=408)"
      ],
      "metadata": {
        "id": "-d-_JWvIbpZn"
      },
      "execution_count": null,
      "outputs": []
    },
    {
      "cell_type": "code",
      "source": [
        "# Getting Mean Median for area code 415\n",
        "get_mean_median(df=df,areacode=415)"
      ],
      "metadata": {
        "id": "4xoF-yzBbpb9"
      },
      "execution_count": null,
      "outputs": []
    },
    {
      "cell_type": "code",
      "source": [
        "# Getting Mean Median for area code 510\n",
        "get_mean_median(df=df,areacode=510)"
      ],
      "metadata": {
        "id": "t9qYRB4PbpWx"
      },
      "execution_count": null,
      "outputs": []
    },
    {
      "cell_type": "code",
      "source": [
        "# Getting Unique States\n",
        "print(df['State'].unique())\n",
        "print(\" \")\n",
        "# Getting Unique States Count\n",
        "print(\"Unique States Count is \",df['State'].nunique(),\".\")"
      ],
      "metadata": {
        "id": "c7oc-9h4bpUb"
      },
      "execution_count": null,
      "outputs": []
    },
    {
      "cell_type": "code",
      "source": [
        "# Churn Counts grouby State wise\n",
        "pd.DataFrame(df.groupby('State')['Churn'].value_counts(  ).reset_index(name=\"Count\"))"
      ],
      "metadata": {
        "id": "kvLVN_t-bpSF"
      },
      "execution_count": null,
      "outputs": []
    },
    {
      "cell_type": "code",
      "source": [
        "# Assigning churn customers data with no international plan\n",
        "df_churn_intl_no=df_churn[df_churn['International plan']=='No']\n",
        "# Assigning churn customers data with international plan\n",
        "df_churn_intl_yes=df_churn[df_churn['International plan']=='Yes']"
      ],
      "metadata": {
        "id": "gjpMgyn9bpPd"
      },
      "execution_count": null,
      "outputs": []
    },
    {
      "cell_type": "code",
      "source": [
        "# Churn customers data with no international plan value counts\n",
        "df_churn_intl_no['Area code'].value_counts()"
      ],
      "metadata": {
        "id": "ahXydka4bpM5"
      },
      "execution_count": null,
      "outputs": []
    },
    {
      "cell_type": "code",
      "source": [
        "# Creating call duration column for customers with no international plan\n",
        "df_churn_intl_no['Days_1call_duration']=df_churn_intl_no['Total day minutes']/df_churn_intl_no['Total day calls']\n",
        "df_churn_intl_no['intern_1call_duration']=df_churn_intl_no['Total intl minutes']/df_churn_intl_no['Total intl calls']\n",
        "\n",
        "df_churn_intl_no['evening_1call_duration']=df_churn_intl_no['Total eve minutes']/df_churn_intl_no['Total eve calls']\n",
        "df_churn_intl_no['night_1call_duration']=df_churn_intl_no['Total night minutes']/df_churn_intl_no['Total night calls']"
      ],
      "metadata": {
        "id": "1WlgD9d-bpKQ"
      },
      "execution_count": null,
      "outputs": []
    },
    {
      "cell_type": "code",
      "source": [
        "# Creating price rate per minute column for customers with international plan\n",
        "df_churn_intl_yes['international_rate_per_min']=df_churn_intl_yes['Total intl charge']/df_churn_intl_yes['Total intl minutes']\n",
        "df_churn_intl_yes['day_rate_per_min']=df_churn_intl_yes['Total day charge']/df_churn_intl_yes['Total day minutes']\n",
        "df_churn_intl_yes['eve_rate_per_min']=df_churn_intl_yes['Total eve charge']/df_churn_intl_yes['Total eve minutes']\n",
        "df_churn_intl_yes['night_rate_per_min']=df_churn_intl_yes['Total night charge']/df_churn_intl_yes['Total night minutes']"
      ],
      "metadata": {
        "id": "GuizgXXqbpHq"
      },
      "execution_count": null,
      "outputs": []
    },
    {
      "cell_type": "code",
      "source": [
        "# Getting Mean Median for area code 408 with no international plan\n",
        "get_mean_median(df=df_churn_intl_no,areacode=408)"
      ],
      "metadata": {
        "id": "rX1Dvtt_QNTW"
      },
      "execution_count": null,
      "outputs": []
    },
    {
      "cell_type": "code",
      "source": [
        "# Getting Mean Median for area code 415 with no international plan\n",
        "get_mean_median(df=df_churn_intl_no,areacode=415)"
      ],
      "metadata": {
        "id": "m6Ymo1v9QoJC"
      },
      "execution_count": null,
      "outputs": []
    },
    {
      "cell_type": "code",
      "source": [
        "# Getting Mean Median for area code 510 with no international plan\n",
        "get_mean_median(df=df_churn_intl_no,areacode=510)"
      ],
      "metadata": {
        "id": "eWOhJKcbQMj8"
      },
      "execution_count": null,
      "outputs": []
    },
    {
      "cell_type": "code",
      "source": [
        "# Getting Mean Median for area code 408 with international plan\n",
        "get_mean_median(df=df_churn_intl_yes,areacode=408)"
      ],
      "metadata": {
        "id": "dD9NydtUQNvN"
      },
      "execution_count": null,
      "outputs": []
    },
    {
      "cell_type": "code",
      "source": [
        "# Getting Mean Median for area code 415 with international plan\n",
        "get_mean_median(df=df_churn_intl_yes,areacode=415)"
      ],
      "metadata": {
        "id": "0PCWjY1SQ-X7"
      },
      "execution_count": null,
      "outputs": []
    },
    {
      "cell_type": "code",
      "source": [
        "# Getting Mean Median for area code 510 with international plan\n",
        "get_mean_median(df=df_churn_intl_yes,areacode=510)"
      ],
      "metadata": {
        "id": "aCLFNSSIQ-F5"
      },
      "execution_count": null,
      "outputs": []
    },
    {
      "cell_type": "code",
      "source": [
        "# Checking Number of voice mail sent for customers with no international plan\n",
        "df_churn_intl_no['Number vmail messages'].value_counts().reset_index(name=\"User Count\")"
      ],
      "metadata": {
        "id": "3mDUhtQBbpEz"
      },
      "execution_count": null,
      "outputs": []
    },
    {
      "cell_type": "code",
      "source": [
        "# Checking Number of voice mail sent for customers with international plan\n",
        "df_churn_intl_yes['Number vmail messages'].value_counts().reset_index(name=\"User Count\")"
      ],
      "metadata": {
        "id": "0cOvcv3ebpCM"
      },
      "execution_count": null,
      "outputs": []
    },
    {
      "cell_type": "code",
      "source": [
        "# Assigning Customers data with no international plan and voice mail plan\n",
        "voice_mail_plan_yes =df_churn_intl_no[df_churn_intl_no['Voice mail plan']=='Yes']\n",
        "voice_mail_plan_yes.describe()"
      ],
      "metadata": {
        "id": "1TQ0Hkzwbo_k"
      },
      "execution_count": null,
      "outputs": []
    },
    {
      "cell_type": "code",
      "source": [
        "# Assigning customers data with international plan and no voice mail plan\n",
        "voice_mail_plan_yes=df_churn_intl_yes[df_churn_intl_yes['Voice mail plan']=='Yes']\n",
        "voice_mail_plan_yes.describe()"
      ],
      "metadata": {
        "id": "q_yZrVRnbo8t"
      },
      "execution_count": null,
      "outputs": []
    },
    {
      "cell_type": "code",
      "source": [
        "# Assigning customers data with international plan and no voice plan\n",
        "df_true_intl=df_churn[(df_churn['International plan']=='Yes')&(df_churn['Voice mail plan']=='No')]\n",
        "df_true_intl.describe()"
      ],
      "metadata": {
        "id": "TZoD2bevvBUQ"
      },
      "execution_count": null,
      "outputs": []
    },
    {
      "cell_type": "code",
      "source": [
        "# Assigning Customers data with no international plan and having voice mail plan\n",
        "df_true_voice=df_churn[(df_churn['International plan']=='No')&(df_churn['Voice mail plan']=='Yes')]\n",
        "df_true_voice.describe()"
      ],
      "metadata": {
        "id": "jefPoRTBvBSH"
      },
      "execution_count": null,
      "outputs": []
    },
    {
      "cell_type": "code",
      "source": [
        "# Assigning Customers data with no international plan and no voice mail plan\n",
        "df_true_no=df_churn[(df_churn['International plan']=='No')&(df_churn['Voice mail plan']=='No')]\n",
        "df_true_no.describe()"
      ],
      "metadata": {
        "id": "bdPhXw2KvBMq"
      },
      "execution_count": null,
      "outputs": []
    },
    {
      "cell_type": "code",
      "source": [
        "# Assigning Customers data with both international plan and voice mail plan\n",
        "df_true_yes=df_churn[(df_churn['International plan']=='Yes')&(df_churn['Voice mail plan']=='Yes')]\n",
        "df_true_yes.describe()"
      ],
      "metadata": {
        "id": "nS0wifV-XQOa"
      },
      "execution_count": null,
      "outputs": []
    },
    {
      "cell_type": "code",
      "source": [
        "print(\"Churned Customer Shape:-\",df_churn.shape)\n",
        "print(\" \")\n",
        "print(\"customers data with international plan and no voice plan:-\",df_true_intl.shape)\n",
        "print(\" \")\n",
        "print(\"Customers data with no international plan and having voice mail plan:-\",df_true_voice.shape)\n",
        "print(\" \")\n",
        "print(\"Customers data with no international plan and no voice mail plan:-\",df_true_no.shape)\n",
        "print(\" \")\n",
        "print(\"Customers data with both international plan and voice mail plan:-\",df_true_yes.shape)\n",
        "print(\" \")"
      ],
      "metadata": {
        "id": "iAy2DscxvBJ0"
      },
      "execution_count": null,
      "outputs": []
    },
    {
      "cell_type": "code",
      "source": [
        "print(\"Customers data with no international plan and having voice mail plan maximum voice message sent:-\",df_true_voice['Number vmail messages'].max())\n",
        "print(\" \")\n",
        "# Assigning customers data to respective area codes\n",
        "df_true_voice_415=df_true_voice[df_true_voice['Area code']==415]\n",
        "df_true_voice_510=df_true_voice[df_true_voice['Area code']==510]\n",
        "df_true_voice_408=df_true_voice[df_true_voice['Area code']==408]\n",
        "\n",
        "print(\"Customers data with no international plan and having voice mail plan voice message sent in area 415 mean, median:-\",df_true_voice_415['Number vmail messages'].mean(),\",\",df_true_voice_415['Number vmail messages'].median())\n",
        "print(\" \")\n",
        "\n",
        "print(\"Customers data with no international plan and having voice mail plan customer service calls in area 415 mean, median:-\",df_true_voice_415['Customer service calls'].mean(),\",\",df_true_voice_415['Customer service calls'].median())\n",
        "print(\" \")\n",
        "\n",
        "print(\"Customers data with no international plan and having voice mail plan voice message sent in area 510 max, mean, median & customer service calls in area 510 mean, median:-\"\n",
        ",df_true_voice_510['Number vmail messages'].max(),\",\",df_true_voice_510['Number vmail messages'].mean(),\",\",df_true_voice_510['Number vmail messages'].median(),\",\",df_true_voice_510['Customer service calls'].mean(),\",\",df_true_voice_510['Customer service calls'].median())\n",
        "print(\" \")\n",
        "\n",
        "print(\"Customers data with no international plan and having voice mail plan voice message sent in area 408 max, mean, median & customer service calls in area 408 mean, median:-\"\n",
        ",df_true_voice_408['Number vmail messages'].max(),\",\",df_true_voice_408['Number vmail messages'].mean(),\",\",df_true_voice_408['Number vmail messages'].median(),\",\",df_true_voice_408['Customer service calls'].mean(),\",\",df_true_voice_408['Customer service calls'].median())\n",
        "print(\" \")\n",
        "# Assigning customers data to respective area codes\n",
        "df_true_yes_415=df_true_yes[df_true_yes['Area code']==415]\n",
        "df_true_yes_510=df_true_yes[df_true_yes['Area code']==510]\n",
        "df_true_yes_408=df_true_yes[df_true_yes['Area code']==408]\n",
        "\n",
        "print(\"Customers data with both international plan and voice mail plan customer service calls mean & voice mail sent max :-\"\n",
        ",df_true_yes['Customer service calls'].mean(),df_true_yes['Number vmail messages'].max())\n",
        "print(\" \")\n",
        "print(\"Customers data with both international plan and voice mail plan in area 415 voice mail sent max, mean, median :-\"\n",
        ",df_true_yes_415['Number vmail messages'].max(),\",\",df_true_yes_415['Number vmail messages'].mean(),\",\",df_true_yes_415['Number vmail messages'].median())\n",
        "print(\" \")\n",
        "print(\"Customers data with both international plan and voice mail plan in area 510 voice mail sent max, mean, median :-\"\n",
        ",df_true_yes_510['Number vmail messages'].max(),\",\",df_true_yes_510['Number vmail messages'].mean(),\",\",df_true_yes_510['Number vmail messages'].median())\n",
        "print(\" \")\n",
        "print(\"Customers data with both international plan and voice mail plan in area 408 voice mail sent max, mean, median :-\"\n",
        ",df_true_yes_408['Number vmail messages'].max(),\",\",df_true_yes_408['Number vmail messages'].mean(),\",\",df_true_yes_408['Number vmail messages'].median())\n"
      ],
      "metadata": {
        "id": "-SvsZNNWvBG9"
      },
      "execution_count": null,
      "outputs": []
    },
    {
      "cell_type": "code",
      "source": [
        "# Assigning customers data with no international plan and having voice mail plan state list in area 415\n",
        "df_true_voice_415_states=list(df_true_voice_415['State'].unique())\n",
        "print(\"States list where customers data with no international plan and having voice mail plan in area 415 :-\",df_true_voice_415_states)\n",
        "print(\" \")\n",
        "# Assigning customers data  with both international plan and voice mail plan state list in area 415\n",
        "df_true_yes_415_states=list(df_true_yes_415['State'].unique())\n",
        "print(\"States List where customers data  with both international plan and voice mail plan in area 415 :-\",df_true_yes_415_states)\n",
        "print(\" \")\n",
        "# Getting Poor Network connectivity states based on our hypothetical logic\n",
        "poor_netwok_states_415=set(df_true_voice_415_states).intersection(set(df_true_yes_415_states))\n",
        "print(\"Poor Network connectivity states in area 415 :-\",list(poor_netwok_states_415))"
      ],
      "metadata": {
        "id": "DfChKugnvA_z"
      },
      "execution_count": null,
      "outputs": []
    },
    {
      "cell_type": "code",
      "source": [
        "# Assigning Customers data with no international plan and having voice mail plan state list in area 408\n",
        "df_true_voice_408_states=list(df_true_voice_408['State'].unique())\n",
        "print(\"States list Customers data with no international plan and having voice mail plan state list in area 408 :-\",df_true_voice_408_states)\n",
        "print(\" \")\n",
        "# Assigning customers data  with both international plan and voice mail plan state list in area 408\n",
        "df_true_yes_408_states=list(df_true_yes_408['State'].unique())\n",
        "print(\"States list customers data  with both international plan and voice mail plan state list in area 408 :-\",df_true_yes_408_states)\n",
        "print(\" \")\n",
        "# Getting Poor Network connectivity states based on our hypothetical logic\n",
        "poor_netwok_states_408=set(df_true_voice_408_states).intersection(set(df_true_yes_408_states))\n",
        "# Getting Common Poor Network connectivity states based on our hypothetical logic from both area 408 & 415\n",
        "poor_network_states=poor_netwok_states_415.union(poor_netwok_states_408)\n",
        "print(\"Poor Network connectivity states in both area 415, 408 :-\",list(poor_network_states))"
      ],
      "metadata": {
        "id": "WQ8wJGu6bo52"
      },
      "execution_count": null,
      "outputs": []
    },
    {
      "cell_type": "code",
      "source": [
        "# Assigning Customers data with no international plan and having voice mail plan state list in area 510\n",
        "df_true_voice_510_states=list(df_true_voice_510['State'].unique())\n",
        "print(\"States list Customers data with no international plan and having voice mail plan state list in area 510 :-\",df_true_voice_510_states)\n",
        "print(\" \")\n",
        "# Assigning customers data  with both international plan and voice mail plan state list in area 510\n",
        "df_true_yes_510_states=list(df_true_yes_510['State'].unique())\n",
        "print(\"States list customers data  with both international plan and voice mail plan state list in area 510 :-\",df_true_yes_510_states)\n",
        "print(\" \")\n",
        "# Getting Common  Network Maintainance states based on our hypothetical logic from area 510\n",
        "maintainence_states=set(df_true_voice_510_states).intersection(set(df_true_yes_510_states))\n",
        "print(\"Network needs to be maintenanced in states :-\",list(maintainence_states))"
      ],
      "metadata": {
        "id": "Y9A0-HnHbo2u"
      },
      "execution_count": null,
      "outputs": []
    },
    {
      "cell_type": "code",
      "source": [
        "print(f\"Poor Netwok States are {list(poor_network_states)} and Network needs to be maintenanced in states {list(maintainence_states)}.\")"
      ],
      "metadata": {
        "id": "VEKj7DzrbowN"
      },
      "execution_count": null,
      "outputs": []
    },
    {
      "cell_type": "markdown",
      "source": [
        "### What all manipulations have you done and insights you found?"
      ],
      "metadata": {
        "id": "MSa1f5Uengrz"
      }
    },
    {
      "cell_type": "markdown",
      "source": [
        "According to my idea, we will get a clear view of the customers those who \n",
        "aren't churning through graphical representations but we have to deep dive into \n",
        "the churned customer's behaviour and to search for some hypothetical statements and insights which might lead us to the  reason for churning. That's why, I took the Churned customer data to find out the reason or churning behaviour and the pattern. Then, I experimented with different logics to extract some insights. I created some new columns like International, evening, day & night call duration as well as international, day, night, evening call rate per minute. Again, I figured out  those have taken voice mail plan but not using it and sending less no. of voice mails but talking more durations might be facing some network issues as I myself experienced that voice mssg need some more network stability to be sent. Other reasons are noted below which i have found.\n",
        "\n"
      ],
      "metadata": {
        "id": "l7Sf9RblRrPD"
      }
    },
    {
      "cell_type": "markdown",
      "metadata": {
        "id": "uutyZ4aHrdE4"
      },
      "source": [
        "![image.png](data:image/png;base64,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)"
      ]
    },
    {
      "cell_type": "markdown",
      "metadata": {
        "id": "pXVRUBRssJCi"
      },
      "source": [
        "![image.png](data:image/png;base64,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)"
      ]
    },
    {
      "cell_type": "markdown",
      "metadata": {
        "id": "hdP4jEA8sLEa"
      },
      "source": [
        "**Reasons for churn those who have taken international plan:**\n",
        "\n",
        "\n",
        "Because price of  INTL CALL RATE/min for International plan  is same as the price of  INTL CALL RATE/min for NO PLAN. \n",
        "\n",
        "Thus there is no extra  benefit for taking International Plan.\n",
        "\n",
        "**Reasons for churn those who have taken NO plan:**\n",
        "\n",
        "Because they are unsatisfied with the Customer service calls as the average indicates 2.3.\n",
        "(it must be between 1-1.5 for no churn)\n",
        "\n"
      ]
    },
    {
      "cell_type": "markdown",
      "metadata": {
        "id": "85VqE3--s4mx"
      },
      "source": [
        "**Reasons for churn those who have taken VOICE MAIL plan:**\n",
        "\n",
        "1)   Because they are unsatisfied with the Customer service calls as the average indicates 2.3.(it must be between 1-1.5 for no churn)"
      ]
    },
    {
      "cell_type": "markdown",
      "metadata": {
        "id": "pQmfsjY-tFHP"
      },
      "source": [
        "![image.png](data:image/png;base64,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)"
      ]
    },
    {
      "cell_type": "markdown",
      "metadata": {
        "id": "9ayCgDFDtP6q"
      },
      "source": [
        "**Reasons for churn those who have taken BOTH INTERNATIONAL AND  VOICE MAIL plan:**\n",
        "\n",
        "1)Because price of  INTL CALL RATE/min for International plan  is same as the price of  INTL CALL RATE/min for NO PLAN. \n",
        "      Thus there is no extra  benefit for taking International Plan.\n"
      ]
    },
    {
      "cell_type": "markdown",
      "metadata": {
        "id": "avT7Um5Ntq9x"
      },
      "source": [
        "![image.png](data:image/png;base64,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)"
      ]
    },
    {
      "cell_type": "markdown",
      "metadata": {
        "id": "ecsuqxLVts-a"
      },
      "source": [
        "3)\tCustomer service calls mean is 1-1.7 and it’s good and try to keep between 1-1.5.\n",
        "    \n",
        "    Customer service calls(mean)-1.7\n",
        "      \n",
        "    Customer service calls(median)-1\n"
      ]
    },
    {
      "cell_type": "markdown",
      "metadata": {
        "id": "bZnGnnEvv9Gg"
      },
      "source": [
        "I think, for respective area codes those who have taken voice mail plans where there we see a more differnce between the maximum number of vmail sent from that area and the average number of vmail sent for that area. So, here we can conclude like this that \n",
        "\n",
        "   May be customers are using voice mail as per their requirement \n",
        "   or may be there would be some network unstability for  which they won't able to send  more  voice mails while they get access of around 50 voicemails in voicemail plan but they are using on an average of 25-35.\n",
        "\n",
        "   on my own experience i know and felt that the voice mail needs more network stability to get sent through.\n",
        "\n",
        "   If this is the problem , then i have found some states with poor network status and some states network needs  maintenence.  "
      ]
    },
    {
      "cell_type": "markdown",
      "source": [
        "**4)** **POOR NETWORK STATES FROM AREA CODE 415,408 :-**\n",
        "\n",
        "'GA', 'NV', 'OR', 'NC', 'KS', 'MA'\n",
        "\n",
        "**5) STATES NEED MAINTAINANCE OR NEW INSTALLATION REQUIRED :-**\n",
        "\n",
        "'WV', 'NJ'"
      ],
      "metadata": {
        "id": "jtgkv5sk3nRf"
      }
    },
    {
      "cell_type": "markdown",
      "source": [
        "## ***4. Data Vizualization, Storytelling & Experimenting with charts : Understand the relationships between variables***"
      ],
      "metadata": {
        "id": "GF8Ens_Soomf"
      }
    },
    {
      "cell_type": "markdown",
      "source": [
        "#### Chart - 1 - Pie Chart on Dependant Variable i.e., Churn (Univariate)"
      ],
      "metadata": {
        "id": "0wOQAZs5pc--"
      }
    },
    {
      "cell_type": "code",
      "source": [
        "# Chart - 1 visualization code\n",
        "# Dependant Column Value Counts\n",
        "print(dataset.Churn.value_counts())\n",
        "print(\" \")\n",
        "# Dependant Variable Column Visualization\n",
        "dataset['Churn'].value_counts().plot(kind='pie',\n",
        "                              figsize=(15,6),\n",
        "                               autopct=\"%1.1f%%\",\n",
        "                               startangle=90,\n",
        "                               shadow=True,\n",
        "                               labels=['Not Churn(%)','Churn(%)'],\n",
        "                               colors=['skyblue','red'],\n",
        "                               explode=[0,0]\n",
        "                              )"
      ],
      "metadata": {
        "id": "7v_ESjsspbW7"
      },
      "execution_count": null,
      "outputs": []
    },
    {
      "cell_type": "markdown",
      "source": [
        "##### 1. Why did you pick the specific chart?"
      ],
      "metadata": {
        "id": "K5QZ13OEpz2H"
      }
    },
    {
      "cell_type": "markdown",
      "source": [
        "A pie chart expresses a part-to-whole relationship in your data. It's easy to explain the percentage comparison through area covered in a circle with different colors. Where differenet percentage comparison comes into action pie chart is used frequently. So, I used Pie chart and which helped me to get the percentage comparision of the dependant variable."
      ],
      "metadata": {
        "id": "XESiWehPqBRc"
      }
    },
    {
      "cell_type": "markdown",
      "source": [
        "##### 2. What is/are the insight(s) found from the chart?"
      ],
      "metadata": {
        "id": "lQ7QKXXCp7Bj"
      }
    },
    {
      "cell_type": "markdown",
      "source": [
        "From the above chart I got to know that, there are 2850 customers which are not churned which is 85.5% of the whole customers data given in the dataset. In other hand, 483 customers are churned which is 14.%% of the whold customers data given in the dataset.\n",
        "\n",
        "\n",
        "14.5% customers are churned which might look like a small number, but once upon a time the 14.5% was 1.45% which has grown upto 14.5%. So, Immediate action should be taken.\n"
      ],
      "metadata": {
        "id": "C_j1G7yiqdRP"
      }
    },
    {
      "cell_type": "markdown",
      "source": [
        "##### 3. Will the gained insights help creating a positive business impact? \n",
        "Are there any insights that lead to negative growth? Justify with specific reason."
      ],
      "metadata": {
        "id": "448CDAPjqfQr"
      }
    },
    {
      "cell_type": "markdown",
      "source": [
        "Customer churn is often referred to as customer attrition, or customer defection which is the rate at which the customers are lost. Telecom companies often use customer churn as a key business metrics to predict the number of customers that will leave a telecom service provider. Churn is significant in the telecommunication industry because it directly affects the competitiveness of the service provider.\n",
        "\n",
        "It's easy to loss customers but too difficult to aquire one. One churned cutomer will make 3-4 customers away those might be acquired by your teleservice provider \n",
        "with \"POWER OF WORDS\".\n",
        "\n",
        "When Jio provided free internnet services to everyone, and started acquiring maximum number of customers, so cutomer churn rate for other teleservice providers increased and customers from other teleservice providers those who converted to JIO spread the benefit of JIO to their relatives and friends and they also converted too easily. So, \"POWER OF WORDS\" also comes into action that wrong and bad reviews spread first. "
      ],
      "metadata": {
        "id": "3cspy4FjqxJW"
      }
    },
    {
      "cell_type": "markdown",
      "source": [
        "#### Chart - 2 - State Vs. Average True Churn Percentage (Bivariate with Categorical - Numerical)"
      ],
      "metadata": {
        "id": "xJivPyE8q_2k"
      }
    },
    {
      "cell_type": "code",
      "source": [
        "# Chart - 2 visualization code\n",
        "# Showing Average True Churn Percentage state wise\n",
        "# Showing top 10 churned state\n",
        "print((dataset.groupby(['State'])['Churn'].mean()*100).sort_values(ascending = False).reset_index(name=\"Average True CHurn %\").head(10))\n",
        "print(\" \")\n",
        "\n",
        "# State vs. average true churn percantage visualization code\n",
        "# Vizualizing top 10 churned state\n",
        "plt.rcParams['figure.figsize'] = (12, 7)\n",
        "color = plt.cm.copper(np.linspace(0, 0.5, 20))\n",
        "((dataset.groupby(['State'])['Churn'].mean())*100).sort_values(ascending = False).head(10).plot.bar(color = ['violet','indigo','b','g','y','orange','r'])\n",
        "plt.title(\" State with most churn percentage\", fontsize = 20)\n",
        "plt.xlabel('state', fontsize = 15)\n",
        "plt.ylabel('percentage', fontsize = 15)\n",
        "plt.show()"
      ],
      "metadata": {
        "id": "NTkxmIkWq_20"
      },
      "execution_count": null,
      "outputs": []
    },
    {
      "cell_type": "code",
      "source": [
        "# Showing Average True Churn Percentage state wise\n",
        "# Showing top 10 churned state\n",
        "print((dataset.groupby(['State'])['Churn'].mean()*100).sort_values(ascending = True).reset_index(name=\"Average True CHurn %\").head(10))\n",
        "print(\" \")\n",
        "\n",
        "\n",
        "\n",
        "# State vs. average true churn percantage visualization code\n",
        "# Vizualizing bottom 10 churned state\n",
        "plt.rcParams['figure.figsize'] = (12, 7)\n",
        "color = plt.cm.copper(np.linspace(0, 0.5, 20))\n",
        "((dataset.groupby(['State'])['Churn'].mean())*100).sort_values(ascending = True).head(10).plot.bar(color = ['violet','indigo','b','g','y','orange','r'])\n",
        "plt.title(\" State with most churn percentage\", fontsize = 20)\n",
        "plt.xlabel('state', fontsize = 15)\n",
        "plt.ylabel('percentage', fontsize = 15)\n",
        "plt.show()"
      ],
      "metadata": {
        "id": "QAgGhW9H2CLP"
      },
      "execution_count": null,
      "outputs": []
    },
    {
      "cell_type": "markdown",
      "source": [
        "##### 1. Why did you pick the specific chart?"
      ],
      "metadata": {
        "id": "azX1PEddq_20"
      }
    },
    {
      "cell_type": "markdown",
      "source": [
        "Bar charts show the frequency counts of values for the different levels of a categorical or nominal variable. Sometimes, bar charts show other statistics, such as percentages.\n",
        "\n",
        "To show the average percentage of true churn with respect to states, I have used Bar Chart."
      ],
      "metadata": {
        "id": "QTXVnJ-fq_20"
      }
    },
    {
      "cell_type": "markdown",
      "source": [
        "##### 2. What is/are the insight(s) found from the chart?"
      ],
      "metadata": {
        "id": "iyKleWeyq_20"
      }
    },
    {
      "cell_type": "markdown",
      "source": [
        "There are 51 states having different churn rates . \n",
        "\n",
        "**CA, NJ ,TX , MD ,SC ,MI, MS, NV, WA, ME**  are the ones who have higher churn rate more then 21.74% which is more than 50% of average churn rate.\n",
        "\n",
        "Under the Data wrangling, I have defined a hypothetical logic for some states with poor network region and some states where service needs to be maintained or new installations required. So, here states \n",
        "**[ ' NV ', ' NJ ' ]** are common which are in top 10 churned states."
      ],
      "metadata": {
        "id": "DwesNe8zq_21"
      }
    },
    {
      "cell_type": "markdown",
      "source": [
        "##### 3. Will the gained insights help creating a positive business impact? \n",
        "Are there any insights that lead to negative growth? Justify with specific reason."
      ],
      "metadata": {
        "id": "8-UX51ofq_21"
      }
    },
    {
      "cell_type": "markdown",
      "source": [
        "Yes, the data of state wise churning depicts that 10% of a large state is same as 20% of a smaller state. So, we can't neglect the churn rates and will have to sagreggate based on the area covereage in respective states. Still, priotizing to actionable tasks we should try to figure out the issues in top 10 churning states first.\n",
        "\n",
        "The issue might be poor network coverage or negligible maintaince on existing antenna, or total area coverage & no. of mobile tower or users is low or new towers needs to be installed to coverage additional areas. "
      ],
      "metadata": {
        "id": "nW7-bqD0q_21"
      }
    },
    {
      "cell_type": "markdown",
      "source": [
        "#### Chart - 3 - Account Length with Churn Wise (Univariate)"
      ],
      "metadata": {
        "id": "Of3PJYNbrGff"
      }
    },
    {
      "cell_type": "code",
      "source": [
        "# Chart - 3 visualization code\n",
        "# One Digit Account Length \n",
        "print(dataset[dataset['Account length']<=9].loc[:,['Churn']].value_counts())\n",
        "print(\" \")\n",
        "\n",
        "# Visualizing One Digit Account Length Based on Churn percentage\n",
        "dataset[dataset['Account length']<=9].loc[:,['Churn']].value_counts().plot(kind='pie',\n",
        "                              figsize=(15,6),\n",
        "                               autopct=\"%1.1f%%\",\n",
        "                               startangle=90,\n",
        "                               shadow=True,\n",
        "                               labels=['No','Yes'],\n",
        "                               colors=['skyblue','red'],\n",
        "                               explode=[0,0]\n",
        "                              )"
      ],
      "metadata": {
        "id": "tnFltgWlrGfg"
      },
      "execution_count": null,
      "outputs": []
    },
    {
      "cell_type": "code",
      "source": [
        "# Two Digit Account Length \n",
        "print(dataset[(dataset['Account length']<=99) & (dataset['Account length']>=10)].loc[:,['Churn']].value_counts())\n",
        "print(\" \")\n",
        "\n",
        "# Visualizing Two Digit Account Length Based on Churn percentage\n",
        "dataset[(dataset['Account length']<=99) & (dataset['Account length']>=10)].loc[:,['Churn']].value_counts().plot(kind='pie',\n",
        "                              figsize=(15,6),\n",
        "                               autopct=\"%1.1f%%\",\n",
        "                               startangle=90,\n",
        "                               shadow=True,\n",
        "                               labels=['No','Yes'],\n",
        "                               colors=['skyblue','red'],\n",
        "                               explode=[0,0]\n",
        "                              )"
      ],
      "metadata": {
        "id": "Fdz8HrS44VH8"
      },
      "execution_count": null,
      "outputs": []
    },
    {
      "cell_type": "code",
      "source": [
        "# Three Digit Account Length \n",
        "print(dataset[(dataset['Account length']<=dataset['Account length'].max()) & (dataset['Account length']>=100)].loc[:,['Churn']].value_counts())\n",
        "print(\" \")\n",
        "\n",
        "# Visualizing Three Digit Account Length Based on Churn percentage\n",
        "dataset[(dataset['Account length']<=dataset['Account length'].max()) & (dataset['Account length']>=100)].loc[:,['Churn']].value_counts().plot(kind='pie',\n",
        "                              figsize=(15,6),\n",
        "                               autopct=\"%1.1f%%\",\n",
        "                               startangle=90,\n",
        "                               shadow=True,\n",
        "                               labels=['No','Yes'],\n",
        "                               colors=['skyblue','red'],\n",
        "                               explode=[0,0]\n",
        "                              )"
      ],
      "metadata": {
        "id": "qWsbjPvz4lXx"
      },
      "execution_count": null,
      "outputs": []
    },
    {
      "cell_type": "code",
      "source": [
        "# Box Plot for Account Length attribute\n",
        "dataset.boxplot(column='Account length',by='Churn')"
      ],
      "metadata": {
        "id": "yAwxZ3sO6DRC"
      },
      "execution_count": null,
      "outputs": []
    },
    {
      "cell_type": "markdown",
      "source": [
        "##### 1. Why did you pick the specific chart?"
      ],
      "metadata": {
        "id": "w8bcvZxarGfg"
      }
    },
    {
      "cell_type": "markdown",
      "source": [
        "A pie chart expresses a part-to-whole relationship in your data. It's easy to explain the percentage comparison through area covered in a circle with different colors. Where differenet percentage comparison comes into action pie chart is used frequently. So, I used Pie chart and which helped me to get the percentage comparision of the churn percentage account length wise.\n",
        "\n",
        "Box plots are used to show distributions of numeric data values, especially when you want to compare them between multiple groups. They are built to provide high-level information at a glance, offering general information about a group of data's symmetry, skew, variance, and outliers. So, I used box plot to get the maximum and minimum value with well sagreggated outliers with well defined mean and median as shown in the box plot graph."
      ],
      "metadata": {
        "id": "9-GBsMEqrGfg"
      }
    },
    {
      "cell_type": "markdown",
      "source": [
        "##### 2. What is/are the insight(s) found from the chart?"
      ],
      "metadata": {
        "id": "HZ6txCBBrGfh"
      }
    },
    {
      "cell_type": "markdown",
      "source": [
        "**Account Length**\n",
        "\n",
        "We can catagories Account Length into three catagories like \n",
        "\n",
        "**One Digit Length** \n",
        "\n",
        " Churn True -8.3%\n",
        "\n",
        " No. of Churn True-2\n",
        "\n",
        "\n",
        "\n",
        " Churn False-91.7%\n",
        "\n",
        "**Two Digit Length**\n",
        "\n",
        "Churn True -14.0% \n",
        "\n",
        "No. of Churn True-225\n",
        "\n",
        "\n",
        "\n",
        "Churn False-86.0%\n",
        "\n",
        "\n",
        "**Three Digit Length**\n",
        "\n",
        "Churn True -15.0% \n",
        "\n",
        "No. of Churn True-256\n",
        "\n",
        "\n",
        "\n",
        "Churn False-85.0%\n",
        "\n",
        "\n",
        "\n",
        "\n",
        "**REMARK**\n",
        "\n",
        "\n",
        "AS from the above  record, we can see that Two digit Account Length customers are churning with a number of 225 \n",
        "And Three digit Account Length customers are churning with a number of 256\n",
        "\n",
        "\n",
        "\n"
      ],
      "metadata": {
        "id": "9X7Ff9HFrGfh"
      }
    },
    {
      "cell_type": "markdown",
      "source": [
        "##### 3. Will the gained insights help creating a positive business impact? \n",
        "Are there any insights that lead to negative growth? Justify with specific reason."
      ],
      "metadata": {
        "id": "jbkhcZqdrGfh"
      }
    },
    {
      "cell_type": "markdown",
      "source": [
        "Accoun length is the no. of days the customers are active. So for the new customers those churning rate is too low around 8.3% in percentage and number is 2. They might be just using the telecom service to experience the benefits and they might not be satisfied with the service provided and churned. \n",
        "\n",
        "Those people whose account length are between 10 to 99 are having a churning rate of 15%. The customers below 50 might be treated as new customers and more than 55 and less than 99 they mightn't be geting benefits from plan taken. \n",
        "\n",
        "Those people whise account length are more than 100 are like of old customers and they might be churning due to no additional offers given to them like power plus plan or other benefits.\n",
        "\n",
        "So, Yes Account Length is also depicting a clear view of churing reasons and inaights."
      ],
      "metadata": {
        "id": "sZjMyjAHrGfh"
      }
    },
    {
      "cell_type": "markdown",
      "source": [
        "#### Chart - 4 - Area Code (Bivariate)"
      ],
      "metadata": {
        "id": "riLp7y9brHca"
      }
    },
    {
      "cell_type": "code",
      "source": [
        "# Chart - 4 visualization code\n",
        "# Area Code wise average churn Percentage\n",
        "print(dataset.groupby('Area code')['Churn'].mean()*100)\n",
        "print(\" \")\n",
        "\n",
        "# Visualizing code for Area Code wise average churn percentage\n",
        "a1= list(['408','415' , '510'])\n",
        "b1= dataset.groupby('Area code')['Churn'].mean()*100\n",
        "plt.bar(a1,b1, color=['r','b','g'])\n",
        "\n",
        "plt.rcParams['figure.figsize'] = (6, 5)\n",
        "\n",
        "\n",
        "plt.xlabel('Area code', fontsize = 15)\n",
        "plt.ylabel('churn percentage', fontsize = 15)\n",
        "plt.show()"
      ],
      "metadata": {
        "id": "QQ-DWHW5rHca"
      },
      "execution_count": null,
      "outputs": []
    },
    {
      "cell_type": "markdown",
      "source": [
        "##### 1. Why did you pick the specific chart?"
      ],
      "metadata": {
        "id": "Uw0GT_uHrHcb"
      }
    },
    {
      "cell_type": "markdown",
      "source": [
        "Bar charts show the frequency counts of values for the different levels of a categorical or nominal variable. Sometimes, bar charts show other statistics, such as percentages.\n",
        "\n",
        "To show the average percentage of true churn with respect to Area Code, I have used Bar Chart."
      ],
      "metadata": {
        "id": "R7c_a-IXrHcb"
      }
    },
    {
      "cell_type": "markdown",
      "source": [
        "##### 2. What is/are the insight(s) found from the chart?"
      ],
      "metadata": {
        "id": "qTEiGUKorHcc"
      }
    },
    {
      "cell_type": "markdown",
      "source": [
        "All Area Code have around 14% Churn rate. So, Area Code doesn't matter."
      ],
      "metadata": {
        "id": "a3rmtW3vrHcc"
      }
    },
    {
      "cell_type": "markdown",
      "source": [
        "##### 3. Will the gained insights help creating a positive business impact? \n",
        "Are there any insights that lead to negative growth? Justify with specific reason."
      ],
      "metadata": {
        "id": "1Qw8mtL3rHcd"
      }
    },
    {
      "cell_type": "markdown",
      "source": [
        "No, Area Code doesn't have any contribution to churn rate for 14% churn rate is same for all the area codes. But while furthur sagreggating the area codes with respective states in those area code, it can be analysed the states in which the issue is happeing. So, it has been defined above.\n",
        "\n",
        "So, here Area code won't help to create business impact but the respective states wise analysis can help."
      ],
      "metadata": {
        "id": "t7dguLynrHcd"
      }
    },
    {
      "cell_type": "markdown",
      "source": [
        "#### Chart - 5 - International Plan (Univariate + Bivariate)"
      ],
      "metadata": {
        "id": "xnMZvg2orIPt"
      }
    },
    {
      "cell_type": "code",
      "source": [
        "# Chart - 5 visualization code\n",
        "# Visualizing Percentage of customers taken international plan\n",
        "dataset['International plan'].value_counts().plot(kind='pie',\n",
        "                              figsize=(15,6),\n",
        "                               autopct=\"%1.1f%%\",\n",
        "                               startangle=90,\n",
        "                               shadow=True,\n",
        "                               labels=['No','Yes'],\n",
        "                               colors=['skyblue','red'],\n",
        "                               explode=[0,0]\n",
        "                              )"
      ],
      "metadata": {
        "id": "BIKEKoqErIPu"
      },
      "execution_count": null,
      "outputs": []
    },
    {
      "cell_type": "code",
      "source": [
        "# Assigning values for furthur charts\n",
        "i1 = dataset['International plan'].unique()\n",
        "i2 = dataset.groupby('International plan')['Churn'].mean()*100\n",
        "i3 = dataset.groupby(['International plan'])['Total intl charge'].mean()\n",
        "i4 = dataset.groupby([\"Churn\"])['Total intl minutes'].mean()"
      ],
      "metadata": {
        "id": "d7qDp535KTt2"
      },
      "execution_count": null,
      "outputs": []
    },
    {
      "cell_type": "code",
      "source": [
        "# Visualizing code for people churning percentage having international plan\n",
        "plt.rcParams['figure.figsize'] = (6, 7)\n",
        "\n",
        "plt.bar(i1,i2 , color=['b','r'])\n",
        "\n",
        "plt.title(\" Percentage of people leaving\", fontsize = 20)\n",
        "plt.xlabel('International plan', fontsize = 15)\n",
        "plt.ylabel('percentage', fontsize = 15)\n",
        "plt.show()"
      ],
      "metadata": {
        "id": "oW9Yv1-HKq7N"
      },
      "execution_count": null,
      "outputs": []
    },
    {
      "cell_type": "code",
      "source": [
        "# Visualizing code for average calling charge of customers having international plan\n",
        "plt.rcParams['figure.figsize'] = (6, 7)\n",
        "\n",
        "plt.bar(i1,i3, color=['b','r'])\n",
        "plt.title(\" Average charge of people\", fontsize = 20)\n",
        "plt.xlabel('International plan', fontsize = 15)\n",
        "plt.ylabel(' charge', fontsize = 15)\n",
        "plt.show()"
      ],
      "metadata": {
        "id": "mqNUqJmZK5Wz"
      },
      "execution_count": null,
      "outputs": []
    },
    {
      "cell_type": "code",
      "source": [
        "# Visualizing code for average minutes takled by customers having international plan\n",
        "plt.rcParams['figure.figsize'] = (6, 7)\n",
        "\n",
        "plt.bar(i1,i4, color=['b','r'])\n",
        "plt.title(\" Average minute people talk\", fontsize = 20)\n",
        "plt.xlabel('International plan', fontsize = 15)\n",
        "plt.ylabel(' Minutes', fontsize = 15)\n",
        "plt.show()"
      ],
      "metadata": {
        "id": "3Fwfpl4aLI89"
      },
      "execution_count": null,
      "outputs": []
    },
    {
      "cell_type": "markdown",
      "source": [
        "##### 1. Why did you pick the specific chart?"
      ],
      "metadata": {
        "id": "mwHQVoIQrIPu"
      }
    },
    {
      "cell_type": "markdown",
      "source": [
        "Pie charts are used to represent the proportional data or relative data in a single chart. The concept of pie slices is used to show the percentage of a particular data from the whole pie.\n",
        "\n",
        "Thus, I used to show the percentage of people taken international plan through pie chart with differentr colored area under a circle.\n",
        "\n",
        "A bar chart is used when you want to show a distribution of data points or perform a comparison of metric values across different subgroups of your data. From a bar chart, we can see which groups are highest or most common, and how other groups compare against the others.\n",
        "\n",
        "Thus, I used bar chart to show the percentage of customers churned having international plan and the avergae calling charge as well as conversation average minutes of customers those have international plan."
      ],
      "metadata": {
        "id": "_OS83_DorIPu"
      }
    },
    {
      "cell_type": "markdown",
      "source": [
        "##### 2. What is/are the insight(s) found from the chart?"
      ],
      "metadata": {
        "id": "Kwy5hImkrIPu"
      }
    },
    {
      "cell_type": "markdown",
      "source": [
        "**INTERNATIONAL PLAN**\n",
        "\n",
        "3010 dont have a international plan\n",
        "\n",
        "323 have a international plan\n",
        "\n",
        "Among those who  have a international plan 42.4 % people churn.\n",
        "\n",
        "Whereas among those who dont have a international plan  only 11.4 % people churn.\n",
        "\n",
        "Among those who  have a international plan their average charge is 2.86 and they talk for 10.7 minutes average .\n",
        "\n",
        "Whereas among those who dont have a international plan their average charge is 2.75 and they talk for 10.15 minutes average .\n",
        "\n",
        "The reason why people having international plan might be leaving is that they are [paying same amount of money for international calls as for those customers who dont have a international plan.Hence they arent getting any benefits for having an international plan so they might be unhappy. \n",
        "\n",
        "\n",
        "***Customers with the International Plan tend to churn more frequently ***\n"
      ],
      "metadata": {
        "id": "v29pTB30rIPu"
      }
    },
    {
      "cell_type": "markdown",
      "source": [
        "##### 3. Will the gained insights help creating a positive business impact? \n",
        "Are there any insights that lead to negative growth? Justify with specific reason."
      ],
      "metadata": {
        "id": "0sjxqkK0rIPv"
      }
    },
    {
      "cell_type": "markdown",
      "source": [
        "Yes, the insights found will definitely help for a positive business impact. Thsoe people who  have international plan they are paying some additional charges to get the plan but the talk time value charge is same as those customers having no international plan. That's might be great reason for more churns those having international plan."
      ],
      "metadata": {
        "id": "q3Py5eq2rIPv"
      }
    },
    {
      "cell_type": "markdown",
      "source": [
        "#### Chart - 6 - Voice Mail (Univariate + Bivariate)"
      ],
      "metadata": {
        "id": "y7avNpR9HL5z"
      }
    },
    {
      "cell_type": "code",
      "source": [
        "# Chart - 5 visualization code\n",
        "# vizualizing code for customers percentage having voice mail plan\n",
        "dataset['Voice mail plan'].value_counts().plot(kind='pie',\n",
        "                              figsize=(15,6),\n",
        "                               autopct=\"%1.1f%%\",\n",
        "                               startangle=90,\n",
        "                               shadow=True,\n",
        "                               labels=['No','Yes'],\n",
        "                               colors=['skyblue','red'],\n",
        "                               explode=[0,0]\n",
        "                              )"
      ],
      "metadata": {
        "id": "XupyxJMCHL50"
      },
      "execution_count": null,
      "outputs": []
    },
    {
      "cell_type": "code",
      "source": [
        "# Vizualizing code for customers churning while having voice mail plan\n",
        "plt.rcParams['figure.figsize'] = (6, 7)\n",
        "\n",
        "cc1=list(['no','yes'])\n",
        "cc2=dataset.groupby('Voice mail plan')['Churn'].mean()*100\n",
        "plt.bar(cc1,cc2, color=['b','r'])\n",
        "\n",
        "plt.title(\" Percentage of people leaving\", fontsize = 20)\n",
        "plt.xlabel('Voice mail plan', fontsize = 15)\n",
        "plt.ylabel('percentage', fontsize = 15)\n",
        "plt.show()"
      ],
      "metadata": {
        "id": "QBRu1D9eP37x"
      },
      "execution_count": null,
      "outputs": []
    },
    {
      "cell_type": "markdown",
      "source": [
        "##### 1. Why did you pick the specific chart?"
      ],
      "metadata": {
        "id": "Z5yPuW4iHL50"
      }
    },
    {
      "cell_type": "markdown",
      "source": [
        "Pie chart is a type of graph in which a circle is divided into sectors that each represents a proportion of the whole. Pie charts are a useful way to organize data in order to see the size of components relative to the whole, and are particularly good at showing percentage or proportional data.\n",
        "\n",
        "Thus, I have used pie chart to show the percentage of customers having voice mail plan.\n",
        "\n",
        "The bar graph is used to compare the items between different groups over time. Bar graphs are used to measure the changes over a period of time.\n",
        "\n",
        "Thus, I have used bar chart to show the percentage of customers churned having voice mail plan."
      ],
      "metadata": {
        "id": "e2Vj3xyvHL50"
      }
    },
    {
      "cell_type": "markdown",
      "source": [
        "##### 2. What is/are the insight(s) found from the chart?"
      ],
      "metadata": {
        "id": "3vIdo55JHL50"
      }
    },
    {
      "cell_type": "markdown",
      "source": [
        "**VOICE MAIL**\n",
        "\n",
        "2411 dont have a voice mail plan\n",
        "\n",
        "922 have a voice mail plan\n",
        "\n",
        "Among those who dont have a voice mail 16.7 % people churn.\n",
        "\n",
        "Whereas among those who have a voice mail plan only 8.7 % people churn.\n",
        "\n",
        "**Hypothesis Based on Voice Mail**\n",
        "* Customers sending less number of voicemails either as per their Requirement or There would be less Network Stability at that place for which they won't be able to send the voice message successfully.\n",
        "\n",
        "***Customers  with the Voice Mail Plan tend to churn less frequently ***"
      ],
      "metadata": {
        "id": "_TwmLyT0HL51"
      }
    },
    {
      "cell_type": "markdown",
      "source": [
        "##### 3. Will the gained insights help creating a positive business impact? \n",
        "Are there any insights that lead to negative growth? Justify with specific reason."
      ],
      "metadata": {
        "id": "IlhlbgNBHL51"
      }
    },
    {
      "cell_type": "markdown",
      "source": [
        "Voice mail plan doesn't have that much impact in business untill the hypothesis has been proven. If the hypothesis remains true, we need to take care of the respective states where there is less network stability or the states the towers needs either maintainance or new towers should be installed.\n",
        "\n",
        "yes, voice mail plan might be considered partially."
      ],
      "metadata": {
        "id": "zecN6W5IHL51"
      }
    },
    {
      "cell_type": "markdown",
      "source": [
        "#### Chart - 7- Overall Calls (Bivariate)"
      ],
      "metadata": {
        "id": "oQ-pHCWMHO92"
      }
    },
    {
      "cell_type": "code",
      "source": [
        "# Chart - 7 visualization code\n",
        "# Geeting means of churn vs total day calls, total day minutes, total day charge\n",
        "print(dataset.groupby([\"Churn\"])['Total day calls'].mean())\n",
        "print(\" \")\n",
        "print(dataset.groupby([\"Churn\"])['Total day minutes'].mean())\n",
        "print(\" \")\n",
        "print(dataset.groupby([\"Churn\"])['Total day charge'].mean())\n",
        "\n",
        "# 18% more min    18% more charge    no insight"
      ],
      "metadata": {
        "id": "Eb_s6DRSHO92"
      },
      "execution_count": null,
      "outputs": []
    },
    {
      "cell_type": "code",
      "source": [
        "# Vizualizing Total day minutes vs total day charge\n",
        "cdd = sns.scatterplot(x=\"Total day minutes\", y=\"Total day charge\", hue=\"Churn\", data=dataset)\n"
      ],
      "metadata": {
        "id": "t0PdOrzhWIQ0"
      },
      "execution_count": null,
      "outputs": []
    },
    {
      "cell_type": "code",
      "source": [
        "# Geeting means of churn vs total eve calls, total eve minutes, total evening charge\n",
        "print(dataset.groupby([\"Churn\"])['Total eve calls'].mean())\n",
        "print(\" \")\n",
        "print(dataset.groupby([\"Churn\"])['Total eve minutes'].mean())\n",
        "print(\" \")\n",
        "print(dataset.groupby([\"Churn\"])['Total eve charge'].mean())"
      ],
      "metadata": {
        "id": "Tm1L8efQW8io"
      },
      "execution_count": null,
      "outputs": []
    },
    {
      "cell_type": "code",
      "source": [
        "# Vizualizing total evening minutes vs total evening charge\n",
        "cdd = sns.scatterplot(x=\"Total eve minutes\", y=\"Total eve charge\", hue=\"Churn\", data=dataset)"
      ],
      "metadata": {
        "id": "IULag4EwXLhy"
      },
      "execution_count": null,
      "outputs": []
    },
    {
      "cell_type": "code",
      "source": [
        "# Getting means of churn vs total night calls, total m=night minutes, total night charge\n",
        "print(dataset.groupby([\"Churn\"])['Total night calls'].mean())\n",
        "print(\" \")\n",
        "print(dataset.groupby([\"Churn\"])['Total night minutes'].mean())\n",
        "print(\" \")\n",
        "print(dataset.groupby([\"Churn\"])['Total night charge'].mean())"
      ],
      "metadata": {
        "id": "eKadu2ppYZ10"
      },
      "execution_count": null,
      "outputs": []
    },
    {
      "cell_type": "code",
      "source": [
        "# Vizualizing Total nights minutes vs total night charge\n",
        "cdd = sns.scatterplot(x=\"Total night minutes\", y=\"Total night charge\", hue=\"Churn\", data=dataset)"
      ],
      "metadata": {
        "id": "9GDJxQSqZGez"
      },
      "execution_count": null,
      "outputs": []
    },
    {
      "cell_type": "code",
      "source": [
        "# Import pandas library \n",
        "import pandas as pd \n",
        "\n",
        "# initialize list of lists \n",
        "data1 = [['Total day minutes',175.17 , 206.91], ['Total day charge',29.78, 35.17]] \n",
        "\n",
        "#7.012,6.12,6.86\n",
        "\n",
        "# Create the pandas DataFrame \n",
        "minutes_code1 = pd.DataFrame(data1, columns = ['day', 'dont churn',' churn']) \n",
        "\n",
        "# print dataframe. \n",
        "minutes_code1"
      ],
      "metadata": {
        "id": "OQ6Qw_uvZn7o"
      },
      "execution_count": null,
      "outputs": []
    },
    {
      "cell_type": "code",
      "source": [
        "# Vizualizing code for the above created dataframe\n",
        "plt.rcParams['figure.figsize'] = (8, 6)\n",
        "\n",
        "\n",
        "minutes_code1.plot(kind='bar', x='day',ylabel='mean  ')"
      ],
      "metadata": {
        "id": "V13A3eLlanO8"
      },
      "execution_count": null,
      "outputs": []
    },
    {
      "cell_type": "code",
      "source": [
        "# Import pandas library \n",
        "import pandas as pd \n",
        "\n",
        "# initialize list of lists \n",
        "data2 = [ ['Total eve minutes',199.04, 212.41], ['Total night minutes',200.13,205.23]] \n",
        "\n",
        "#7.012,6.12,6.86\n",
        "\n",
        "# Create the pandas DataFrame \n",
        "minutes_code2 = pd.DataFrame(data2, columns = ['minutes', 'dont churn',' churn']) \n",
        "\n",
        "# print dataframe. \n",
        "minutes_code2"
      ],
      "metadata": {
        "id": "0s1VWK8SbCb4"
      },
      "execution_count": null,
      "outputs": []
    },
    {
      "cell_type": "code",
      "source": [
        "# Vizualizing teh above created dataframe\n",
        "plt.rcParams['figure.figsize'] = (8,6)\n",
        "\n",
        "\n",
        "minutes_code2.plot(kind='bar', x='minutes',xlabel='minutes',ylabel='mean of churn ')"
      ],
      "metadata": {
        "id": "HUmuyd_ObEYq"
      },
      "execution_count": null,
      "outputs": []
    },
    {
      "cell_type": "code",
      "source": [
        "# Import pandas library \n",
        "import pandas as pd \n",
        "\n",
        "# initialize list of lists \n",
        "data3 = [ ['Total eve charge',16.91, 18.05], ['Total night charge',9,9.23]] \n",
        "\n",
        "#7.012,6.12,6.86\n",
        "\n",
        "# Create the pandas DataFrame \n",
        "minutes_code3 = pd.DataFrame(data3, columns = ['charge', 'dont churn',' churn']) \n",
        "\n",
        "# print dataframe. \n",
        "minutes_code3"
      ],
      "metadata": {
        "id": "p-IqLU4UbLcA"
      },
      "execution_count": null,
      "outputs": []
    },
    {
      "cell_type": "code",
      "source": [
        "# Vizualizing code for the above dataset\n",
        "plt.rcParams['figure.figsize'] = (8,6)\n",
        "\n",
        "\n",
        "minutes_code3.plot(kind='bar', x='charge',ylabel='mean charge')"
      ],
      "metadata": {
        "id": "RGjFvhbbbTcQ"
      },
      "execution_count": null,
      "outputs": []
    },
    {
      "cell_type": "markdown",
      "source": [
        "##### 1. Why did you pick the specific chart?"
      ],
      "metadata": {
        "id": "DEMFeE18HO92"
      }
    },
    {
      "cell_type": "markdown",
      "source": [
        "A scatter plot (aka scatter chart, scatter graph) uses dots to represent values for two different numeric variables. The position of each dot on the horizontal and vertical axis indicates values for an individual data point. Scatter plots are used to observe relationships between variables.\n",
        "\n",
        "Thus, I have used the scatter plot to depict the relationship between evening, day &n night calls , minutes and charge.\n",
        "\n",
        "The bar graph is used to compare the items between different groups over time. Bar graphs are used to measure the changes over a period of time. When the changes are larger, a bar graph is the best option to represent the data.\n",
        "\n",
        "Thus, I have used the bar plot to show the evening, night and day manipulated data to depict meaningful insights."
      ],
      "metadata": {
        "id": "zyFFR4BgHO92"
      }
    },
    {
      "cell_type": "markdown",
      "source": [
        "##### 2. What is/are the insight(s) found from the chart?"
      ],
      "metadata": {
        "id": "MR3eS7xTHO93"
      }
    },
    {
      "cell_type": "markdown",
      "source": [
        "**OVERALL CALLS**\n",
        "\n",
        "Churn customers speak more minutes that non-churn customers at day,evening and night. Hence they pay more charge that non-churn customers.\n",
        "\n",
        "We can retain churn customers if we include master plan.\n",
        "In master plan if a customer is talking more minutes then we can charge a little less amount from him or he can get discount or additional few free minutes to talk.\n",
        "\n",
        "This will make customers who are going to churn happy and they will not leave the company."
      ],
      "metadata": {
        "id": "0neckRpZHO93"
      }
    },
    {
      "cell_type": "markdown",
      "source": [
        "##### 3. Will the gained insights help creating a positive business impact? \n",
        "Are there any insights that lead to negative growth? Justify with specific reason."
      ],
      "metadata": {
        "id": "JmI1Y4YbHO93"
      }
    },
    {
      "cell_type": "markdown",
      "source": [
        "For telecom service provider calling and messaging are two essential product plans. Thus, optimizing voice call plans will definitely create a business impact. Those who are using just calling service must be provided som additional offers either in talktime or powerplus plan. Those who use voice call plan for night only, we might offer some exciting plans from midnight 12 to morning 6. For customers those who have higher accout length should be provided exciting offers as they are our loyal customers. churing of higher account length customer will have a negative impact on business.\n"
      ],
      "metadata": {
        "id": "OgeOEDgIHO93"
      }
    },
    {
      "cell_type": "markdown",
      "source": [
        "#### Chart - 8 - Customer Service Calls (Bivariate)"
      ],
      "metadata": {
        "id": "XGShqbS2HSAY"
      }
    },
    {
      "cell_type": "code",
      "source": [
        "# Chart - 8 visualization code\n",
        "# Visualizing churn rate per customer service calls\n",
        "plt.rcParams['figure.figsize'] = (12, 8)\n",
        "\n",
        "\n",
        "s1=list(dataset['Customer service calls'].unique())\n",
        "s2=list(dataset.groupby(['Customer service calls'])['Churn'].mean()*100)\n",
        "plt.bar(s1,s2, color = ['violet','indigo','b','g','y','orange','r'])\n",
        "\n",
        "\n",
        "plt.title(\" Churn rate per service call\", fontsize = 20)\n",
        "plt.xlabel('No of cust service call', fontsize = 15)\n",
        "plt.ylabel(' percentage', fontsize = 15)\n",
        "plt.show()\n"
      ],
      "metadata": {
        "id": "-6GTfuViHSAY"
      },
      "execution_count": null,
      "outputs": []
    },
    {
      "cell_type": "markdown",
      "source": [
        "##### 1. Why did you pick the specific chart?"
      ],
      "metadata": {
        "id": "B4XxyvTzHSAZ"
      }
    },
    {
      "cell_type": "markdown",
      "source": [
        "The bar graph is used to compare the items between different groups over time. Bar graphs are used to measure the changes over a period of time. When the changes are larger, a bar graph is the best option to represent the data.\n",
        "\n",
        "Thus, I have used the bar plot to show the relationship between churn rate per customer service calls."
      ],
      "metadata": {
        "id": "xBXFKddDHSAZ"
      }
    },
    {
      "cell_type": "markdown",
      "source": [
        "##### 2. What is/are the insight(s) found from the chart?"
      ],
      "metadata": {
        "id": "Mal1wQlpHSAZ"
      }
    },
    {
      "cell_type": "markdown",
      "source": [
        "**CUSTOMER SERVICE CALL**\n",
        "\n",
        "The service calls of customers varies from 0 to 9 . \n",
        "\n",
        "Those customers who make more service calls they have a high probability of leaving.\n",
        "\n",
        "As we can see from graph , customers with more then 5 service calls their probability of leaving is more then 50 %.\n",
        "\n",
        "Hence customers who make more then 5 service calls, their queries should be solved immediately and they should be given better service so that they dont leave the company.\n",
        "\n",
        "***Customers with four or more customer service calls churn more than four times as often as do the other customers***"
      ],
      "metadata": {
        "id": "pxwDuAqQHSAZ"
      }
    },
    {
      "cell_type": "markdown",
      "source": [
        "##### 3. Will the gained insights help creating a positive business impact? \n",
        "Are there any insights that lead to negative growth? Justify with specific reason."
      ],
      "metadata": {
        "id": "BgP_e3WlHSAZ"
      }
    },
    {
      "cell_type": "markdown",
      "source": [
        "Customer service is an essential factor for every business. SO definitely good customer service will have a positive impact to the business. We have to look afted the customer calls and customer query report resolution duration. Need to optimize the time period. If one type of issue is coming from more than 5 customers, root cause analysis should be done on that same issue and should be resolved for everyone.\n",
        "Need to reduce the calls for each customer and he should be satisfied in a single call only. The customer service agents should be given great offer or recognition over great performance of customer issue resolution."
      ],
      "metadata": {
        "id": "15jESfbyHSAZ"
      }
    },
    {
      "cell_type": "markdown",
      "source": [
        "#### Chart - 9 - Column wise Histogram & Box Plot Univariate Analysis"
      ],
      "metadata": {
        "id": "I3aNiIh9fKqZ"
      }
    },
    {
      "cell_type": "code",
      "source": [
        "# Chart - 9 visualization code\n",
        "# Visualizing code of hist plot for each columns to know the data distibution\n",
        "for col in dataset.describe().columns:\n",
        "  fig=plt.figure(figsize=(9,6))\n",
        "  ax=fig.gca()\n",
        "  feature= (dataset[col])\n",
        "  sns.distplot(dataset[col])\n",
        "  ax.axvline(feature.mean(),color='magenta', linestyle='dashed', linewidth=2)\n",
        "  ax.axvline(feature.median(),color='cyan', linestyle='dashed', linewidth=2)\n",
        "  ax.set_title(col)\n",
        "plt.show()\n",
        "\n",
        "# Visualizing code of box plot for each columns to know the data distibution\n",
        "for col in dataset.describe().columns:\n",
        "    fig = plt.figure(figsize=(9, 6))\n",
        "    ax = fig.gca()\n",
        "    dataset.boxplot( col, ax = ax)\n",
        "    ax.set_title('Label by ' + col)\n",
        "    #ax.set_ylabel(\"Churn\")\n",
        "plt.show()\n"
      ],
      "metadata": {
        "id": "WPVINT_UfKqa"
      },
      "execution_count": null,
      "outputs": []
    },
    {
      "cell_type": "markdown",
      "source": [
        "##### 1. Why did you pick the specific chart?"
      ],
      "metadata": {
        "id": "hTF1e9PwfKqa"
      }
    },
    {
      "cell_type": "markdown",
      "source": [
        "The histogram is a popular graphing tool. It is used to summarize discrete or continuous data that are measured on an interval scale. It is often used to illustrate the major features of the distribution of the data in a convenient form. It is also useful when dealing with large data sets (greater than 100 observations). It can help detect any unusual observations (outliers) or any gaps in the data.\n",
        "\n",
        "Thus, I used the histogram plot to analysis the variable distributions over the whole dataset whether it's symmetric or not.\n",
        "\n",
        "Box plots are used to show distributions of numeric data values, especially when you want to compare them between multiple groups. They are built to provide high-level information at a glance, offering general information about a group of data's symmetry, skew, variance, and outliers.\n",
        "\n",
        "Thus, for each numerical varibale in the given dataset, I used box plot to analyse the outliers and interquartile range including mean, median, maximum and minimum value."
      ],
      "metadata": {
        "id": "XOYaZpKpfKqa"
      }
    },
    {
      "cell_type": "markdown",
      "source": [
        "##### 2. What is/are the insight(s) found from the chart?"
      ],
      "metadata": {
        "id": "1xrBLU6IfKqa"
      }
    },
    {
      "cell_type": "markdown",
      "source": [
        "Almost all columns are symmetric distributed and mean is nearly same with median for numerical columns. Here Area code will be treated as text values as there are only 3 values in the particular column."
      ],
      "metadata": {
        "id": "rrwjuBlHfKqb"
      }
    },
    {
      "cell_type": "markdown",
      "source": [
        "##### 3. Will the gained insights help creating a positive business impact? \n",
        "Are there any insights that lead to negative growth? Justify with specific reason."
      ],
      "metadata": {
        "id": "yiLHMWFSfKqb"
      }
    },
    {
      "cell_type": "markdown",
      "source": [
        "Just a histogram and box plot cannot define business impact. It's done just to see the distribution of the column data over the dataset."
      ],
      "metadata": {
        "id": "7cTtRDwufKqb"
      }
    },
    {
      "cell_type": "markdown",
      "source": [
        "#### Chart - 10 - Correlation Heatmap"
      ],
      "metadata": {
        "id": "NC_X3p0fY2L0"
      }
    },
    {
      "cell_type": "code",
      "source": [
        "# Correlation Heatmap visualization code\n",
        "corr = dataset.corr()\n",
        "cmap = cmap=sns.diverging_palette(5, 250, as_cmap=True)\n",
        "\n",
        "def magnify():\n",
        "    return [dict(selector=\"th\",\n",
        "                 props=[(\"font-size\", \"7pt\")]),\n",
        "            dict(selector=\"td\",\n",
        "                 props=[('padding', \"0em 0em\")]),\n",
        "            dict(selector=\"th:hover\",\n",
        "                 props=[(\"font-size\", \"12pt\")]),\n",
        "            dict(selector=\"tr:hover td:hover\",\n",
        "                 props=[('max-width', '200px'),\n",
        "                        ('font-size', '12pt')])\n",
        "]\n",
        "\n",
        "corr.style.background_gradient(cmap, axis=1)\\\n",
        "    .set_properties(**{'max-width': '80px', 'font-size': '10pt'})\\\n",
        "    .set_caption(\"Hover to magify\")\\\n",
        "    .set_precision(2)\\\n",
        "    .set_table_styles(magnify())"
      ],
      "metadata": {
        "id": "xyC9zolEZNRQ"
      },
      "execution_count": null,
      "outputs": []
    },
    {
      "cell_type": "markdown",
      "source": [
        "##### 1. Why did you pick the specific chart?"
      ],
      "metadata": {
        "id": "UV0SzAkaZNRQ"
      }
    },
    {
      "cell_type": "markdown",
      "source": [
        "A correlation matrix is a table showing correlation coefficients between variables. Each cell in the table shows the correlation between two variables. A correlation matrix is used to summarize data, as an input into a more advanced analysis, and as a diagnostic for advanced analyses. The range of correlation is [-1,1].\n",
        "\n",
        "Thus to know the correlation between all the variables along with the correlation coeficients, i used correlation heatmap."
      ],
      "metadata": {
        "id": "DVPuT8LYZNRQ"
      }
    },
    {
      "cell_type": "markdown",
      "source": [
        "##### 2. What is/are the insight(s) found from the chart?"
      ],
      "metadata": {
        "id": "YPEH6qLeZNRQ"
      }
    },
    {
      "cell_type": "markdown",
      "source": [
        "From the above correlation heatmap, we can see total day charge & total day minute, total evening charge & total evening minute, total night charge & total night minute are positiveliy highly correlated with a value of 1.\n",
        "\n",
        "Customer service call is positively correlated only with area code and negative correlated with rest variables.\n",
        "\n",
        "Rest all correlation can be depicted from the above chart.\n"
      ],
      "metadata": {
        "id": "bfSqtnDqZNRR"
      }
    },
    {
      "cell_type": "markdown",
      "source": [
        "#### Chart - 11 - Pair Plot "
      ],
      "metadata": {
        "id": "q29F0dvdveiT"
      }
    },
    {
      "cell_type": "code",
      "source": [
        "# Pair Plot visualization code\n",
        "sns.pairplot(dataset, hue=\"Churn\")"
      ],
      "metadata": {
        "id": "o58-TEIhveiU"
      },
      "execution_count": null,
      "outputs": []
    },
    {
      "cell_type": "markdown",
      "source": [
        "##### 1. Why did you pick the specific chart?"
      ],
      "metadata": {
        "id": "EXh0U9oCveiU"
      }
    },
    {
      "cell_type": "markdown",
      "source": [
        "Pair plot is used to understand the best set of features to explain a relationship between two variables or to form the most separated clusters. It also helps to form some simple classification models by drawing some simple lines or make linear separation in our data-set.\n",
        "\n",
        "Thus, I used pair plot to analyse the patterns of data and realationship between the features. It's exactly same as the correlation map but here you will get the graphical representation."
      ],
      "metadata": {
        "id": "eMmPjTByveiU"
      }
    },
    {
      "cell_type": "markdown",
      "source": [
        "##### 2. What is/are the insight(s) found from the chart?"
      ],
      "metadata": {
        "id": "22aHeOlLveiV"
      }
    },
    {
      "cell_type": "markdown",
      "source": [
        "From the above chart I got to know, there are less linear relationship between variables and data poiunts aren't linearly separable. Churned customers data is clusetered and ovearlapped each other. Non churn data are quite symmetrical in nature and churned customer data are quite non symmetric in nature. In this whole pair plot, the importance of area code can be seen and the number of churn with respect to different features are really insightful. Rest insights can be depicted from the above graph."
      ],
      "metadata": {
        "id": "uPQ8RGwHveiV"
      }
    },
    {
      "cell_type": "markdown",
      "source": [
        "## ***5. Hypothesis Testing***"
      ],
      "metadata": {
        "id": "g-ATYxFrGrvw"
      }
    },
    {
      "cell_type": "markdown",
      "source": [
        "### Based on your chart experiments, define three hypothetical statements from the dataset. In the next three questions, perform hypothesis testing to obtain final conclusion about the statements through your code and statistical testing."
      ],
      "metadata": {
        "id": "Yfr_Vlr8HBkt"
      }
    },
    {
      "cell_type": "markdown",
      "source": [
        "1. Customers not churning with Voicemail plan have sent average of at least 30 number of voicemails.\n",
        "2. Customers not churning having  customer care calls average of at most 2.\n",
        "3. Customers churning have total average call minutes including day, evening, night and international calls is 215."
      ],
      "metadata": {
        "id": "-7MS06SUHkB-"
      }
    },
    {
      "cell_type": "code",
      "source": [
        "# Creating Parameter Class \n",
        "class findz:\n",
        "  def proportion(self,sample,hyp,size):\n",
        "    return (sample - hyp)/math.sqrt(hyp*(1-hyp)/size)\n",
        "  def mean(self,hyp,sample,size,std):\n",
        "    return (sample - hyp)*math.sqrt(size)/std\n",
        "  def varience(self,hyp,sample,size):\n",
        "    return (size-1)*sample/hyp\n",
        "\n",
        "variance = lambda x : sum([(i - np.mean(x))**2 for i in x])/(len(x)-1)\n",
        "zcdf = lambda x: norm(0,1).cdf(x)\n",
        "# Creating a function for getting P value\n",
        "def p_value(z,tailed,t,hypothesis_number,df,col):\n",
        "  if t!=\"true\":\n",
        "    z=zcdf(z)\n",
        "    if tailed=='l':\n",
        "      return z\n",
        "    elif tailed == 'r':\n",
        "      return 1-z\n",
        "    elif tailed == 'd':\n",
        "      if z>0.5:\n",
        "        return 2*(1-z)\n",
        "      else:\n",
        "        return 2*z\n",
        "    else:\n",
        "      return np.nan\n",
        "  else:\n",
        "    z,p_value=stats.ttest_1samp(df[col],hypothesis_number)\n",
        "    return p_value\n",
        "    \n",
        "  \n",
        "\n",
        "\n",
        "# Conclusion about the P - Value\n",
        "def conclusion(p):\n",
        "  significance_level = 0.05\n",
        "  if p>significance_level:\n",
        "    return f\"Failed to reject the Null Hypothesis for p = {p}.\"\n",
        "  else:\n",
        "    return f\"Null Hypothesis rejected Successfully for p = {p}\"\n",
        "\n",
        "# Initializing the class\n",
        "findz = findz()"
      ],
      "metadata": {
        "id": "9C3DDHpRUM7E"
      },
      "execution_count": null,
      "outputs": []
    },
    {
      "cell_type": "markdown",
      "source": [
        "### Hypothetical Statement - 1\n",
        "Customers not churning with Voicemail plan have sent average of at least 30 number of voicemails."
      ],
      "metadata": {
        "id": "8yEUt7NnHlrM"
      }
    },
    {
      "cell_type": "markdown",
      "source": [
        "#### 1. State Your research hypothesis as a null hypothesis and alternate hypothesis."
      ],
      "metadata": {
        "id": "tEA2Xm5dHt1r"
      }
    },
    {
      "cell_type": "markdown",
      "source": [
        "Null Hypothesis: N = 30\n",
        "\n",
        "Alternate Hypothesis : N < 30\n",
        "\n",
        "Test Type: Left Tailed Test\n"
      ],
      "metadata": {
        "id": "HI9ZP0laH0D-"
      }
    },
    {
      "cell_type": "markdown",
      "source": [
        "#### 2. Perform an appropriate statistical test."
      ],
      "metadata": {
        "id": "I79__PHVH19G"
      }
    },
    {
      "cell_type": "code",
      "source": [
        "# Perform Statistical Test to obtain P-Value\n",
        "hypo_1=dataset[(dataset[\"Churn\"]==False) & (dataset[\"Voice mail plan\"]==\"Yes\")]\n",
        "# Getting the required parameter values for hypothesis testing\n",
        "hypothesis_number = 30\n",
        "sample_mean = hypo_1[\"Number vmail messages\"].mean()\n",
        "size = len(hypo_1)\n",
        "std=(variance(hypo_1[\"Number vmail messages\"]))**0.5"
      ],
      "metadata": {
        "id": "oZrfquKtyian"
      },
      "execution_count": null,
      "outputs": []
    },
    {
      "cell_type": "code",
      "source": [
        "# Getting Z value\n",
        "z = findz.mean(hypothesis_number,sample_mean,size,std)\n",
        "# Getting P - Value\n",
        "p = p_value(z=z,tailed='l',t=\"false\",hypothesis_number=hypothesis_number,df=hypo_1,col=\"Number vmail messages\")\n",
        "# Getting Conclusion\n",
        "print(conclusion(p))"
      ],
      "metadata": {
        "id": "kZRQhS2VZ53g"
      },
      "execution_count": null,
      "outputs": []
    },
    {
      "cell_type": "markdown",
      "source": [
        "##### Which statistical test have you done to obtain P-Value?"
      ],
      "metadata": {
        "id": "Ou-I18pAyIpj"
      }
    },
    {
      "cell_type": "markdown",
      "source": [
        "I have used Z-Test as the statistical testing to obtain P-Value and found the result that Null hypothesis has been rejected and Customers not churning with Voicemail plan haven't sent at least 30 number of voicemails. But, we can see a maximum of 50 voice mails sent and sutomers aren't taking benefits of 50 messages although they have taken Voice Mail Plan."
      ],
      "metadata": {
        "id": "s2U0kk00ygSB"
      }
    },
    {
      "cell_type": "markdown",
      "source": [
        "##### Why did you choose the specific statistical test?"
      ],
      "metadata": {
        "id": "fF3858GYyt-u"
      }
    },
    {
      "cell_type": "code",
      "source": [
        "# Visualizing code of hist plot for required columns to know the data distibution\n",
        "\n",
        "fig=plt.figure(figsize=(9,6))\n",
        "ax=fig.gca()\n",
        "feature= (hypo_1[\"Number vmail messages\"])\n",
        "sns.distplot(hypo_1[\"Number vmail messages\"])\n",
        "ax.axvline(feature.mean(),color='magenta', linestyle='dashed', linewidth=2)\n",
        "ax.axvline(feature.median(),color='cyan', linestyle='dashed', linewidth=2)\n",
        "ax.set_title(col)\n",
        "plt.show()"
      ],
      "metadata": {
        "id": "Tz1TkC-_ZdhI"
      },
      "execution_count": null,
      "outputs": []
    },
    {
      "cell_type": "markdown",
      "source": [
        "As shown in the figure the mean is approximately same as the median. Thus, it is a Normal Distribution. That's why I have used Z-Test directly."
      ],
      "metadata": {
        "id": "HO4K0gP5y3B4"
      }
    },
    {
      "cell_type": "markdown",
      "source": [
        "### Hypothetical Statement - 2\n",
        "Customers not churning having customer care calls average of at most 2."
      ],
      "metadata": {
        "id": "jLrtcv83OEmf"
      }
    },
    {
      "cell_type": "markdown",
      "source": [
        "#### 1. State Your research hypothesis as a null hypothesis and alternate hypothesis."
      ],
      "metadata": {
        "id": "5djnGilGOEmg"
      }
    },
    {
      "cell_type": "markdown",
      "source": [
        "Null Hypothesis : N = 4\n",
        "\n",
        "Alternate Hypothesis : N > 4\n",
        "\n",
        "Test Type : Right Tailed Test\n",
        "\n"
      ],
      "metadata": {
        "id": "ps8ZluDUOEmg"
      }
    },
    {
      "cell_type": "markdown",
      "source": [
        "#### 2. Perform an appropriate statistical test."
      ],
      "metadata": {
        "id": "DADo_qtwOEmg"
      }
    },
    {
      "cell_type": "code",
      "source": [
        "# Perform Statistical Test to obtain P-Value\n",
        "hypo_2=dataset[(dataset[\"Churn\"]==False)]\n",
        "# Getting the required parameter values for hypothesis testing\n",
        "hypothesis_number = 2\n",
        "sample_mean = hypo_2[\"Customer service calls\"].mean()\n",
        "size = len(hypo_2)\n",
        "std=(variance(hypo_2[\"Customer service calls\"]))**0.5"
      ],
      "metadata": {
        "id": "0v4QJexjOEmh"
      },
      "execution_count": null,
      "outputs": []
    },
    {
      "cell_type": "code",
      "source": [
        "# Getting Z value\n",
        "z = findz.mean(hypothesis_number,sample_mean,size,std)\n",
        "# Getting P - Value\n",
        "p = p_value(z=z,tailed='r',t=\"false\",hypothesis_number=hypothesis_number,df=hypo_2,col=\"Customer service calls\")\n",
        "# Getting Conclusion\n",
        "print(conclusion(p))"
      ],
      "metadata": {
        "id": "40AHeMyBe-Pr"
      },
      "execution_count": null,
      "outputs": []
    },
    {
      "cell_type": "markdown",
      "source": [
        "##### Which statistical test have you done to obtain P-Value?"
      ],
      "metadata": {
        "id": "0VL2QIwzOEmh"
      }
    },
    {
      "cell_type": "markdown",
      "source": [
        "I have used Z-Test as the statistical testing to obtain P-Value and found the result that Null hypothesis can't be rejected and Customers not churning having customer care calls average of at most 2. So, we can see a clear picture that average of 2-2.5 doesn't lead to customer churn. So, we should keep the customer queries resolution call average in betwwen 2-2.5."
      ],
      "metadata": {
        "id": "9EZtE-psOEmh"
      }
    },
    {
      "cell_type": "markdown",
      "source": [
        "##### Why did you choose the specific statistical test?"
      ],
      "metadata": {
        "id": "69qjvWOxOEmh"
      }
    },
    {
      "cell_type": "code",
      "source": [
        "mean_median_difference=hypo_2[\"Customer service calls\"].mean()- hypo_2[\"Customer service calls\"].median()\n",
        "print(\"Mean Median Difference is :-\",mean_median_difference)"
      ],
      "metadata": {
        "id": "4VWq37ORjNaP"
      },
      "execution_count": null,
      "outputs": []
    },
    {
      "cell_type": "markdown",
      "source": [
        "As shown above the Mean median difference is around 0.4 and nearly zero. Mean is approximately same as the median. Thus, it is a Normal Distribution. That's why I have used Z-Test directly."
      ],
      "metadata": {
        "id": "1WtUDDNROEmh"
      }
    },
    {
      "cell_type": "markdown",
      "source": [
        "### Hypothetical Statement - 3\n",
        "Customers churning have total average call minutes including day, evening, night and international calls is 215."
      ],
      "metadata": {
        "id": "FqZJ_xAgOH3o"
      }
    },
    {
      "cell_type": "markdown",
      "source": [
        "#### 1. State Your research hypothesis as a null hypothesis and alternate hypothesis."
      ],
      "metadata": {
        "id": "pE65w-N1OH3p"
      }
    },
    {
      "cell_type": "markdown",
      "source": [
        "Null Hypothesis : mean = 215\n",
        "\n",
        "Alternate Hypothesise : mean != 215\n",
        "\n",
        "Type of Test : Two Tailed test"
      ],
      "metadata": {
        "id": "9QVaMT2vOH3p"
      }
    },
    {
      "cell_type": "markdown",
      "source": [
        "#### 2. Perform an appropriate statistical test."
      ],
      "metadata": {
        "id": "OISwWHvhOH3p"
      }
    },
    {
      "cell_type": "code",
      "source": [
        "# Perform Statistical Test to obtain P-Value\n",
        "hypo_3=dataset[(dataset[\"Churn\"]==True)]\n",
        "hypo_3[\"total call minutes\"]=hypo_3[\"Total day minutes\"]+hypo_3[\"Total eve minutes\"]+hypo_3[\"Total night minutes\"]+hypo_3[\"Total intl minutes\"]\n",
        "# Getting the required parameter values for hypothesis testing\n",
        "hypothesis_number = 500\n",
        "sample_mean = hypo_3[\"total call minutes\"].mean()\n",
        "size = len(hypo_3)\n",
        "std=(variance(hypo_3[\"total call minutes\"]))**0.5"
      ],
      "metadata": {
        "id": "yOMTknz0OH3p"
      },
      "execution_count": null,
      "outputs": []
    },
    {
      "cell_type": "code",
      "source": [
        "# Getting Z value\n",
        "z = findz.mean(hypothesis_number,sample_mean,size,std)\n",
        "# Getting P - Value\n",
        "p = p_value(z=z,tailed='d',t=\"true\",hypothesis_number=hypothesis_number,df=hypo_3,col=\"total call minutes\")\n",
        "# Getting Conclusion\n",
        "print(conclusion(p))"
      ],
      "metadata": {
        "id": "zZD_V41OmXHo"
      },
      "execution_count": null,
      "outputs": []
    },
    {
      "cell_type": "markdown",
      "source": [
        "##### Which statistical test have you done to obtain P-Value?"
      ],
      "metadata": {
        "id": "rheC10M4OH3q"
      }
    },
    {
      "cell_type": "markdown",
      "source": [
        "I have used T-Test as the statistical testing to obtain P-Value and found the result that Null hypothesis has been rejected and Customers churning haven't total average call minutes including day, evening, night and international calls is 215. It's more than 600."
      ],
      "metadata": {
        "id": "Obd1DMgROH3q"
      }
    },
    {
      "cell_type": "markdown",
      "source": [
        "##### Why did you choose the specific statistical test?"
      ],
      "metadata": {
        "id": "-CtoKDX7OH3q"
      }
    },
    {
      "cell_type": "code",
      "source": [
        "# Visualizing code of hist plot for required columns to know the data distibution\n",
        "\n",
        "fig=plt.figure(figsize=(9,6))\n",
        "ax=fig.gca()\n",
        "feature= (hypo_3[\"total call minutes\"])\n",
        "sns.distplot(hypo_3[\"total call minutes\"])\n",
        "ax.axvline(feature.mean(),color='magenta', linestyle='dashed', linewidth=2)\n",
        "ax.axvline(feature.median(),color='cyan', linestyle='dashed', linewidth=2)\n",
        "ax.set_title(col)\n",
        "plt.show()"
      ],
      "metadata": {
        "id": "yk2FrhmxnQUI"
      },
      "execution_count": null,
      "outputs": []
    },
    {
      "cell_type": "code",
      "source": [
        "mean_median_difference=hypo_3[\"total call minutes\"].median()- hypo_3[\"total call minutes\"].mean()\n",
        "print(\"Mean Median Difference is :-\",mean_median_difference)"
      ],
      "metadata": {
        "id": "8a7kQaT2m054"
      },
      "execution_count": null,
      "outputs": []
    },
    {
      "cell_type": "markdown",
      "source": [
        "From the above chart we can see median is greater than mean over 10. So, the distribution is postively skewed. For a skewed data Z-Test can't be performed.\n",
        "\n",
        "Non-parametric tests are most useful for small studies. Using non-parametric tests in large studies may provide answers to the wrong question, thus confusing readers. For studies with a large sample size, t-tests and their corresponding confidence intervals can and should be used even for heavily skewed data.\n",
        "\n",
        "So, for a skewed data we can use T-test for better result. Thus, I used t - test."
      ],
      "metadata": {
        "id": "f9IOMHYuOH3q"
      }
    },
    {
      "cell_type": "markdown",
      "source": [
        "## ***6. Feature Engineering & Data Pre-processing***"
      ],
      "metadata": {
        "id": "yLjJCtPM0KBk"
      }
    },
    {
      "cell_type": "code",
      "source": [
        "# Creating a copy of the dataset for further feature engineering\n",
        "df=dataset.copy()"
      ],
      "metadata": {
        "id": "nEQ5IKIFtrok"
      },
      "execution_count": null,
      "outputs": []
    },
    {
      "cell_type": "markdown",
      "source": [
        "### 1. Handling Missing Values"
      ],
      "metadata": {
        "id": "xiyOF9F70UgQ"
      }
    },
    {
      "cell_type": "code",
      "source": [
        "# Handling Missing Values & Missing Value Imputation\n",
        "# Missing Values/Null Values Count\n",
        "print(df.isnull().sum())\n",
        "\n",
        "# Visualizing the missing values\n",
        "# Checking Null Value by plotting Heatmap\n",
        "sns.heatmap(df.isnull(), cbar=False)"
      ],
      "metadata": {
        "id": "iRsAHk1K0fpS"
      },
      "execution_count": null,
      "outputs": []
    },
    {
      "cell_type": "markdown",
      "source": [
        "#### What all missing value imputation techniques have you used and why did you use those techniques?"
      ],
      "metadata": {
        "id": "7wuGOrhz0itI"
      }
    },
    {
      "cell_type": "markdown",
      "source": [
        "There are no missing values to handle in the given dataset."
      ],
      "metadata": {
        "id": "1ixusLtI0pqI"
      }
    },
    {
      "cell_type": "markdown",
      "source": [
        "### 2. Handling Outliers"
      ],
      "metadata": {
        "id": "id1riN9m0vUs"
      }
    },
    {
      "cell_type": "code",
      "source": [
        "# Handling Outliers & Outlier treatments\n",
        "# To separate the symmetric distributed features and skew symmetric distributed features\n",
        "df[\"Area code\"]=df[\"Area code\"].astype('str')\n",
        "symmetric_feature=[]\n",
        "non_symmetric_feature=[]\n",
        "for i in df.describe().columns:\n",
        "  if abs(df[i].mean()-df[i].median())<0.2:\n",
        "    symmetric_feature.append(i)\n",
        "  else:\n",
        "    non_symmetric_feature.append(i)\n",
        "\n",
        "# Getting Symmetric Distributed Features\n",
        "print(\"Symmetric Distributed Features : -\",symmetric_feature)\n",
        "\n",
        "# Getting Skew Symmetric Distributed Features\n",
        "print(\"Skew Symmetric Distributed Features : -\",non_symmetric_feature)\n",
        "\n",
        "# Removing Customer Service Calls column from the list as it's an important factor\n",
        "# which can't be treated as outliers here will is already leading to higher churn as we have seen furing analysis.\n",
        "non_symmetric_feature.pop()\n"
      ],
      "metadata": {
        "id": "M6w2CzZf04JK"
      },
      "execution_count": null,
      "outputs": []
    },
    {
      "cell_type": "code",
      "metadata": {
        "id": "VqJ-nKe-7sH1"
      },
      "source": [
        "# For Symmetric features defining upper and lower boundry\n",
        "def outlier_treatment(df,feature):\n",
        "  upper_boundary= df[feature].mean()+3*df[feature].std()\n",
        "  lower_boundary= df[feature].mean()-3*df[feature].std()\n",
        "  return upper_boundary,lower_boundary"
      ],
      "execution_count": null,
      "outputs": []
    },
    {
      "cell_type": "code",
      "metadata": {
        "id": "iu4N8d5i8Jdr"
      },
      "source": [
        "# Restricting the data to lower and upper boundry\n",
        "for feature in symmetric_feature:\n",
        "  df.loc[df[feature]<= outlier_treatment(df=df,feature=feature)[1], feature]=outlier_treatment(df=df,feature=feature)[1]\n",
        "  df.loc[df[feature]>= outlier_treatment(df=df,feature=feature)[0], feature]=outlier_treatment(df=df,feature=feature)[0]"
      ],
      "execution_count": null,
      "outputs": []
    },
    {
      "cell_type": "code",
      "metadata": {
        "id": "atgeFnRY8G1w"
      },
      "source": [
        "# For Skew Symmetric features defining upper and lower boundry\n",
        "#Outer Fence\n",
        "def outlier_treatment_skew(df,feature):\n",
        "  IQR= df[feature].quantile(0.75)- df[feature].quantile(0.25)\n",
        "  lower_bridge =df[feature].quantile(0.25)-3*IQR\n",
        "  upper_bridge =df[feature].quantile(0.25)+3*IQR\n",
        "  return upper_bridge,lower_bridge"
      ],
      "execution_count": null,
      "outputs": []
    },
    {
      "cell_type": "code",
      "metadata": {
        "id": "by9igFMl9evx"
      },
      "source": [
        "# Restricting the data to lower and upper boundry\n",
        "for feature in non_symmetric_feature:\n",
        "  df.loc[df[feature]<= outlier_treatment_skew(df=df,feature=feature)[1], feature]=outlier_treatment_skew(df=df,feature=feature)[1]\n",
        "  df.loc[df[feature]>= outlier_treatment_skew(df=df,feature=feature)[0], feature]=outlier_treatment_skew(df=df,feature=feature)[0]"
      ],
      "execution_count": null,
      "outputs": []
    },
    {
      "cell_type": "code",
      "source": [
        "# After Outlier Treatment showing the dataset distribution using strip plot\n",
        "# Visualising  code for the numerical columns \n",
        "for col in df.describe().columns:\n",
        "  fig=plt.figure(figsize=(9,6))\n",
        "  sns.stripplot(df[col])"
      ],
      "metadata": {
        "id": "56KLPEcOw-MQ"
      },
      "execution_count": null,
      "outputs": []
    },
    {
      "cell_type": "markdown",
      "source": [
        "##### What all outlier treatment techniques have you used and why did you use those techniques?"
      ],
      "metadata": {
        "id": "578E2V7j08f6"
      }
    },
    {
      "cell_type": "markdown",
      "source": [
        "First I changed the Area Code column to sring as it shouldn't be treated as numerical column as there are only three type of values and should be treated as categorical column. Then I separated the skew symmetric and symmetric features and define the upper and lower boundry as defined below. Again, as it is a classification problem I restrict the both bopundaries and I pull down the higher value restricted to the upper limit, i.e., if a person is churning with the value 150 for any column but IQR and upper boundary range is 140, so quite possible that he will also be churned for 140 too and restricting the value to 140 which is upper boundary. \n",
        "\n",
        "Another way to do it is dropping extreme values but I didn't do that due to less no. of datapoints I have."
      ],
      "metadata": {
        "id": "MUP21tsOyJjb"
      }
    },
    {
      "cell_type": "markdown",
      "metadata": {
        "id": "fDVHj6krj3xX"
      },
      "source": [
        "In a Gaussian distribution while it’s the symmetric curve and outlier are present. Then, we can set the boundary by taking standard deviation into action."
      ]
    },
    {
      "cell_type": "markdown",
      "metadata": {
        "id": "LdEiDCi_kAFM"
      },
      "source": [
        "The box plot is a useful graphical display for describing the behavior of the data in the middle as well as at the ends of the distributions. The box plot uses the median and the lower and upper quartiles (defined as the 25th and 75th percentiles). If the lower quartile is Q1 and the upper quartile is Q3, then the difference (Q3 — Q1) is called the interquartile range or IQ. A box plot is constructed by drawing a box between the upper and lower quartiles with a solid line drawn across the box to locate the median. The following quantities (called fences) are needed for identifying extreme values in the tails of the distribution:\n",
        "1.\tlower inner fence: Q1–1.5*IQ\n",
        "2.\tupper inner fence: Q3 + 1.5*IQ\n",
        "3.\tlower outer fence: Q1–3*IQ\n",
        "4.\tupper outer fence: Q3 + 3*IQ\n"
      ]
    },
    {
      "cell_type": "markdown",
      "source": [
        "### 3. Categorical Encoding"
      ],
      "metadata": {
        "id": "89xtkJwZ18nB"
      }
    },
    {
      "cell_type": "code",
      "source": [
        "# Encode your categorical columns\n",
        "# Getting the categorical columns\n",
        "categorical_columns=list(set(df.columns.to_list()).difference(set(df.describe().columns.to_list())))\n",
        "print(\"Categorical Columns are :-\", categorical_columns)"
      ],
      "metadata": {
        "id": "21JmIYMG2hEo"
      },
      "execution_count": null,
      "outputs": []
    },
    {
      "cell_type": "code",
      "source": [
        "# Getting dictionaries for Label Encoding\n",
        "dict1={True:1,False:0}\n",
        "dict2={\"Yes\":1,\"No\":0}\n",
        "area_code_list=sorted(list(df[\"Area code\"].unique()))\n",
        "dict3=dict(zip(area_code_list,range(0,len(area_code_list))))"
      ],
      "metadata": {
        "id": "2cHDDpdnzlqm"
      },
      "execution_count": null,
      "outputs": []
    },
    {
      "cell_type": "code",
      "source": [
        "# Label Encoding in the dataset\n",
        "df['Churn']=df['Churn'].map(dict1)\n",
        "df['International plan']=df['International plan'].map(dict2)\n",
        "df['Voice mail plan']=df['Voice mail plan'].map(dict2)\n",
        "df['Area code']=df['Area code'].map(dict3)"
      ],
      "metadata": {
        "id": "3tjNK6xp1yxo"
      },
      "execution_count": null,
      "outputs": []
    },
    {
      "cell_type": "code",
      "source": [
        "# One Hot Encoding on State Column\n",
        "df=pd.get_dummies(df,drop_first= True)"
      ],
      "metadata": {
        "id": "axarb3YM1yvY"
      },
      "execution_count": null,
      "outputs": []
    },
    {
      "cell_type": "markdown",
      "source": [
        "#### What all categorical encoding techniques have you used & why did you use those techniques?"
      ],
      "metadata": {
        "id": "67NQN5KX2AMe"
      }
    },
    {
      "cell_type": "markdown",
      "source": [
        "I have used Label Encoding technique for Churn, Area Code, Voice Mail & International Plan column and One Hot Encoding for State Column. As we have seen during analysis, that State date is very very important and we also created some hypothesis based on our logics that there are some states which have poor network issues or maintainence needed there. So, We can ignore the State Column. Thus One hot encoded on that column, and for rest categorical columns, I have used label encoding, because there are only 2-3 unique values in each column which needed to be encoded."
      ],
      "metadata": {
        "id": "UDaue5h32n_G"
      }
    },
    {
      "cell_type": "markdown",
      "source": [
        "### 4. Textual Data Preprocessing \n",
        "(It's mandatory for textual dataset i.e., NLP, Sentiment Analysis, Text Clustering etc.)\n",
        "\n",
        "**There are no text columns in the given dataset which I am working on. So, Skipping this part.**"
      ],
      "metadata": {
        "id": "Iwf50b-R2tYG"
      }
    },
    {
      "cell_type": "markdown",
      "source": [
        "#### 1. Expand Contraction"
      ],
      "metadata": {
        "id": "GMQiZwjn3iu7"
      }
    },
    {
      "cell_type": "code",
      "source": [
        "# Expand Contraction"
      ],
      "metadata": {
        "id": "PTouz10C3oNN"
      },
      "execution_count": null,
      "outputs": []
    },
    {
      "cell_type": "markdown",
      "source": [
        "#### 2. Lower Casing"
      ],
      "metadata": {
        "id": "WVIkgGqN3qsr"
      }
    },
    {
      "cell_type": "code",
      "source": [
        "# Lower Casing"
      ],
      "metadata": {
        "id": "88JnJ1jN3w7j"
      },
      "execution_count": null,
      "outputs": []
    },
    {
      "cell_type": "markdown",
      "source": [
        "#### 3. Removing Punctuations"
      ],
      "metadata": {
        "id": "XkPnILGE3zoT"
      }
    },
    {
      "cell_type": "code",
      "source": [
        "# Remove Punctuations"
      ],
      "metadata": {
        "id": "vqbBqNaA33c0"
      },
      "execution_count": null,
      "outputs": []
    },
    {
      "cell_type": "markdown",
      "source": [
        "#### 4. Removing URLs & Removing words and digits contain digits."
      ],
      "metadata": {
        "id": "Hlsf0x5436Go"
      }
    },
    {
      "cell_type": "code",
      "source": [
        "# Remove URLs & Remove words and digits contain digits"
      ],
      "metadata": {
        "id": "2sxKgKxu4Ip3"
      },
      "execution_count": null,
      "outputs": []
    },
    {
      "cell_type": "markdown",
      "source": [
        "#### 5. Removing Stopwords & Removing White spaces"
      ],
      "metadata": {
        "id": "mT9DMSJo4nBL"
      }
    },
    {
      "cell_type": "code",
      "source": [
        "# Remove Stopwords"
      ],
      "metadata": {
        "id": "T2LSJh154s8W"
      },
      "execution_count": null,
      "outputs": []
    },
    {
      "cell_type": "code",
      "source": [
        "# Remove White spaces"
      ],
      "metadata": {
        "id": "EgLJGffy4vm0"
      },
      "execution_count": null,
      "outputs": []
    },
    {
      "cell_type": "markdown",
      "source": [
        "#### 6. Rephrase Text"
      ],
      "metadata": {
        "id": "c49ITxTc407N"
      }
    },
    {
      "cell_type": "code",
      "source": [
        "# Rephrase Text"
      ],
      "metadata": {
        "id": "foqY80Qu48N2"
      },
      "execution_count": null,
      "outputs": []
    },
    {
      "cell_type": "markdown",
      "source": [
        "#### 7. Tokenization"
      ],
      "metadata": {
        "id": "OeJFEK0N496M"
      }
    },
    {
      "cell_type": "code",
      "source": [
        "# Tokenization"
      ],
      "metadata": {
        "id": "ijx1rUOS5CUU"
      },
      "execution_count": null,
      "outputs": []
    },
    {
      "cell_type": "markdown",
      "source": [
        "#### 8. Text Normalization"
      ],
      "metadata": {
        "id": "9ExmJH0g5HBk"
      }
    },
    {
      "cell_type": "code",
      "source": [
        "# Normalizing Text (i.e., Stemming, Lemmatization etc.)"
      ],
      "metadata": {
        "id": "AIJ1a-Zc5PY8"
      },
      "execution_count": null,
      "outputs": []
    },
    {
      "cell_type": "markdown",
      "source": [
        "##### Which text normalization technique have you used and why?"
      ],
      "metadata": {
        "id": "cJNqERVU536h"
      }
    },
    {
      "cell_type": "markdown",
      "source": [
        "Answer Here."
      ],
      "metadata": {
        "id": "Z9jKVxE06BC1"
      }
    },
    {
      "cell_type": "markdown",
      "source": [
        "#### 9. Part of speech tagging"
      ],
      "metadata": {
        "id": "k5UmGsbsOxih"
      }
    },
    {
      "cell_type": "code",
      "source": [
        "# POS Taging"
      ],
      "metadata": {
        "id": "btT3ZJBAO6Ik"
      },
      "execution_count": null,
      "outputs": []
    },
    {
      "cell_type": "markdown",
      "source": [
        "#### 10. Text Vectorization"
      ],
      "metadata": {
        "id": "T0VqWOYE6DLQ"
      }
    },
    {
      "cell_type": "code",
      "source": [
        "# Vectorizing Text"
      ],
      "metadata": {
        "id": "yBRtdhth6JDE"
      },
      "execution_count": null,
      "outputs": []
    },
    {
      "cell_type": "markdown",
      "source": [
        "##### Which text vectorization technique have you used and why?"
      ],
      "metadata": {
        "id": "qBMux9mC6MCf"
      }
    },
    {
      "cell_type": "markdown",
      "source": [
        "Answer Here."
      ],
      "metadata": {
        "id": "su2EnbCh6UKQ"
      }
    },
    {
      "cell_type": "markdown",
      "source": [
        "### 4. Feature Manipulation & Selection"
      ],
      "metadata": {
        "id": "-oLEiFgy-5Pf"
      }
    },
    {
      "cell_type": "markdown",
      "source": [
        "#### 1. Feature Manipulation"
      ],
      "metadata": {
        "id": "C74aWNz2AliB"
      }
    },
    {
      "cell_type": "code",
      "source": [
        "# Manipulate Features to minimize feature correlation and create new features\n",
        "# Creating call duration column for customers with no international plan\n",
        "df['Days_1call_duration']=df['Total day minutes']/df['Total day calls']\n",
        "df['intern_1call_duration']=df['Total intl minutes']/df['Total intl calls']\n",
        "\n",
        "df['evening_1call_duration']=df['Total eve minutes']/df['Total eve calls']\n",
        "df['night_1call_duration']=df['Total night minutes']/df['Total night calls']\n",
        "\n",
        "# Creating price rate per minute column for customers with international plan\n",
        "df['international_rate_per_min']=df['Total intl charge']/df['Total intl minutes']\n",
        "df['day_rate_per_min']=df['Total day charge']/df['Total day minutes']\n",
        "df['eve_rate_per_min']=df['Total eve charge']/df['Total eve minutes']\n",
        "df['night_rate_per_min']=df['Total night charge']/df['Total night minutes']\n"
      ],
      "metadata": {
        "id": "h1qC4yhBApWC"
      },
      "execution_count": null,
      "outputs": []
    },
    {
      "cell_type": "code",
      "source": [
        "np.isinf(df).values.sum()\n",
        "df.replace([np.inf, -np.inf], 0, inplace=True)"
      ],
      "metadata": {
        "id": "Lo3Wn9FvVsoW"
      },
      "execution_count": null,
      "outputs": []
    },
    {
      "cell_type": "markdown",
      "source": [
        "Created Some new features like Call duration and call charges for all day, evening, night and international calls."
      ],
      "metadata": {
        "id": "3NKywcI3So33"
      }
    },
    {
      "cell_type": "markdown",
      "source": [
        "#### 3. Feature Selection"
      ],
      "metadata": {
        "id": "2DejudWSA-a0"
      }
    },
    {
      "cell_type": "code",
      "source": [
        "# Checking the shape of dataset\n",
        "df.shape"
      ],
      "metadata": {
        "id": "PLWgA-MabkJR"
      },
      "execution_count": null,
      "outputs": []
    },
    {
      "cell_type": "code",
      "source": [
        "# Dropping Constant and Quasi Constant Feature\n",
        "def dropping_constant(data):\n",
        "  from  sklearn.feature_selection import VarianceThreshold\n",
        "  var_thres= VarianceThreshold(threshold=0.05)\n",
        "  var_thres.fit(data)\n",
        "  concol = [column for column in data.columns \n",
        "          if column not in data.columns[var_thres.get_support()]]\n",
        "  df_removed_var=data.drop(concol,axis=1)\n",
        "  return df_removed_var "
      ],
      "metadata": {
        "id": "wXDqOMA7Ym-F"
      },
      "execution_count": null,
      "outputs": []
    },
    {
      "cell_type": "code",
      "source": [
        "# Calling the function\n",
        "df_removed_var=dropping_constant(df)"
      ],
      "metadata": {
        "id": "m76C7i9Ebx5o"
      },
      "execution_count": null,
      "outputs": []
    },
    {
      "cell_type": "code",
      "source": [
        "# Checking the shape after feature dropped\n",
        "df_removed_var.shape"
      ],
      "metadata": {
        "id": "2037ugSmblqz"
      },
      "execution_count": null,
      "outputs": []
    },
    {
      "cell_type": "code",
      "source": [
        "# Getting important column names\n",
        "dataset_columns_required=dataset.columns.to_list()[1:-1]\n",
        "dataset_columns_required.extend(['Days_1call_duration','intern_1call_duration','evening_1call_duration','night_1call_duration','international_rate_per_min','day_rate_per_min','eve_rate_per_min','night_rate_per_min'])"
      ],
      "metadata": {
        "id": "KRz_X9jPUDe8"
      },
      "execution_count": null,
      "outputs": []
    },
    {
      "cell_type": "code",
      "source": [
        "# Correlation Heatmap visualization code\n",
        "corr = df_removed_var.corr()\n",
        "cmap = cmap=sns.diverging_palette(5, 250, as_cmap=True)\n",
        "\n",
        "def magnify():\n",
        "    return [dict(selector=\"th\",\n",
        "                 props=[(\"font-size\", \"7pt\")]),\n",
        "            dict(selector=\"td\",\n",
        "                 props=[('padding', \"0em 0em\")]),\n",
        "            dict(selector=\"th:hover\",\n",
        "                 props=[(\"font-size\", \"12pt\")]),\n",
        "            dict(selector=\"tr:hover td:hover\",\n",
        "                 props=[('max-width', '200px'),\n",
        "                        ('font-size', '12pt')])\n",
        "]\n",
        "\n",
        "corr.style.background_gradient(cmap, axis=1)\\\n",
        "    .set_properties(**{'max-width': '80px', 'font-size': '10pt'})\\\n",
        "    .set_caption(\"Hover to magify\")\\\n",
        "    .set_precision(2)\\\n",
        "    .set_table_styles(magnify())"
      ],
      "metadata": {
        "id": "mesGLFbqTV-3"
      },
      "execution_count": null,
      "outputs": []
    },
    {
      "cell_type": "code",
      "source": [
        "# Checking Variable Inflation Factor\n",
        "# the independent variables set\n",
        "X = df_removed_var.copy()\n",
        "  \n",
        "# VIF dataframe\n",
        "vif_data = pd.DataFrame()\n",
        "vif_data[\"feature\"] = X.columns\n",
        "  \n",
        "# calculating VIF for each feature\n",
        "vif_data[\"VIF\"] = [variance_inflation_factor(X.values, i)\n",
        "                          for i in range(len(X.columns))]\n",
        "  \n",
        "for i in range(len(vif_data)):\n",
        "  vif_data.loc[i,\"VIF\"]=vif_data.loc[i,\"VIF\"].round(2)\n",
        "  if vif_data.loc[i,\"VIF\"]>=8:\n",
        "    print(vif_data.loc[i,\"feature\"])\n"
      ],
      "metadata": {
        "id": "s6ekJylYVViu"
      },
      "execution_count": null,
      "outputs": []
    },
    {
      "cell_type": "code",
      "source": [
        "# Check Feature Correlation and finding multicolinearity\n",
        "def correlation(df,threshold):\n",
        "  col_corr=set()\n",
        "  corr_matrix= df.corr()\n",
        "  for i in range (len(corr_matrix.columns)):\n",
        "    for j in range(i):\n",
        "      if abs (corr_matrix.iloc[i,j])>threshold:\n",
        "        colname=corr_matrix.columns[i]\n",
        "        col_corr.add(colname)\n",
        "  return list(col_corr)\n",
        "\n"
      ],
      "metadata": {
        "id": "_RD2Mq1SAZM_"
      },
      "execution_count": null,
      "outputs": []
    },
    {
      "cell_type": "code",
      "source": [
        "# Getting multicolinear columns and dropping them \n",
        "highly_correlated_columns=correlation(df_removed_var,0.5)\n",
        "df_removed=df_removed_var.drop(highly_correlated_columns,axis=1)\n",
        "df_removed.shape"
      ],
      "metadata": {
        "id": "f2HYgia8TCCa"
      },
      "execution_count": null,
      "outputs": []
    },
    {
      "cell_type": "code",
      "source": [
        "# Correlation after dropping the required columns\n",
        "# Correlation Heatmap visualization code\n",
        "corr = df_removed.corr()\n",
        "cmap = cmap=sns.diverging_palette(5, 250, as_cmap=True)\n",
        "\n",
        "def magnify():\n",
        "    return [dict(selector=\"th\",\n",
        "                 props=[(\"font-size\", \"7pt\")]),\n",
        "            dict(selector=\"td\",\n",
        "                 props=[('padding', \"0em 0em\")]),\n",
        "            dict(selector=\"th:hover\",\n",
        "                 props=[(\"font-size\", \"12pt\")]),\n",
        "            dict(selector=\"tr:hover td:hover\",\n",
        "                 props=[('max-width', '200px'),\n",
        "                        ('font-size', '12pt')])\n",
        "]\n",
        "\n",
        "corr.style.background_gradient(cmap, axis=1)\\\n",
        "    .set_properties(**{'max-width': '80px', 'font-size': '10pt'})\\\n",
        "    .set_caption(\"Hover to magify\")\\\n",
        "    .set_precision(2)\\\n",
        "    .set_table_styles(magnify())"
      ],
      "metadata": {
        "id": "Lq_eSM7Ldbsd"
      },
      "execution_count": null,
      "outputs": []
    },
    {
      "cell_type": "code",
      "source": [
        "# Manipulate Features to minimize feature correlation and create new features\n",
        "# Creating call duration column for customers with no international plan\n",
        "df_removed['Days_1call_duration']=df_removed['Total day minutes']/df_removed['Total day calls']\n",
        "df_removed['intern_1call_duration']=df_removed['Total intl minutes']/df_removed['Total intl calls']\n",
        "\n",
        "df_removed['evening_1call_duration']=df_removed['Total eve minutes']/df_removed['Total eve calls']\n",
        "df_removed['night_1call_duration']=df_removed['Total night minutes']/df_removed['Total night calls']\n",
        "\n",
        "df_removed.drop(['Total day minutes','Total day calls','Total intl minutes','Total intl calls','Total eve minutes','Total eve calls','Total night minutes','Total night calls'],axis=1,inplace=True)"
      ],
      "metadata": {
        "id": "Us3TDB5id5k1"
      },
      "execution_count": null,
      "outputs": []
    },
    {
      "cell_type": "code",
      "source": [
        "# Replacing Infinite and null values\n",
        "np.isinf(df_removed).values.sum()\n",
        "df_removed.replace([np.inf, -np.inf], 0, inplace=True)"
      ],
      "metadata": {
        "id": "Zp5xGaZUeiK0"
      },
      "execution_count": null,
      "outputs": []
    },
    {
      "cell_type": "code",
      "source": [
        "# Checking correlation between new manipulated features\n",
        "# Correlation Heatmap visualization code\n",
        "corr = df_removed.corr()\n",
        "cmap = cmap=sns.diverging_palette(5, 250, as_cmap=True)\n",
        "\n",
        "def magnify():\n",
        "    return [dict(selector=\"th\",\n",
        "                 props=[(\"font-size\", \"7pt\")]),\n",
        "            dict(selector=\"td\",\n",
        "                 props=[('padding', \"0em 0em\")]),\n",
        "            dict(selector=\"th:hover\",\n",
        "                 props=[(\"font-size\", \"12pt\")]),\n",
        "            dict(selector=\"tr:hover td:hover\",\n",
        "                 props=[('max-width', '200px'),\n",
        "                        ('font-size', '12pt')])\n",
        "]\n",
        "\n",
        "corr.style.background_gradient(cmap, axis=1)\\\n",
        "    .set_properties(**{'max-width': '80px', 'font-size': '10pt'})\\\n",
        "    .set_caption(\"Hover to magify\")\\\n",
        "    .set_precision(2)\\\n",
        "    .set_table_styles(magnify())"
      ],
      "metadata": {
        "id": "a8fR1IYge4Mc"
      },
      "execution_count": null,
      "outputs": []
    },
    {
      "cell_type": "code",
      "source": [
        "# Again checking VIF post-dropped features\n",
        "# the independent variables set\n",
        "X = df_removed.copy()\n",
        "  \n",
        "# VIF dataframe\n",
        "vif_data = pd.DataFrame()\n",
        "vif_data[\"feature\"] = X.columns\n",
        "  \n",
        "# calculating VIF for each feature\n",
        "vif_data[\"VIF\"] = [variance_inflation_factor(X.values, i)\n",
        "                          for i in range(len(X.columns))]\n",
        "  \n",
        "for i in range(len(vif_data)):\n",
        "  vif_data.loc[i,\"VIF\"]=vif_data.loc[i,\"VIF\"].round(2)\n",
        "  if vif_data.loc[i,\"VIF\"]>=8:\n",
        "    print(vif_data.loc[i,\"feature\"])\n"
      ],
      "metadata": {
        "id": "KvzzTWXbe3QS"
      },
      "execution_count": null,
      "outputs": []
    },
    {
      "cell_type": "code",
      "source": [
        "# After Feature Selection checking the shape left with\n",
        "df_removed.shape"
      ],
      "metadata": {
        "id": "T7_-rO-0fi9D"
      },
      "execution_count": null,
      "outputs": []
    },
    {
      "cell_type": "markdown",
      "source": [
        "##### What all feature selection methods have you used  and why?"
      ],
      "metadata": {
        "id": "pEMng2IbBLp7"
      }
    },
    {
      "cell_type": "markdown",
      "source": [
        "I used Dropping Constant Feature, Dropping columns having multicolinearity and validate through VIF. \n",
        "\n",
        "Feature Selector that removes all low variance features. This feature selection algorithm looks only at the features(X), not the desired outputs(Y), and can be used for unsupported learning.\n",
        "\n",
        "A Pearson correlation is a number between -1 and 1 that indicates the extent to which two variables are linearly related. The Pearson correlation is also known as the “product moment correlation coefficient” (PMCC) or simply “correlation”\n",
        "\n",
        "Pearson correlations are suitable only for metric variables The correlation coefficient has values between -1 to 1\n",
        "\n",
        "• A value closer to 0 implies weaker correlation (exact 0 implying no correlation)\n",
        "\n",
        "• A value closer to 1 implies stronger positive correlation\n",
        "\n",
        "• A value closer to -1 implies stronger negative correlation\n",
        "\n",
        "Collinearity is the state where two variables are highly correlated and contain similar information about the variance within a given dataset. To detect collinearity among variables, simply create a correlation matrix and find variables with large absolute values.\n",
        "\n",
        "Steps for Implementing VIF\n",
        "\n",
        "• Calculate the VIF factors.\n",
        "\n",
        "• Inspect the factors for each predictor variable, if the VIF is between 5–10, multicollinearity is likely present and you should consider dropping the variable.\n",
        "\n",
        "In VIF method, we pick each feature and regress it against all of the other features. For each regression, the factor is calculated as :\n",
        "\n",
        "VIF=\\frac{1}{1-R^2}\n",
        "\n",
        "Where, R-squared is the coefficient of determination in linear regression. Its value lies between 0 and 1.\n",
        "\n",
        "1st I dropped columns having constant or quasi constant variance. Then using pearson corelation I removed the columns having multicolinearity and again validate the VIFs for each feauture and found some features having VIF of more than 5-10 and I considered it to be 8 and again manipulated some features and again dropped multicolinear columns to make the VIF less than 8. The features got decreased from 77 to 10."
      ],
      "metadata": {
        "id": "8_syLORmZO_j"
      }
    },
    {
      "cell_type": "markdown",
      "source": [
        "##### Which all features you found important and why?"
      ],
      "metadata": {
        "id": "rAdphbQ9Bhjc"
      }
    },
    {
      "cell_type": "code",
      "source": [
        "# Embedded Method of validating the feature importances of selected features\n",
        "def randomforest_embedded(x,y):\n",
        "  # Create the random forest eith hyperparameters\n",
        "  model= RandomForestClassifier(n_estimators=550)\n",
        "  # Fit the mmodel\n",
        "  model.fit(x,y)\n",
        "  # get the importance of thr resulting features\n",
        "  importances= model.feature_importances_\n",
        "  # Create a data frame for visualization\n",
        "  final_df= pd.DataFrame({\"Features\": pd.DataFrame(x).columns, \"Importances\": importances})\n",
        "  final_df.set_index('Importances')\n",
        "  # Sort in ascending order to better visualization\n",
        "  final_df= final_df.sort_values('Importances')\n",
        "  # Plot the feature importances in bars\n",
        "  # final_df.plot.bar(color='teal')\n",
        "  return final_df"
      ],
      "metadata": {
        "id": "NVL6Ha0lfyRk"
      },
      "execution_count": null,
      "outputs": []
    },
    {
      "cell_type": "code",
      "source": [
        "# Getting feature importance of selected features\n",
        "randomforest_embedded(x=df_removed.drop([\"Churn\"],axis=1),y=df[\"Churn\"])"
      ],
      "metadata": {
        "id": "7Kh30ZnTf0e_"
      },
      "execution_count": null,
      "outputs": []
    },
    {
      "cell_type": "markdown",
      "source": [
        "Finally I found out 9 indepenedent features which are important and valdate their importances through Embedded method using random forest classifier feature importance. All the features which i left with having some importances and none of them are 0. So, It validates the features make sense and heading towards the right direction."
      ],
      "metadata": {
        "id": "2zBQh2_8awan"
      }
    },
    {
      "cell_type": "markdown",
      "source": [
        "### 5. Data Transformation"
      ],
      "metadata": {
        "id": "TNVZ9zx19K6k"
      }
    },
    {
      "cell_type": "code",
      "source": [
        "# Getting symmetric and skew symmetric features from the cplumns\n",
        "symmetric_feature=[]\n",
        "non_symmetric_feature=[]\n",
        "for i in df_removed.describe().columns:\n",
        "  if abs(df_removed[i].mean()-df_removed[i].median())<0.1:\n",
        "    symmetric_feature.append(i)\n",
        "  else:\n",
        "    non_symmetric_feature.append(i)\n",
        "\n",
        "# Getting Symmetric Distributed Features\n",
        "print(\"Symmetric Distributed Features : -\",symmetric_feature)\n",
        "# Removing Customer Service Calls column from the list as it's an important factor\n",
        "# which can't be treated as outliers here will is already leading to higher churn as we have seen furing analysis.\n",
        "non_symmetric_feature.remove('Churn')\n",
        "non_symmetric_feature.remove('Customer service calls')\n",
        "non_symmetric_feature.remove('Voice mail plan')\n",
        "# Getting Skew Symmetric Distributed Features\n",
        "print(\"Skew Symmetric Distributed Features : -\",non_symmetric_feature)"
      ],
      "metadata": {
        "id": "YnvslXZKj5dH"
      },
      "execution_count": null,
      "outputs": []
    },
    {
      "cell_type": "markdown",
      "source": [
        "#### Do you think that your data needs to be transformed? If yes, which transformation have you used. Explain Why?"
      ],
      "metadata": {
        "id": "nqoHp30x9hH9"
      }
    },
    {
      "cell_type": "code",
      "source": [
        "# Transform Your data\n",
        "# Exponential Transforming the required column\n",
        "df_removed['intern_1call_duration']=(df_removed['intern_1call_duration'])**0.25\n",
        "df_removed['evening_1call_duration']=(df_removed['evening_1call_duration'])**0.25"
      ],
      "metadata": {
        "id": "sac3ukURl6CW"
      },
      "execution_count": null,
      "outputs": []
    },
    {
      "cell_type": "code",
      "source": [
        "# Visualizing code of hist plot for each columns to know the data distibution\n",
        "for col in df_removed.loc[:,non_symmetric_feature]:\n",
        "  fig=plt.figure(figsize=(9,6))\n",
        "  ax=fig.gca()\n",
        "  feature= (df_removed[col])\n",
        "  sns.distplot(df_removed[col])\n",
        "  ax.axvline(feature.mean(),color='magenta', linestyle='dashed', linewidth=2)\n",
        "  ax.axvline(feature.median(),color='cyan', linestyle='dashed', linewidth=2)\n",
        "  ax.set_title(col)\n",
        "plt.show()"
      ],
      "metadata": {
        "id": "zdFioDnFkscQ"
      },
      "execution_count": null,
      "outputs": []
    },
    {
      "cell_type": "markdown",
      "source": [
        "From the features, I got to know that there are 2 features which aren't symmetric so aren't following gaussian distribution and rest are having szymmetric curve. Thus, for those two columns I have used Exponential transformation to achieve gaussian distribution.\n",
        "\n",
        " I tried with other transformations and found exponetial tranformation with no infinity value and working fine. So, I am continuing with Exponentia lransformation with a power of 0.25.\n"
      ],
      "metadata": {
        "id": "u8DJwJSybwe0"
      }
    },
    {
      "cell_type": "markdown",
      "source": [
        "### 6. Data Scaling"
      ],
      "metadata": {
        "id": "rMDnDkt2B6du"
      }
    },
    {
      "cell_type": "code",
      "source": [
        "# Scaling your data\n",
        "# Checking the data\n",
        "df_removed.head()"
      ],
      "metadata": {
        "id": "dL9LWpySC6x_"
      },
      "execution_count": null,
      "outputs": []
    },
    {
      "cell_type": "code",
      "source": [
        "# Visualizing code of hist plot for each columns to know the data distibution\n",
        "\n",
        "fig=plt.figure(figsize=(9,6))\n",
        "ax=fig.gca()\n",
        "feature= (df_removed[\"Account length\"])\n",
        "sns.distplot(df_removed[\"Account length\"])\n",
        "ax.axvline(feature.mean(),color='magenta', linestyle='dashed', linewidth=2)\n",
        "ax.axvline(feature.median(),color='cyan', linestyle='dashed', linewidth=2)\n",
        "ax.set_title(\"Account length\")\n",
        "plt.show()"
      ],
      "metadata": {
        "id": "3j6IWzta9Xh4"
      },
      "execution_count": null,
      "outputs": []
    },
    {
      "cell_type": "markdown",
      "source": [
        "##### Which method have you used to scale you data and why?"
      ],
      "metadata": {
        "id": "yiiVWRdJDDil"
      }
    },
    {
      "cell_type": "code",
      "source": [
        "# Standardizing the required column\n",
        "df_removed[\"Account length\"] = StandardScaler().fit_transform(df_removed[\"Account length\"].values.reshape(-1, 1))"
      ],
      "metadata": {
        "id": "KvPL0rvG6aAO"
      },
      "execution_count": null,
      "outputs": []
    },
    {
      "cell_type": "code",
      "source": [
        "# Checking the dataset\n",
        "df_removed.head()"
      ],
      "metadata": {
        "id": "vYT_PjFl96Cl"
      },
      "execution_count": null,
      "outputs": []
    },
    {
      "cell_type": "markdown",
      "source": [
        "When you are using an algorithm that assumes your features have a similar range, you should use feature scaling.\n",
        "\n",
        "If the ranges of your features differ much then you should use feature scaling. If the range does not vary a lot like one of them is between 0 and 2 and the other one is between -1 and 0.5 then you can leave them as it's. However, you should use feature scaling if the ranges are, for example, between -2 and 2 and between -100 and 100.\n",
        "\n",
        "Use Standardization when your data follows Gaussian distribution.\n",
        "Use Normalization when your data does not follow Gaussian distribution.\n",
        "\n",
        "So, in my data only Account Length column having large data difference and following gaussian distribution. That's why, I have used standardization using atandardscaler.\n"
      ],
      "metadata": {
        "id": "-_-SaQemdYeu"
      }
    },
    {
      "cell_type": "markdown",
      "source": [
        "### 7. Dimesionality Reduction"
      ],
      "metadata": {
        "id": "1UUpS68QDMuG"
      }
    },
    {
      "cell_type": "markdown",
      "source": [
        "##### Do you think that dimensionality reduction is needed? Explain Why?"
      ],
      "metadata": {
        "id": "kexQrXU-DjzY"
      }
    },
    {
      "cell_type": "markdown",
      "source": [
        "As per my knowledge, for this dataset dimensionality reduction is not required.\n",
        "\n",
        "Essentially where high dimensions are a problem or where it is a particular point in the algorithm to dimension reduction.\n",
        "\n",
        "Hard rules are hard to state, other than “after you have tried it, did it improve matters”, which isn’t always the most useful guidance.\n",
        "\n",
        "Instead, looking at why we might want to do this we can get a bit of insight. Admittedly some of the following might blur together a bit at the edges but the aim is to give a flavour.\n",
        "\n",
        "1. Our data are too big. 4 million rows. 50,000 columns… is there a lot of redundancy there? Building a model on this could be very expensive. Even relatively simple dimension reduction techniques like PCA can capture almost all of the information in a fraction of the memory if there are strong relationships (that can be linearly approximated) in the data.\n",
        "\n",
        "2. We are over-fitting. If you build a model with tens of thousands of degrees of freedom but don’t have a lot of examples you can easily overfit. Dimension reduction is one way of handling this, though often not the the best\n",
        "\n",
        "3. We want to bring in external data. OK, this is a bit different but worth a note. In applications like word2vec we want to build a classifier using an embedding. We may want to classify some text into different categories but with only a limited number of examples. The complexity of free text is vast but a low dimension embedding is much smaller and will not overfit so badly in a classifier. Building a low dimensional embedding on external text, applying it to the text to be classified then building a classifier is using dimension reduction to bring in external data.\n",
        "\n",
        "4. We suffer from the curse of dimesnionality. Consider something like a nearest neighbour search. As the number of dimensions gets large we see some unwanted behaviour, especially if we are looking at things like euclidean distances. Projecting your data to a lower dimensional space for nearest neighbour, clustering or outlier detection can be both more robust and more meaningful.\n",
        "\n",
        "5. Some tools are all about this. Collaborative filtering through matrix factorisation is an example. Can we approximately describe behaviour as a linear combination of a smaller number of preferences/behaviours?"
      ],
      "metadata": {
        "id": "GGRlBsSGDtTQ"
      }
    },
    {
      "cell_type": "code",
      "source": [
        "# DImensionality Reduction (If needed)"
      ],
      "metadata": {
        "id": "kQfvxBBHDvCa"
      },
      "execution_count": null,
      "outputs": []
    },
    {
      "cell_type": "markdown",
      "source": [
        "##### Which dimensionality reduction technique have you used and why? (If dimensionality reduction done on dataset.)"
      ],
      "metadata": {
        "id": "T5CmagL3EC8N"
      }
    },
    {
      "cell_type": "markdown",
      "source": [
        "Answer Here."
      ],
      "metadata": {
        "id": "ZKr75IDuEM7t"
      }
    },
    {
      "cell_type": "markdown",
      "source": [
        "### 8. Data Splitting"
      ],
      "metadata": {
        "id": "BhH2vgX9EjGr"
      }
    },
    {
      "cell_type": "code",
      "source": [
        "# Split your data to train and test. Choose Splitting ratio wisely.\n",
        "# Split your data to train and test. Choose Splitting ratio wisely.\n",
        " # split into 70:30 ratio\n",
        "X_train, X_test, y_train, y_test = train_test_split(df_removed.drop(\"Churn\",axis=1),df_removed[\"Churn\"], test_size = 0.3, random_state = 0)\n",
        "  \n",
        "# describes info about train and test set\n",
        "print(\"Number transactions X_train dataset: \", X_train.shape)\n",
        "print(\"Number transactions y_train dataset: \", y_train.shape)\n",
        "print(\"Number transactions X_test dataset: \", X_test.shape)\n",
        "print(\"Number transactions y_test dataset: \", y_test.shape)"
      ],
      "metadata": {
        "id": "0CTyd2UwEyNM"
      },
      "execution_count": null,
      "outputs": []
    },
    {
      "cell_type": "markdown",
      "source": [
        "##### What data splitting ratio have you used and why? "
      ],
      "metadata": {
        "id": "qjKvONjwE8ra"
      }
    },
    {
      "cell_type": "markdown",
      "source": [
        "There are two competing concerns: with less training data, your parameter estimates have greater variance. With less testing data, your performance statistic will have greater variance. Broadly speaking you should be concerned with dividing data such that neither variance is too high, which is more to do with the absolute number of instances in each category rather than the percentage.\n",
        "\n",
        "If you have a total of 100 instances, you're probably stuck with cross validation as no single split is going to give you satisfactory variance in your estimates. If you have 100,000 instances, it doesn't really matter whether you choose an 80:20 split or a 90:10 split (indeed you may choose to use less training data if your method is particularly computationally intensive).\n",
        "\n",
        "You'd be surprised to find out that 80/20 is quite a commonly occurring ratio, often referred to as the Pareto principle. It's usually a safe bet if you use that ratio.\n",
        "\n",
        "In this case the training dataset is small, that's why I have taken 70:30 ratio."
      ],
      "metadata": {
        "id": "Y2lJ8cobFDb_"
      }
    },
    {
      "cell_type": "markdown",
      "source": [
        "### 9. Handling Imbalanced Dataset"
      ],
      "metadata": {
        "id": "P1XJ9OREExlT"
      }
    },
    {
      "cell_type": "code",
      "source": [
        "# Chart - 1 visualization code\n",
        "# Dependant Column Value Counts\n",
        "print(dataset.Churn.value_counts())\n",
        "print(\" \")\n",
        "# Dependant Variable Column Visualization\n",
        "dataset['Churn'].value_counts().plot(kind='pie',\n",
        "                              figsize=(15,6),\n",
        "                               autopct=\"%1.1f%%\",\n",
        "                               startangle=90,\n",
        "                               shadow=True,\n",
        "                               labels=['Not Churn(%)','Churn(%)'],\n",
        "                               colors=['skyblue','red'],\n",
        "                               explode=[0,0]\n",
        "                              )"
      ],
      "metadata": {
        "id": "nWaf9g7F3ZRX"
      },
      "execution_count": null,
      "outputs": []
    },
    {
      "cell_type": "markdown",
      "source": [
        "##### Do you think the dataset is imbalanced? Explain Why."
      ],
      "metadata": {
        "id": "VFOzZv6IFROw"
      }
    },
    {
      "cell_type": "markdown",
      "source": [
        "Imbalanced dataset is relevant primarily in the context of supervised machine learning involving two or more classes.\n",
        "\n",
        "Imbalance means that the number of data points available for different the classes is different:\n",
        "If there are two classes, then balanced data would mean 50% points for each of the class. For most machine learning techniques, little imbalance is not a problem. So, if there are 60% points for one class and 40% for the other class, it should not cause any significant performance degradation. Only when the class imbalance is high, e.g. 90% points for one class and 10% for the other, standard optimization criteria or performance measures may not be as effective and would need modification.\n",
        "\n",
        "In our case the dataset dependent column data ratio is 85:15. So, during model creating it's obvios that there will be bias and having a great chance of predicting the majority one so frequently. SO the dataset should be balanced before it going for the model creation part."
      ],
      "metadata": {
        "id": "GeKDIv7pFgcC"
      }
    },
    {
      "cell_type": "code",
      "source": [
        "# Handling Imbalanced Dataset (If needed)\n",
        "# Handaling imbalance dataset using SMOTE\n",
        "sm = SMOTE(random_state=42)\n",
        "X_train, y_train = sm.fit_resample(X_train, y_train)\n",
        "\n",
        "# describes info about train and test set\n",
        "print(\"Number transactions X_train dataset: \", X_train.shape)\n",
        "print(\"Number transactions y_train dataset: \", y_train.shape)\n",
        "print(\"Number transactions X_test dataset: \", X_test.shape)\n",
        "print(\"Number transactions y_test dataset: \", y_test.shape)"
      ],
      "metadata": {
        "id": "ama_YYGnATnj"
      },
      "execution_count": null,
      "outputs": []
    },
    {
      "cell_type": "markdown",
      "source": [
        "##### What technique did you use to handle the imbalance dataset and why? (If needed to be balanced)"
      ],
      "metadata": {
        "id": "TIqpNgepFxVj"
      }
    },
    {
      "cell_type": "markdown",
      "source": [
        "I have used SMOTE (Synthetic Minority Over-sampling technique) for balanced the 85:15 dataset.\n",
        "\n",
        "SMOTE is a technique in machine learning for dealing with issues that arise when working with an unbalanced data set. In practice, unbalanced data sets are common and most ML algorithms are highly prone to unbalanced data so we need to improve their performance by using techniques like SMOTE. \n",
        "\n",
        "To address this disparity, balancing schemes that augment the data to make it more balanced before training the classifier were proposed. Oversampling the minority class by duplicating minority samples or undersampling the majority class is the simplest balancing method. \n",
        "\n",
        "The idea of incorporating synthetic minority samples into tabular data was first proposed in SMOTE, where synthetic minority samples are generated by interpolating pairs of original minority points.\n",
        "\n",
        "SMOTE is a data augmentation algorithm that creates synthetic data points from raw data. SMOTE can be thought of as a more sophisticated version of oversampling or a specific data augmentation algorithm. \n",
        "\n",
        "SMOTE has the advantage of not creating duplicate data points, but rather synthetic data points that differ slightly from the original data points. SMOTE is a superior oversampling option.\n",
        "\n",
        "That's why for lots of advantages, I have used SMOTE technique for balancinmg the dataset.\n"
      ],
      "metadata": {
        "id": "qbet1HwdGDTz"
      }
    },
    {
      "cell_type": "markdown",
      "source": [
        "## ***7. ML Model Implementation***"
      ],
      "metadata": {
        "id": "VfCC591jGiD4"
      }
    },
    {
      "cell_type": "markdown",
      "source": [
        "### ML Model - 1 - **Implementing Logistic Regression**"
      ],
      "metadata": {
        "id": "peAK6Cc_HQeo"
      }
    },
    {
      "cell_type": "code",
      "metadata": {
        "id": "xbsRRWRfEQtK"
      },
      "source": [
        "# ML Model - 1 Implementation\n",
        "clf = LogisticRegression(fit_intercept=True, max_iter=10000)\n",
        "# Fit the Algorithm\n",
        "clf.fit(X_train, y_train)"
      ],
      "execution_count": null,
      "outputs": []
    },
    {
      "cell_type": "code",
      "metadata": {
        "id": "hF36F8oQEVIp"
      },
      "source": [
        "# Checking the coefficients\n",
        "clf.coef_"
      ],
      "execution_count": null,
      "outputs": []
    },
    {
      "cell_type": "code",
      "metadata": {
        "id": "uUsxKejfytOD"
      },
      "source": [
        "# Checking the intercept value\n",
        "clf.intercept_"
      ],
      "execution_count": null,
      "outputs": []
    },
    {
      "cell_type": "code",
      "metadata": {
        "id": "H_5ATxY7EbXx"
      },
      "source": [
        "# Predict on the model\n",
        "# Get the predicted probabilities\n",
        "train_preds = clf.predict_proba(X_train)\n",
        "test_preds = clf.predict_proba(X_test)"
      ],
      "execution_count": null,
      "outputs": []
    },
    {
      "cell_type": "code",
      "metadata": {
        "id": "biUzo8zBExKg"
      },
      "source": [
        "# Get the predicted classes\n",
        "train_class_preds = clf.predict(X_train)\n",
        "test_class_preds = clf.predict(X_test)"
      ],
      "execution_count": null,
      "outputs": []
    },
    {
      "cell_type": "code",
      "metadata": {
        "id": "0r2loKjLE9KB"
      },
      "source": [
        "# Get the accuracy scores\n",
        "train_accuracy = accuracy_score(train_class_preds,y_train)\n",
        "test_accuracy = accuracy_score(test_class_preds,y_test)\n",
        "\n",
        "print(\"The accuracy on train data is \", train_accuracy)\n",
        "print(\"The accuracy on test data is \", test_accuracy)"
      ],
      "execution_count": null,
      "outputs": []
    },
    {
      "cell_type": "markdown",
      "source": [
        "#### 1. Explain the ML Model used and it's performance using Evaluation metric Score Chart."
      ],
      "metadata": {
        "id": "khncImPpHcol"
      }
    },
    {
      "cell_type": "code",
      "metadata": {
        "id": "_dUfuIPtFBi7"
      },
      "source": [
        "# Visualizing evaluation Metric Score chart\n",
        "# Get the confusion matrix for both train and test\n",
        "\n",
        "labels = ['Retained', 'Churned']\n",
        "cm = confusion_matrix(y_train, train_class_preds)\n",
        "print(cm)\n",
        "\n",
        "ax= plt.subplot()\n",
        "sns.heatmap(cm, annot=True, ax = ax) #annot=True to annotate cells\n",
        "\n",
        "# labels, title and ticks\n",
        "ax.set_xlabel('Predicted labels')\n",
        "ax.set_ylabel('True labels')\n",
        "ax.set_title('Confusion Matrix')\n",
        "ax.xaxis.set_ticklabels(labels)\n",
        "ax.yaxis.set_ticklabels(labels)"
      ],
      "execution_count": null,
      "outputs": []
    },
    {
      "cell_type": "code",
      "metadata": {
        "id": "J_O81exKFNUx"
      },
      "source": [
        "# Get the confusion matrix for both train and test\n",
        "\n",
        "labels = ['Retained', 'Churned']\n",
        "cm = confusion_matrix(y_test, test_class_preds)\n",
        "print(cm)\n",
        "\n",
        "ax= plt.subplot()\n",
        "sns.heatmap(cm, annot=True, ax = ax); #annot=True to annotate cells\n",
        "\n",
        "# labels, title and ticks\n",
        "ax.set_xlabel('Predicted labels')\n",
        "ax.set_ylabel('True labels')\n",
        "ax.set_title('Confusion Matrix')\n",
        "ax.xaxis.set_ticklabels(labels)\n",
        "ax.yaxis.set_ticklabels(labels)"
      ],
      "execution_count": null,
      "outputs": []
    },
    {
      "cell_type": "code",
      "metadata": {
        "id": "LuG-5ThU-9w5"
      },
      "source": [
        "print(metrics.classification_report(train_class_preds, y_train))\n",
        "print(\" \")\n",
        "\n",
        "print(\"roc_auc_score\")\n",
        "print(metrics.roc_auc_score(y_train, train_class_preds))"
      ],
      "execution_count": null,
      "outputs": []
    },
    {
      "cell_type": "code",
      "metadata": {
        "id": "f1py3kXS_XDw"
      },
      "source": [
        "print(metrics.classification_report(test_class_preds, y_test))\n",
        "print(\" \")\n",
        "\n",
        "print(\"roc_auc_score\")\n",
        "print(metrics.roc_auc_score(y_test, test_class_preds))"
      ],
      "execution_count": null,
      "outputs": []
    },
    {
      "cell_type": "markdown",
      "source": [
        "I used Logistic regression algorithm to create the model. As I got not so good result. \n",
        "\n",
        "For training dataset, i found precision of 98% and recall of 87% and f1-score of 92% for False Churn customer data. BUt, I am also interested to see the result for Churning cutomer result as I got precision of 18% and recall of 57% and f1-score of 27%. Accuracy is 86% and average percision, recall & f1_score are 58%, 72% and 60% respectively with a roc auc score of 57%.\n",
        "\n",
        "For testing dataset, i found precision of 98% and recall of 88% and f1-score of 93% for False Churn customer data. BUt, I am also interested to see the result for Churning cutomer result as I got precision of 17% and recall of 56% and f1-score of 27%. Accuracy is 87% and average percision, recall & f1_score are 58%, 72% and 60% respectively with a roc auc score of 57%.\n",
        "\n",
        "Next tryting to improving the score by using hyperparameter tuning technique.\n",
        "\n"
      ],
      "metadata": {
        "id": "221W-59JMa_Y"
      }
    },
    {
      "cell_type": "markdown",
      "source": [
        "#### 2. Cross- Validation & Hyperparameter Tuning"
      ],
      "metadata": {
        "id": "wTe8K5rdYGV1"
      }
    },
    {
      "cell_type": "code",
      "source": [
        "# ML Model - 1 Implementation with hyperparameter optimization techniques (i.e., GridSearch CV, RandomSearch CV, Bayesian Optimization etc.)\n",
        "model = LogisticRegression(max_iter=10000)\n",
        "solvers = ['lbfgs']\n",
        "penalty = ['10','l2','14','16','20','18']\n",
        "c_values = [1000,100, 10, 1.0, 0.1, 0.01,0.001]\n",
        "# define grid search\n",
        "grid = dict(solver=solvers,penalty=penalty,C=c_values)\n",
        "cv = RepeatedStratifiedKFold(n_splits=10, n_repeats=3, random_state=1)\n",
        "grid_search = GridSearchCV(estimator=model, param_grid=grid, n_jobs=-1, cv=cv, scoring='f1',error_score=0)\n",
        "\n",
        "# Fit the Algorithm\n",
        "grid_result=grid_search.fit(X_train, y_train)\n",
        "\n",
        "print(\"Best: %f using %s\" % (grid_result.best_score_, grid_result.best_params_))\n",
        "\n",
        "\n",
        "# Predict on the model\n",
        "# Get the predicted classes\n",
        "train_class_preds = grid_result.predict(X_train)\n",
        "test_class_preds = grid_result.predict(X_test)"
      ],
      "metadata": {
        "id": "nMfZKhyPc4_6"
      },
      "execution_count": null,
      "outputs": []
    },
    {
      "cell_type": "code",
      "source": [
        "print(metrics.classification_report(train_class_preds, y_train))\n",
        "print(\" \")\n",
        "\n",
        "print(\"roc_auc_score\")\n",
        "print(metrics.roc_auc_score(y_train, train_class_preds))"
      ],
      "metadata": {
        "id": "PT5bv9VToFzq"
      },
      "execution_count": null,
      "outputs": []
    },
    {
      "cell_type": "code",
      "source": [
        "print(metrics.classification_report(test_class_preds, y_test))\n",
        "print(\" \")\n",
        "\n",
        "print(\"roc_auc_score\")\n",
        "print(metrics.roc_auc_score(y_test, test_class_preds))"
      ],
      "metadata": {
        "id": "pZCznRPuh4yL"
      },
      "execution_count": null,
      "outputs": []
    },
    {
      "cell_type": "markdown",
      "source": [
        "##### Which hyperparameter optimization technique have you used and why?"
      ],
      "metadata": {
        "id": "yyzM232tatvC"
      }
    },
    {
      "cell_type": "markdown",
      "source": [
        "GridSearchCV which uses the Grid Search technique for finding the optimal hyperparameters to increase the model performance.\n",
        "\n",
        "our goal should be to find the best hyperparameters values to get the perfect prediction results from our model.  But the question arises, how to find these best sets of hyperparameters? One can try the Manual Search method, by using the hit and trial process and can find the best hyperparameters which would take huge time to build a single model.\n",
        "\n",
        "For this reason, methods like Random Search, GridSearch were introduced. \n",
        "Grid Search uses a different combination of all the specified hyperparameters and their values and calculates the performance for each combination and selects the best value for the hyperparameters. This makes the processing time-consuming and expensive based on the number of hyperparameters involved.\n",
        "\n",
        "In GridSearchCV, along with Grid Search, cross-validation is also performed. Cross-Validation is used while training the model. \n",
        "\n",
        "That's why I have used GridsearCV method for hyperparameter optimization."
      ],
      "metadata": {
        "id": "IQS0dR0ta8a0"
      }
    },
    {
      "cell_type": "markdown",
      "source": [
        "##### Have you seen any improvement? Note down the improvement with updates Evaluation metric Score Chart."
      ],
      "metadata": {
        "id": "OMC09DFCbrEm"
      }
    },
    {
      "cell_type": "markdown",
      "source": [
        "For training dataset, i found precision of 98% and recall of 87% and f1-score of 92% for False Churn customer data. BUt, I am also interested to see the result for Churning cutomer result as I got precision of 19% and recall of 57% and f1-score of 28%. Accuracy is 87% and average percision, recall & f1_score are 58%, 72% and 60% respectively with a roc auc score of 58%.\n",
        "\n",
        "Quite improvment seen in precsion, f1 score,accuracy and roc auc score for training dataset of 1%.\n",
        "\n",
        "For testing dataset, i found precision of 98% and recall of 88% and f1-score of 93% for False Churn customer data. BUt, I am also interested to see the result for Churning cutomer result as I got precision of 19% and recall of 55% and f1-score of 28%. Accuracy is 87% and average percision, recall & f1_score are 58%, 72% and 60% respectively with a roc auc score of 58%.\n",
        "\n",
        "Quite improvemnt seen in precsion, f1 score and roc auc of 1% but 1% decrement in recall.\n",
        "\n"
      ],
      "metadata": {
        "id": "cnhimbRXcI7d"
      }
    },
    {
      "cell_type": "markdown",
      "source": [
        "### ML Model - 2 - **Implementing Random Forest Classifier**"
      ],
      "metadata": {
        "id": "dJ2tPlVmpsJ0"
      }
    },
    {
      "cell_type": "code",
      "source": [
        "# ML Model - 2 Implementation\n",
        "# Create an instance of the RandomForestClassifier\n",
        "rf_model = RandomForestClassifier()\n",
        "\n",
        "# Fit the Algorithm\n",
        "rf_model.fit(X_train,y_train)\n",
        "\n",
        "# Predict on the model\n",
        "# Making predictions on train and test data\n",
        "train_class_preds = rf_model.predict(X_train)\n",
        "test_class_preds = rf_model.predict(X_test)"
      ],
      "metadata": {
        "id": "ULgBUAmTpsJ1"
      },
      "execution_count": null,
      "outputs": []
    },
    {
      "cell_type": "code",
      "metadata": {
        "id": "BNzv3F70d3Fb"
      },
      "source": [
        "# Calculating accuracy on train and test\n",
        "train_accuracy = accuracy_score(y_train,train_class_preds)\n",
        "test_accuracy = accuracy_score(y_test,test_class_preds)\n",
        "\n",
        "print(\"The accuracy on train dataset is\", train_accuracy)\n",
        "print(\"The accuracy on test dataset is\", test_accuracy)"
      ],
      "execution_count": null,
      "outputs": []
    },
    {
      "cell_type": "markdown",
      "source": [
        "#### 1. Explain the ML Model used and it's performance using Evaluation metric Score Chart."
      ],
      "metadata": {
        "id": "JWYfwnehpsJ1"
      }
    },
    {
      "cell_type": "code",
      "metadata": {
        "id": "aM3kaWOGd3Fe"
      },
      "source": [
        "\n",
        "# Visualizing evaluation Metric Score chart# Get the confusion matrix for both train and test\n",
        "\n",
        "labels = ['Retained', 'Churned']\n",
        "cm = confusion_matrix(y_train, train_class_preds)\n",
        "print(cm)\n",
        "\n",
        "ax= plt.subplot()\n",
        "sns.heatmap(cm, annot=True, ax = ax) #annot=True to annotate cells\n",
        "\n",
        "# labels, title and ticks\n",
        "ax.set_xlabel('Predicted labels')\n",
        "ax.set_ylabel('True labels')\n",
        "ax.set_title('Confusion Matrix')\n",
        "ax.xaxis.set_ticklabels(labels)\n",
        "ax.yaxis.set_ticklabels(labels)"
      ],
      "execution_count": null,
      "outputs": []
    },
    {
      "cell_type": "code",
      "source": [
        "# Get the confusion matrix for both train and test\n",
        "\n",
        "labels = ['Retained', 'Churned']\n",
        "cm = confusion_matrix(y_test, test_class_preds)\n",
        "print(cm)\n",
        "\n",
        "ax= plt.subplot()\n",
        "sns.heatmap(cm, annot=True, ax = ax) #annot=True to annotate cells\n",
        "\n",
        "# labels, title and ticks\n",
        "ax.set_xlabel('Predicted labels')\n",
        "ax.set_ylabel('True labels')\n",
        "ax.set_title('Confusion Matrix')\n",
        "ax.xaxis.set_ticklabels(labels)\n",
        "ax.yaxis.set_ticklabels(labels)"
      ],
      "metadata": {
        "id": "ZS4_Z8oxubyM"
      },
      "execution_count": null,
      "outputs": []
    },
    {
      "cell_type": "code",
      "source": [
        "print(metrics.classification_report(train_class_preds, y_train))\n",
        "print(\" \")\n",
        "\n",
        "print(\"roc_auc_score\")\n",
        "print(metrics.roc_auc_score(y_train, train_class_preds))"
      ],
      "metadata": {
        "id": "gkBVl6AXuHvE"
      },
      "execution_count": null,
      "outputs": []
    },
    {
      "cell_type": "code",
      "metadata": {
        "id": "KQ2sAPH9d3Fe"
      },
      "source": [
        "print(metrics.classification_report(test_class_preds, y_test))\n",
        "print(\" \")\n",
        "\n",
        "print(\"roc_auc_score\")\n",
        "print(metrics.roc_auc_score(y_test, test_class_preds))"
      ],
      "execution_count": null,
      "outputs": []
    },
    {
      "cell_type": "markdown",
      "source": [
        "Then, I used Random Forest algorithm to create the model. As I got there is overfitting seen.\n",
        "\n",
        "For training dataset, i found precision of 100% and recall of 100% and f1-score of 100% for False Churn customer data. BUt, I am also interested to see the result for Churning cutomer result as I got precision of 100% and recall of 100% and f1-score of 100%. Accuracy is 100% and average percision, recall & f1_score are 100%, 100% and 100% respectively with a roc auc score of 100%.\n",
        "\n",
        "For testing dataset, i found precision of 98% and recall of 91% and f1-score of 94% for False Churn customer data. BUt, I am also interested to see the result for Churning cutomer result as I got precision of 38% and recall of 75% and f1-score of 50%. Accuracy is 90% and average percision, recall & f1_score are 68%, 83% and 72% respectively with a roc auc score of 67%.\n",
        "\n",
        "Next tryting to improving the score by using hyperparameter tuning technique."
      ],
      "metadata": {
        "id": "ImrbALQSRWMi"
      }
    },
    {
      "cell_type": "code",
      "metadata": {
        "id": "5VYJo-3cd3Fi"
      },
      "source": [
        "importances = rf_model.feature_importances_\n",
        "\n",
        "importance_dict = {'Feature' : list(X_train.columns),\n",
        "                   'Feature Importance' : importances}\n",
        "\n",
        "importance_df = pd.DataFrame(importance_dict)\n",
        "importance_df['Feature Importance'] = round(importance_df['Feature Importance'],2)"
      ],
      "execution_count": null,
      "outputs": []
    },
    {
      "cell_type": "code",
      "metadata": {
        "id": "vbG5FRy7d3Fk"
      },
      "source": [
        "importance_df.sort_values(by=['Feature Importance'],ascending=False)"
      ],
      "execution_count": null,
      "outputs": []
    },
    {
      "cell_type": "code",
      "metadata": {
        "id": "_Ft22nvPd3Fl"
      },
      "source": [
        "features = X_train.columns\n",
        "importances = rf_model.feature_importances_\n",
        "indices = np.argsort(importances)"
      ],
      "execution_count": null,
      "outputs": []
    },
    {
      "cell_type": "code",
      "metadata": {
        "id": "N5nfbZ0td3Fl"
      },
      "source": [
        "plt.title('Feature Importance')\n",
        "plt.barh(range(len(indices)), importances[indices], color='red', align='center')\n",
        "plt.yticks(range(len(indices)), [features[i] for i in indices])\n",
        "plt.xlabel('Relative Importance')\n",
        "\n",
        "plt.show()"
      ],
      "execution_count": null,
      "outputs": []
    },
    {
      "cell_type": "markdown",
      "source": [
        "#### 2. Cross- Validation & Hyperparameter Tuning"
      ],
      "metadata": {
        "id": "-jK_YjpMpsJ2"
      }
    },
    {
      "cell_type": "code",
      "source": [
        "# ML Model - 2 Implementation with hyperparameter optimization techniques (i.e., GridSearch CV, RandomSearch CV, Bayesian Optimization etc.)\n",
        "# Number of trees\n",
        "n_estimators = [50,80,100]\n",
        "\n",
        "# Maximum depth of trees\n",
        "max_depth = [4,6,8]\n",
        "\n",
        "# Minimum number of samples required to split a node\n",
        "min_samples_split = [50,100,150]\n",
        "\n",
        "# Minimum number of samples required at each leaf node\n",
        "min_samples_leaf = [40,50]\n",
        "\n",
        "# HYperparameter Grid\n",
        "param_dict = {'n_estimators' : n_estimators,\n",
        "              'max_depth' : max_depth,\n",
        "              'min_samples_split' : min_samples_split,\n",
        "              'min_samples_leaf' : min_samples_leaf}\n",
        "\n",
        "# Create an instance of the RandomForestClassifier\n",
        "rf_model = RandomForestClassifier()\n",
        "\n",
        "# Grid search\n",
        "rf_grid = GridSearchCV(estimator=rf_model,\n",
        "                       param_grid = param_dict,\n",
        "                       cv = 5, verbose=2, scoring='f1')\n",
        "\n",
        "\n",
        "# Fit the Algorithm\n",
        "rf_grid.fit(X_train,y_train)\n",
        "\n",
        "\n",
        "\n",
        "# Predict on the model\n",
        "# Making predictions on train and test data\n",
        "train_class_preds = rf_grid.predict(X_train)\n",
        "test_class_preds = rf_grid.predict(X_test)\n"
      ],
      "metadata": {
        "id": "Dn0EOfS6psJ2"
      },
      "execution_count": null,
      "outputs": []
    },
    {
      "cell_type": "code",
      "source": [
        "print(\"Best: %f using %s\" % (rf_grid.best_score_, rf_grid.best_params_))"
      ],
      "metadata": {
        "id": "lCoLk8mFv7Fq"
      },
      "execution_count": null,
      "outputs": []
    },
    {
      "cell_type": "code",
      "metadata": {
        "id": "RM9RSG6rxNHx"
      },
      "source": [
        "\n",
        "# Visualizing evaluation Metric Score chart# Get the confusion matrix for both train and test\n",
        "\n",
        "labels = ['Retained', 'Churned']\n",
        "cm = confusion_matrix(y_train, train_class_preds)\n",
        "print(cm)\n",
        "\n",
        "ax= plt.subplot()\n",
        "sns.heatmap(cm, annot=True, ax = ax) #annot=True to annotate cells\n",
        "\n",
        "# labels, title and ticks\n",
        "ax.set_xlabel('Predicted labels')\n",
        "ax.set_ylabel('True labels')\n",
        "ax.set_title('Confusion Matrix')\n",
        "ax.xaxis.set_ticklabels(labels)\n",
        "ax.yaxis.set_ticklabels(labels)"
      ],
      "execution_count": null,
      "outputs": []
    },
    {
      "cell_type": "code",
      "source": [
        "# Get the confusion matrix for both train and test\n",
        "\n",
        "labels = ['Retained', 'Churned']\n",
        "cm = confusion_matrix(y_test, test_class_preds)\n",
        "print(cm)\n",
        "\n",
        "ax= plt.subplot()\n",
        "sns.heatmap(cm, annot=True, ax = ax) #annot=True to annotate cells\n",
        "\n",
        "# labels, title and ticks\n",
        "ax.set_xlabel('Predicted labels')\n",
        "ax.set_ylabel('True labels')\n",
        "ax.set_title('Confusion Matrix')\n",
        "ax.xaxis.set_ticklabels(labels)\n",
        "ax.yaxis.set_ticklabels(labels)"
      ],
      "metadata": {
        "id": "39qZeMeMxNHy"
      },
      "execution_count": null,
      "outputs": []
    },
    {
      "cell_type": "code",
      "source": [
        "print(metrics.classification_report(train_class_preds, y_train))\n",
        "print(\" \")\n",
        "\n",
        "print(\"roc_auc_score\")\n",
        "print(metrics.roc_auc_score(y_train, train_class_preds))"
      ],
      "metadata": {
        "id": "ZS0JiWsxxNHy"
      },
      "execution_count": null,
      "outputs": []
    },
    {
      "cell_type": "code",
      "metadata": {
        "id": "Okw5SsDoxNHy"
      },
      "source": [
        "# Hypertuned Random Forest\n",
        "print(metrics.classification_report(test_class_preds, y_test))\n",
        "print(\" \")\n",
        "\n",
        "print(\"roc_auc_score\")\n",
        "print(metrics.roc_auc_score(y_test, test_class_preds))"
      ],
      "execution_count": null,
      "outputs": []
    },
    {
      "cell_type": "markdown",
      "source": [
        "##### Which hyperparameter optimization technique have you used and why?"
      ],
      "metadata": {
        "id": "HAih1iBOpsJ2"
      }
    },
    {
      "cell_type": "markdown",
      "source": [
        "GridSearchCV which uses the Grid Search technique for finding the optimal hyperparameters to increase the model performance.\n",
        "\n",
        "our goal should be to find the best hyperparameters values to get the perfect prediction results from our model.  But the question arises, how to find these best sets of hyperparameters? One can try the Manual Search method, by using the hit and trial process and can find the best hyperparameters which would take huge time to build a single model.\n",
        "\n",
        "For this reason, methods like Random Search, GridSearch were introduced. \n",
        "Grid Search uses a different combination of all the specified hyperparameters and their values and calculates the performance for each combination and selects the best value for the hyperparameters. This makes the processing time-consuming and expensive based on the number of hyperparameters involved.\n",
        "\n",
        "In GridSearchCV, along with Grid Search, cross-validation is also performed. Cross-Validation is used while training the model. \n",
        "\n",
        "That's why I have used GridsearCV method for hyperparameter optimization."
      ],
      "metadata": {
        "id": "9kBgjYcdpsJ2"
      }
    },
    {
      "cell_type": "markdown",
      "source": [
        "##### Have you seen any improvement? Note down the improvement with updates Evaluation metric Score Chart."
      ],
      "metadata": {
        "id": "zVGeBEFhpsJ2"
      }
    },
    {
      "cell_type": "markdown",
      "source": [
        "For training dataset, i found precision of 100% and recall of 87% and f1-score of 93% for False Churn customer data. BUt, I am also interested to see the result for Churning cutomer result as I got precision of 12% and recall of 93% and f1-score of 22%. Accuracy is 88% and average percision, recall & f1_score are 56%, 90% and 57% respectively with a roc auc score of 56%.\n",
        "\n",
        "Quite improvment seen as no overfitting but the scores reduced by some percentages.\n",
        "\n",
        "For testing dataset, i found precision of 100% and recall of 88% and f1-score of 93% for False Churn customer data. BUt, I am also interested to see the result for Churning cutomer result as I got precision of 13% and recall of 90% and f1-score of 23%. Accuracy is 88% and average percision, recall & f1_score are 56%, 89% and 58% respectively with a roc auc score of 56%.\n",
        "\n",
        "Quite improvemnt seen in recall but rest scores have decreased.\n"
      ],
      "metadata": {
        "id": "74yRdG6UpsJ3"
      }
    },
    {
      "cell_type": "markdown",
      "source": [
        "### ML Model - 3 - **Implementing XgBoost Classifier**"
      ],
      "metadata": {
        "id": "Fze-IPXLpx6K"
      }
    },
    {
      "cell_type": "code",
      "source": [
        "# ML Model - 3 Implementation\n",
        "# Create an instance of the RandomForestClassifier\n",
        "xg_model = XGBClassifier()\n",
        "\n",
        "# Fit the Algorithm\n",
        "xg_model.fit(X_train,y_train)\n",
        "\n",
        "# Predict on the model\n",
        "# Making predictions on train and test data\n",
        "\n",
        "train_class_preds = xg_model.predict(X_train)\n",
        "test_class_preds = xg_model.predict(X_test)"
      ],
      "metadata": {
        "id": "FFrSXAtrpx6M"
      },
      "execution_count": null,
      "outputs": []
    },
    {
      "cell_type": "markdown",
      "source": [
        "#### 1. Explain the ML Model used and it's performance using Evaluation metric Score Chart."
      ],
      "metadata": {
        "id": "7AN1z2sKpx6M"
      }
    },
    {
      "cell_type": "code",
      "metadata": {
        "id": "SLMHFSXSy48N"
      },
      "source": [
        "# Visualizing evaluation Metric Score chart\n",
        "# Visualizing evaluation Metric Score chart# Get the confusion matrix for both train and test\n",
        "\n",
        "labels = ['Retained', 'Churned']\n",
        "cm = confusion_matrix(y_train, train_class_preds)\n",
        "print(cm)\n",
        "\n",
        "ax= plt.subplot()\n",
        "sns.heatmap(cm, annot=True, ax = ax) #annot=True to annotate cells\n",
        "\n",
        "# labels, title and ticks\n",
        "ax.set_xlabel('Predicted labels')\n",
        "ax.set_ylabel('True labels')\n",
        "ax.set_title('Confusion Matrix')\n",
        "ax.xaxis.set_ticklabels(labels)\n",
        "ax.yaxis.set_ticklabels(labels)"
      ],
      "execution_count": null,
      "outputs": []
    },
    {
      "cell_type": "code",
      "source": [
        "# Get the confusion matrix for both train and test\n",
        "\n",
        "labels = ['Retained', 'Churned']\n",
        "cm = confusion_matrix(y_test, test_class_preds)\n",
        "print(cm)\n",
        "\n",
        "ax= plt.subplot()\n",
        "sns.heatmap(cm, annot=True, ax = ax) #annot=True to annotate cells\n",
        "\n",
        "# labels, title and ticks\n",
        "ax.set_xlabel('Predicted labels')\n",
        "ax.set_ylabel('True labels')\n",
        "ax.set_title('Confusion Matrix')\n",
        "ax.xaxis.set_ticklabels(labels)\n",
        "ax.yaxis.set_ticklabels(labels)"
      ],
      "metadata": {
        "id": "YDZwdmNqy48P"
      },
      "execution_count": null,
      "outputs": []
    },
    {
      "cell_type": "code",
      "source": [
        "print(metrics.classification_report(train_class_preds, y_train))\n",
        "print(\" \")\n",
        "\n",
        "print(\"roc_auc_score\")\n",
        "print(metrics.roc_auc_score(y_train, train_class_preds))"
      ],
      "metadata": {
        "id": "JAlBgPjdy48O"
      },
      "execution_count": null,
      "outputs": []
    },
    {
      "cell_type": "code",
      "metadata": {
        "id": "f4yEhj5ay48P"
      },
      "source": [
        "print(metrics.classification_report(test_class_preds, y_test))\n",
        "print(\" \")\n",
        "\n",
        "print(\"roc_auc_score\")\n",
        "print(metrics.roc_auc_score(y_test, test_class_preds))"
      ],
      "execution_count": null,
      "outputs": []
    },
    {
      "cell_type": "markdown",
      "source": [
        "Then, I used XGBoost algorithm to create the model. As I got there  good result.\n",
        "\n",
        "For training dataset, i found precision of 100% and recall of 91% and f1-score of 95% for False Churn customer data. BUt, I am also interested to see the result for Churning cutomer result as I got precision of 46% and recall of 95% and f1-score of 62%. Accuracy is 92% and average percision, recall & f1_score are 73%, 93% and 79% respectively with a roc auc score of 72%.\n",
        "\n",
        "For testing dataset, i found precision of 99% and recall of 90% and f1-score of 94% for False Churn customer data. BUt, I am also interested to see the result for Churning cutomer result as I got precision of 35% and recall of 80% and f1-score of 48%. Accuracy is 90% and average percision, recall & f1_score are 67%, 85% and 71% respectively with a roc auc score of 66%.\n",
        "\n",
        "Next tryting to improving the score by using hyperparameter tuning technique."
      ],
      "metadata": {
        "id": "ctnr9FepURk1"
      }
    },
    {
      "cell_type": "code",
      "metadata": {
        "id": "evtxQtoczOK4"
      },
      "source": [
        "importances = xg_model.feature_importances_\n",
        "\n",
        "importance_dict = {'Feature' : list(X_train.columns),\n",
        "                   'Feature Importance' : importances}\n",
        "\n",
        "importance_df = pd.DataFrame(importance_dict)\n",
        "importance_df['Feature Importance'] = round(importance_df['Feature Importance'],2)"
      ],
      "execution_count": null,
      "outputs": []
    },
    {
      "cell_type": "code",
      "metadata": {
        "id": "YJoQ_0sUzOK5"
      },
      "source": [
        "importance_df.sort_values(by=['Feature Importance'],ascending=False)"
      ],
      "execution_count": null,
      "outputs": []
    },
    {
      "cell_type": "code",
      "metadata": {
        "id": "TaxEFDeUzOK5"
      },
      "source": [
        "features = X_train.columns\n",
        "importances = xg_model.feature_importances_\n",
        "indices = np.argsort(importances)"
      ],
      "execution_count": null,
      "outputs": []
    },
    {
      "cell_type": "code",
      "metadata": {
        "id": "UvYA_tJ3zOK6"
      },
      "source": [
        "plt.title('Feature Importance')\n",
        "plt.barh(range(len(indices)), importances[indices], color='red', align='center')\n",
        "plt.yticks(range(len(indices)), [features[i] for i in indices])\n",
        "plt.xlabel('Relative Importance')\n",
        "\n",
        "plt.show()"
      ],
      "execution_count": null,
      "outputs": []
    },
    {
      "cell_type": "markdown",
      "source": [
        "#### 2. Cross- Validation & Hyperparameter Tuning"
      ],
      "metadata": {
        "id": "9PIHJqyupx6M"
      }
    },
    {
      "cell_type": "code",
      "source": [
        "# ML Model - 3 Implementation with hyperparameter optimization techniques (i.e., GridSearch CV, RandomSearch CV, Bayesian Optimization etc.)\n",
        "# Number of trees\n",
        "n_estimators = [50,80,100]\n",
        "\n",
        "# Maximum depth of trees\n",
        "max_depth = [4,6,8]\n",
        "\n",
        "# Minimum number of samples required to split a node\n",
        "min_samples_split = [50,100,150]\n",
        "\n",
        "# Minimum number of samples required at each leaf node\n",
        "min_samples_leaf = [40,50]\n",
        "\n",
        "# HYperparameter Grid\n",
        "param_dict = {'n_estimators' : n_estimators,\n",
        "              'max_depth' : max_depth,\n",
        "              'min_samples_split' : min_samples_split,\n",
        "              'min_samples_leaf' : min_samples_leaf}\n",
        "\n",
        "# Create an instance of the RandomForestClassifier\n",
        "xg_model = XGBClassifier()\n",
        "\n",
        "# Fit the Algorithm\n",
        "# Grid search\n",
        "xg_grid = GridSearchCV(estimator=xg_model,\n",
        "                       param_grid = param_dict,\n",
        "                       cv = 5, verbose=2, scoring='roc_auc')\n",
        "\n",
        "xg_grid.fit(X_train,y_train)\n",
        "# Predict on the model\n",
        "# Making predictions on train and test data\n",
        "\n",
        "train_class_preds = xg_grid.predict(X_train)\n",
        "test_class_preds = xg_grid.predict(X_test)"
      ],
      "metadata": {
        "id": "eSVXuaSKpx6M"
      },
      "execution_count": null,
      "outputs": []
    },
    {
      "cell_type": "code",
      "source": [
        "print(\"Best: %f using %s\" % (xg_grid.best_score_, xg_grid.best_params_))"
      ],
      "metadata": {
        "id": "70UCwE6KzskE"
      },
      "execution_count": null,
      "outputs": []
    },
    {
      "cell_type": "code",
      "metadata": {
        "id": "wHazRuY_0RRK"
      },
      "source": [
        "# Visualizing evaluation Metric Score chart\n",
        "# Visualizing evaluation Metric Score chart# Get the confusion matrix for both train and test\n",
        "\n",
        "labels = ['Retained', 'Churned']\n",
        "cm = confusion_matrix(y_train, train_class_preds)\n",
        "print(cm)\n",
        "\n",
        "ax= plt.subplot()\n",
        "sns.heatmap(cm, annot=True, ax = ax) #annot=True to annotate cells\n",
        "\n",
        "# labels, title and ticks\n",
        "ax.set_xlabel('Predicted labels')\n",
        "ax.set_ylabel('True labels')\n",
        "ax.set_title('Confusion Matrix')\n",
        "ax.xaxis.set_ticklabels(labels)\n",
        "ax.yaxis.set_ticklabels(labels)"
      ],
      "execution_count": null,
      "outputs": []
    },
    {
      "cell_type": "code",
      "source": [
        "# Get the confusion matrix for both train and test\n",
        "\n",
        "labels = ['Retained', 'Churned']\n",
        "cm = confusion_matrix(y_test, test_class_preds)\n",
        "print(cm)\n",
        "\n",
        "ax= plt.subplot()\n",
        "sns.heatmap(cm, annot=True, ax = ax) #annot=True to annotate cells\n",
        "\n",
        "# labels, title and ticks\n",
        "ax.set_xlabel('Predicted labels')\n",
        "ax.set_ylabel('True labels')\n",
        "ax.set_title('Confusion Matrix')\n",
        "ax.xaxis.set_ticklabels(labels)\n",
        "ax.yaxis.set_ticklabels(labels)"
      ],
      "metadata": {
        "id": "t09GuUml0RRK"
      },
      "execution_count": null,
      "outputs": []
    },
    {
      "cell_type": "code",
      "source": [
        "print(metrics.classification_report(train_class_preds, y_train))\n",
        "print(\" \")\n",
        "\n",
        "print(\"roc_auc_score\")\n",
        "print(metrics.roc_auc_score(y_train, train_class_preds))"
      ],
      "metadata": {
        "id": "jbfBpu_y0RRK"
      },
      "execution_count": null,
      "outputs": []
    },
    {
      "cell_type": "code",
      "metadata": {
        "id": "Hglw0pWL0RRL"
      },
      "source": [
        "print(metrics.classification_report(test_class_preds, y_test))\n",
        "print(\" \")\n",
        "\n",
        "print(\"roc_auc_score\")\n",
        "print(metrics.roc_auc_score(y_test, test_class_preds))"
      ],
      "execution_count": null,
      "outputs": []
    },
    {
      "cell_type": "markdown",
      "source": [
        "##### Which hyperparameter optimization technique have you used and why?"
      ],
      "metadata": {
        "id": "_-qAgymDpx6N"
      }
    },
    {
      "cell_type": "markdown",
      "source": [
        "GridSearchCV which uses the Grid Search technique for finding the optimal hyperparameters to increase the model performance.\n",
        "\n",
        "our goal should be to find the best hyperparameters values to get the perfect prediction results from our model.  But the question arises, how to find these best sets of hyperparameters? One can try the Manual Search method, by using the hit and trial process and can find the best hyperparameters which would take huge time to build a single model.\n",
        "\n",
        "For this reason, methods like Random Search, GridSearch were introduced. \n",
        "Grid Search uses a different combination of all the specified hyperparameters and their values and calculates the performance for each combination and selects the best value for the hyperparameters. This makes the processing time-consuming and expensive based on the number of hyperparameters involved.\n",
        "\n",
        "In GridSearchCV, along with Grid Search, cross-validation is also performed. Cross-Validation is used while training the model. \n",
        "\n",
        "That's why I have used GridsearCV method for hyperparameter optimization."
      ],
      "metadata": {
        "id": "lQMffxkwpx6N"
      }
    },
    {
      "cell_type": "markdown",
      "source": [
        "##### Have you seen any improvement? Note down the improvement with updates Evaluation metric Score Chart."
      ],
      "metadata": {
        "id": "Z-hykwinpx6N"
      }
    },
    {
      "cell_type": "markdown",
      "source": [
        "For training dataset, i found precision of 100% and recall of 91% and f1-score of 95% for False Churn customer data. BUt, I am also interested to see the result for Churning cutomer result as I got precision of 46% and recall of 95% and f1-score of 62%. Accuracy is 92% and average percision, recall & f1_score are 73%, 93% and 79% respectively with a roc auc score of 72%.\n",
        "\n",
        "No improvement or decreament every score is constant as earlier.\n",
        "\n",
        "For testing dataset, i found precision of 99% and recall of 90% and f1-score of 94% for False Churn customer data. BUt, I am also interested to see the result for Churning cutomer result as I got precision of 35% and recall of 81% and f1-score of 49%. Accuracy is 90% and average percision, recall & f1_score are 67%, 86% and 72% respectively with a roc auc score of 66%.\n",
        "\n",
        "Quite improvemnt in recall, f1 score as well as average recall & f1 score by 1%."
      ],
      "metadata": {
        "id": "MzVzZC6opx6N"
      }
    },
    {
      "cell_type": "markdown",
      "source": [
        "### 1. Which Evaluation metrics did you consider for a positive business impact and why?"
      ],
      "metadata": {
        "id": "h_CCil-SKHpo"
      }
    },
    {
      "cell_type": "markdown",
      "source": [
        "I would like to go with both Recall and Precision and which describes both is F1 Score. \n",
        "\n",
        "To reduce false negative recall is important and to reduce false positives precision is important. Where both are important to be minimized, f1_score is being considered. False Positive is defined as the model predicted that the customer will churn but the customer didn't churn. But according to our model it will churn so, there would be quite chance of his churning not for immediate but after some times. So, for those type of customersw we cansend them some beneficial modified offers to retain them. Again false negative defines as model will predict that the customer womn't churn but the customer really churned. That will be an issue for us. So, for that case we have to minimize the false negative. and false positive we must improve the score of both precision as well as recall which should direclt affect the f1_score positively. So, in our case recall will stand the higher but precision can't be neglected. so, recall should be higher and f1_score should be moderate."
      ],
      "metadata": {
        "id": "6ksF5Q1LKTVm"
      }
    },
    {
      "cell_type": "markdown",
      "source": [
        "### 2. Which ML model did you choose from the above created models as your final prediction model and why?"
      ],
      "metadata": {
        "id": "cBFFvTBNJzUa"
      }
    },
    {
      "cell_type": "markdown",
      "source": [
        "I have choosen XGBoost model which is hyperparameter optimized. first of all I need accuracy for the churn prediction and time isn't a constrain here, beacuse the data is not lke swiggy or ola which booking needs to be faster. Thus, for greater accuracy we used kernel SVM, Random Forest, XgBoost kind of ensembel r=techniques. So, I tried both Random Forest and XGBoost. Here is their ealuation metrics and I would like to compare.\n",
        "\n",
        "![Screenshot 2022-06-19 at 7.56.37 PM.png](data:image/png;base64,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)"
      ],
      "metadata": {
        "id": "jHVz9hHDKFms"
      }
    },
    {
      "cell_type": "markdown",
      "source": [
        "From the above snap shot, we can clearly see that for XGBoost has a improved score of f1_score over random forest. the accuracy and roc auc score is also improved for xg boost. The recall might be high in random forest but when it comes to precision and f1_score for True Churn Data scores, it's very low and even in averge scores of precision and f1_score is too low. In case of xgboost it's higher than that of random forest. \n",
        "\n",
        "So, I have chosen XGBoost as the final prdiction model which should be deployed for real user interaction."
      ],
      "metadata": {
        "id": "h0DZUNlUa1-G"
      }
    },
    {
      "cell_type": "markdown",
      "source": [
        "### 3. Explain the model which you have used and the feature importance using any model explainability tool?"
      ],
      "metadata": {
        "id": "HvGl1hHyA_VK"
      }
    },
    {
      "cell_type": "code",
      "source": [
        "#Get shap values\n",
        "explainer = shap.Explainer(xg_model)\n",
        "shap_values = explainer(X_test) "
      ],
      "metadata": {
        "id": "HwMWtgHMcp2e"
      },
      "execution_count": null,
      "outputs": []
    },
    {
      "cell_type": "code",
      "source": [
        "# Waterfall plot for first observation\n",
        "shap.plots.waterfall(shap_values[0])"
      ],
      "metadata": {
        "id": "xsJ6cvtwdT6p"
      },
      "execution_count": null,
      "outputs": []
    },
    {
      "cell_type": "markdown",
      "source": [
        "To better understand this, let’s dive into our first SHAP plot. Below we have the code to create a waterfall plot for the first abalone in our dataset. This plot helps us visualise the SHAP values for each of the features. These tell us how much each of the features have increased or decreased the predicted number of rings for this specific abalone.\n",
        "\n",
        "Looking at the x-axis, we can see the base value is E[f(x)] = -1.94. This is the average predicted number of rings across all 2967 abalones. The ending value is f(x) = -0.396. This is the predicted churn type for this abalone. The SHAP values are all the values in between. For example, the international plan  increased the predicted class of churn type by 1.03 when compared to the Account Length.\n",
        "\n",
        "There will be a unique waterfall plot for every observation/abalone in our dataset. They can all be interpreted in the same way as above. In each case, the SHAP values tell us how much each factor contributed to the model’s prediction when compared to the mean prediction. Large positive/negative SHAP values indicate that the feature had a significant impact on the model’s prediction."
      ],
      "metadata": {
        "id": "kQZX0I3YeiQM"
      }
    },
    {
      "cell_type": "code",
      "source": [
        "# Initialize JavaScript visualizations in notebook environment\n",
        "shap.initjs()\n",
        "# Forceplot for first observation\n",
        "shap.plots.force(shap_values[0])"
      ],
      "metadata": {
        "id": "OEAwgQY5d6wJ"
      },
      "execution_count": null,
      "outputs": []
    },
    {
      "cell_type": "markdown",
      "source": [
        "Another way to visualise SHAP values is using a force plot. These give us pretty much the same information as a waterfall plot in a straight line how the geatures are contributiong and the relationship between the features. If one value value increases res will compress. you can see we start at the same base value of -1.94."
      ],
      "metadata": {
        "id": "a3J1xsxxgKO3"
      }
    },
    {
      "cell_type": "code",
      "source": [
        "# Get expected value and shap values array\n",
        "expected_value = explainer.expected_value\n",
        "shap_array = explainer.shap_values(X_test)\n",
        "\n",
        "#Descion plot for first 10 observations\n",
        "shap.decision_plot(expected_value, shap_array[0:10],feature_names=list(X_test.columns))"
      ],
      "metadata": {
        "id": "2WPLpsukeKMr"
      },
      "execution_count": null,
      "outputs": []
    },
    {
      "cell_type": "markdown",
      "source": [
        "Waterfall and force plots are great for interpreting individual predictions. To understand how our model makes predictions in general we need to aggregate the SHAP values. One way to do this is using a decision plot. Above we have the code used to output the decision plot for the first 10 abalones.\n",
        "\n",
        "we can see there are 10 lines in the plot —one for each abalone. They all start at the same base value of -1.94 and end at their final predicted number of rings. As you move up from each feature on the y-axis, the movement on the x-axis is given by the SHAP value for that feature. Ultimately, this gives you similar information to a waterfall plot except we can now see it for multiple observations.\n",
        "\n",
        "With only 10 observations, we can already see some trends. For example, some of the lines seem to zig-zag at the top of the chart. For these observations, the shucked weight increases the prediction (i.e. positive SHAP) and the shell weight and whole weight decrease the prediction (i.e. negative SHAP). In other words, these features have opposite effects on the prediction. When we look at plot 5 — beeswarm, we will see that this is the case for the model in general.\n",
        "\n",
        "An issue with this chart is that we can’t use it to visualise all the SHAP values at once. As you increase the number of observations it will become too cluttered and it will be difficult to gain any understanding of how the model works. We are limited to interpreting the SHAP values for a handful of observations."
      ],
      "metadata": {
        "id": "ZlCtCsFvgtxI"
      }
    },
    {
      "cell_type": "code",
      "source": [
        "#Mean SHAP\n",
        "shap.plots.bar(shap_values)"
      ],
      "metadata": {
        "id": "dlPe8NFNePY8"
      },
      "execution_count": null,
      "outputs": []
    },
    {
      "cell_type": "markdown",
      "source": [
        "Another way to aggregate the values is using a mean SHAP plot. For each feature, we calculate the mean of the absolute SHAP values across all observations. We take the absolute values as we do not want positive and negative values to offset each other. In the end, we have the bar plot above. There is one bar for each feature and we can see that shell weight had the largest mean SHAP out of all the features.\n",
        "\n",
        "Features that have large mean SHAP values will tend to have large positive/negative SHAP values. In other words, these are the features that have a significant impact on the model’s predictions. In this sense, this plot can be used in the same way as a feature importance plot. That is to highlight features that are important to a model’s predictions. An issue is that it does not tell us anything about the nature of the relationship between features and the target variable.\n",
        "\n"
      ],
      "metadata": {
        "id": "Tno74FAchBGd"
      }
    },
    {
      "cell_type": "code",
      "source": [
        "# Beeswarm plot\n",
        "shap.plots.beeswarm(shap_values)"
      ],
      "metadata": {
        "id": "qVYvFUBdeV2r"
      },
      "execution_count": null,
      "outputs": []
    },
    {
      "cell_type": "markdown",
      "source": [
        "Our final aggregation is the beeswarm plot. As seen in Figure, this is a plot of all the SHAP values. The values are grouped by the features on the y-axis. For each group, the colour of the points is determined by the value of the same feature (i.e. higher feature values are redder). The features are ordered by the mean SHAP values.\n",
        "\n",
        "This plot addresses some of the issues in the previous plots. Unlike the decision plot, we can plot all the observations and still have clear interpretations. Like mean SHAP, it can be used to highlight important relationships. We can also start to understand the nature of these relationships. For example, for Day_1call_duration notice how as the feature value increases the SHAP values increase.\n"
      ],
      "metadata": {
        "id": "cWCeVLZghnB-"
      }
    },
    {
      "cell_type": "markdown",
      "source": [
        "# **Conclusion**"
      ],
      "metadata": {
        "id": "gCX9965dhzqZ"
      }
    },
    {
      "cell_type": "markdown",
      "source": [
        "1. Here are some solution to Reduce Customer Churn\n",
        "\n",
        "* Modify International Plan as the charge is same as normal one.\n",
        "* Be proactive with communication.\n",
        "* Ask for feedback often.\n",
        "* Periodically throw Offers to retain customers.\n",
        "* Look at the customers facing problem in the most churning states.\n",
        "* Lean into best customers.\n",
        "* Regular Server Maintenance.\n",
        "* Solving Poor Network Connectivity Issue.\n",
        "* Define a roadmap for new customers.\n",
        "* Analyze churn when it happens.\n",
        "* Stay competitive.\n",
        "\n",
        "2. The four charge fields are linear functions of the minute fields.\n",
        "\n",
        "3. The area code field and/or the state field are anomalous, and can be omitted.\n",
        "\n",
        "4. Customers with the International Plan tend to churn more frequently.\n",
        "\n",
        "5. Customers with four or more customer service calls churn more than four times as often as do the other customers.\n",
        "\n",
        "6. Customers with high day minutes and evening minutes tend to churn at a higher rate than do the other customers.\n",
        "\n",
        "7. There is no obvious association of churn with the variables day calls, evening calls, night calls, international calls, night minutes, international minutes, account length, or voice mail messages.\n",
        "\n",
        "8. We can deploy the model with XGBoost algorithm. Because For training dataset, i found precision of 100% and recall of 91% and f1-score of 95% for False Churn customer data. BUt, I am also interested to see the result for Churning cutomer result as I got precision of 46% and recall of 95% and f1-score of 62%. Accuracy is 92% and average percision, recall & f1_score are 73%, 93% and 79% respectively with a roc auc score of 72%. For testing dataset, i found precision of 99% and recall of 90% and f1-score of 94% for False Churn customer data. BUt, I am also interested to see the result for Churning cutomer result as I got precision of 35% and recall of 81% and f1-score of 49%. Accuracy is 90% and average percision, recall & f1_score are 67%, 86% and 72% respectively with a roc auc score of 66%. It's the best performing model i found.\n",
        "\n",
        "9. No overfitting is seen.\n",
        "\n",
        "10. Due to less no. of data in the dataset, the scores are around 80%. Once we get more data we can retrain our algorithm for better performance."
      ],
      "metadata": {
        "id": "Fjb1IsQkh3yE"
      }
    },
    {
      "cell_type": "markdown",
      "source": [
        "### ***Hurrah! You have successfully completed your Machine Learning Capstone Project !!!***"
      ],
      "metadata": {
        "id": "gIfDvo9L0UH2"
      }
    }
  ]
}